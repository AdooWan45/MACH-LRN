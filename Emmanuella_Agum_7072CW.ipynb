{
  "cells": [
    {
      "cell_type": "markdown",
      "metadata": {
        "id": "vQCwrGI4iAfm"
      },
      "source": [
        "# Diet Patterns and Covid vulnerability: A Study of Dietary plans of Regions with Lower and Higher COVID-19 Cases, using Regressor Models to Optimize Diets, to boost Covid Resistance. \n",
        "dataset adapted from Maria Ren(Kaggle Datasets), COVID-19 Healthy Diet Dataset: Let's fight COVID-19 by adapting to a healthy diet!:\n",
        "https://www.kaggle.com/datasets/mariaren/covid19-healthy-diet-dataset\n",
        "\n",
        "by: Emmanuella Agum\n",
        "ID#: 13052809\n",
        "Title: Machine Learning Algorithms for Solving real-world classification and clustering problems.\n",
        "Individual Research Paper"
      ]
    },
    {
      "cell_type": "markdown",
      "metadata": {
        "id": "RjYocDIVSjeX"
      },
      "source": [
        "## Description:\n",
        "\n",
        "The objective of this dataset is to Identify key nutrients or food groups that may be particularly important for reducing the risk of severe infections from Covid-19. This could be done by training a machine learning model on a dataset of individuals(in this case, countries) with and without severe Covid-19 outcomes, and using their intake of specific nutrients or food groups as features to predict the outcome."
      ]
    },
    {
      "cell_type": "code",
      "execution_count": 2,
      "metadata": {
        "id": "YByRF46F6aui"
      },
      "outputs": [],
      "source": [
        "import numpy as np\n",
        "import pandas as pd\n",
        "import math\n",
        "from math import log\n",
        "from numpy import sort\n",
        "import matplotlib.pyplot as plt\n",
        "%matplotlib inline \n",
        "import seaborn as sns\n",
        "from sklearn.preprocessing import StandardScaler,LabelEncoder,OneHotEncoder\n",
        "from sklearn.model_selection import KFold,StratifiedKFold,train_test_split\n",
        "from imblearn.over_sampling import SMOTE\n",
        "import xgboost as xgb\n",
        "from sklearn.metrics import accuracy_score,f1_score,roc_auc_score,classification_report,confusion_matrix,roc_curve,auc\n",
        "from xgboost import plot_importance\n",
        "from sklearn.feature_selection import SelectFromModel\n",
        "from sklearn.linear_model import LogisticRegression\n",
        "from sklearn.tree import DecisionTreeClassifier\n",
        "from sklearn.naive_bayes import GaussianNB\n",
        "from sklearn.svm import SVC"
      ]
    },
    {
      "cell_type": "code",
      "execution_count": 3,
      "metadata": {
        "id": "EZIWVrAML5I3"
      },
      "outputs": [],
      "source": [
        "import matplotlib.pyplot as plt\n",
        "import seaborn as sns\n",
        "from sklearn.decomposition import PCA\n",
        "from sklearn.model_selection import train_test_split\n",
        "from collections import Counter"
      ]
    },
    {
      "cell_type": "markdown",
      "metadata": {
        "id": "4nPu4wpvh3OE"
      },
      "source": [
        "# Dataset loadings "
      ]
    },
    {
      "cell_type": "code",
      "execution_count": 4,
      "metadata": {
        "id": "xp0Xr4i8doPD"
      },
      "outputs": [],
      "source": [
        "pd.set_option('display.max_rows', None)\n",
        "pd.set_option('display.max_columns', None)"
      ]
    },
    {
      "cell_type": "code",
      "execution_count": 129,
      "metadata": {
        "id": "h4RN0xR5etOz"
      },
      "outputs": [],
      "source": [
        "#load the dataset\n",
        "# Fats = pd.read_csv('data/Fat_Supply_Quantity_Data.csv')\n",
        "# Supply = pd.read_csv('data/Food_Supply_Quantity_kg_Data.csv')\n",
        "# Calories = pd.read_csv('data/Food_Supply_kcal_Data.csv')\n",
        "# Protein = pd.read_csv('data/Protein_Supply_Quantity_Data.csv')\n",
        "URL_Fats = \"https://raw.githubusercontent.com/Chaboddunamis/HealthyDiet/main/archive%20(3)/Fat_Supply_Quantity_Data.csv\"\n",
        "URL_Food_Q = \"https://raw.githubusercontent.com/Chaboddunamis/HealthyDiet/main/archive%20(3)/Food_Supply_Quantity_kg_Data.csv\"\n",
        "URLFood_Kcal = \"https://raw.githubusercontent.com/Chaboddunamis/HealthyDiet/main/archive%20(3)/Food_Supply_kcal_Data.csv\"\n",
        "URL_protein = \"https://raw.githubusercontent.com/Chaboddunamis/HealthyDiet/main/archive%20(3)/Protein_Supply_Quantity_Data.csv\"\n",
        "Fats = pd.read_csv(URL_Fats)\n",
        "Supply = pd.read_csv(URL_Food_Q)\n",
        "calories = pd.read_csv(URLFood_Kcal)\n",
        "Protein = pd.read_csv(URL_protein)"
      ]
    },
    {
      "cell_type": "code",
      "execution_count": 6,
      "metadata": {
        "colab": {
          "base_uri": "https://localhost:8080/"
        },
        "id": "vwmmBoH_eDDs",
        "outputId": "8de5c916-e5b6-4337-e2cf-afe8a25c7de4"
      },
      "outputs": [
        {
          "output_type": "execute_result",
          "data": {
            "text/plain": [
              "Index(['Country', 'Alcoholic Beverages', 'Animal Products', 'Animal fats',\n",
              "       'Aquatic Products, Other', 'Cereals - Excluding Beer', 'Eggs',\n",
              "       'Fish, Seafood', 'Fruits - Excluding Wine', 'Meat', 'Miscellaneous',\n",
              "       'Milk - Excluding Butter', 'Offals', 'Oilcrops', 'Pulses', 'Spices',\n",
              "       'Starchy Roots', 'Stimulants', 'Sugar Crops', 'Sugar & Sweeteners',\n",
              "       'Treenuts', 'Vegetal Products', 'Vegetable Oils', 'Vegetables',\n",
              "       'Obesity', 'Undernourished', 'Confirmed', 'Deaths', 'Recovered',\n",
              "       'Active', 'Population', 'Unit (all except Population)'],\n",
              "      dtype='object')"
            ]
          },
          "metadata": {},
          "execution_count": 6
        }
      ],
      "source": [
        "Fats.columns # to see all the column variables, all four datasets are presented with the same features and size"
      ]
    },
    {
      "cell_type": "code",
      "execution_count": 7,
      "metadata": {
        "colab": {
          "base_uri": "https://localhost:8080/",
          "height": 399
        },
        "id": "IKoBn7D3KCsG",
        "outputId": "a890188f-fac4-4b1c-b6aa-378bf542de6a"
      },
      "outputs": [
        {
          "output_type": "execute_result",
          "data": {
            "text/plain": [
              "       Alcoholic Beverages  Animal Products  Animal fats  \\\n",
              "count           170.000000       170.000000   170.000000   \n",
              "mean              0.001035        20.695714     4.138451   \n",
              "std               0.009569         8.002713     3.287462   \n",
              "min               0.000000         5.018200     0.026200   \n",
              "25%               0.000000        14.885800     1.674225   \n",
              "50%               0.000000        20.943050     3.312350   \n",
              "75%               0.000000        26.866950     6.227575   \n",
              "max               0.097600        36.901800    14.937300   \n",
              "\n",
              "       Aquatic Products, Other  Cereals - Excluding Beer        Eggs  \\\n",
              "count               170.000000                170.000000  170.000000   \n",
              "mean                  0.000450                  4.376548    0.953890   \n",
              "std                   0.004039                  3.183815    0.643957   \n",
              "min                   0.000000                  0.990800    0.058000   \n",
              "25%                   0.000000                  1.970150    0.411350   \n",
              "50%                   0.000000                  3.306750    0.898300   \n",
              "75%                   0.000000                  5.587600    1.276900   \n",
              "max                   0.051100                 18.376300    3.275600   \n",
              "\n",
              "       Fish, Seafood  Fruits - Excluding Wine        Meat  Miscellaneous  \\\n",
              "count     170.000000               170.000000  170.000000     170.000000   \n",
              "mean        0.850437                 0.542117    9.494279       0.056589   \n",
              "std         0.924103                 0.838286    4.666762       0.072633   \n",
              "min         0.017400                 0.037300    0.906100       0.000000   \n",
              "25%         0.330975                 0.239500    6.263575       0.010125   \n",
              "50%         0.572700                 0.361400    9.259000       0.031650   \n",
              "75%         1.111625                 0.577800   11.750450       0.076325   \n",
              "max         8.406800                 9.672700   26.429200       0.456100   \n",
              "\n",
              "       Milk - Excluding Butter      Offals    Oilcrops      Pulses  \\\n",
              "count               170.000000  170.000000  170.000000  170.000000   \n",
              "mean                  5.109061    0.148904    3.327555    0.261032   \n",
              "std                   3.331668    0.113060    4.663950    0.368139   \n",
              "min                   0.177900    0.000000    0.064000    0.000000   \n",
              "25%                   2.219100    0.076625    0.847225    0.043250   \n",
              "50%                   4.947600    0.123550    1.688900    0.137100   \n",
              "75%                   7.322750    0.188875    3.511200    0.341575   \n",
              "max                  17.757600    0.726800   28.563900    2.690900   \n",
              "\n",
              "           Spices  Starchy Roots  Stimulants  Sugar Crops  Sugar & Sweeteners  \\\n",
              "count  170.000000     170.000000  170.000000   170.000000          170.000000   \n",
              "mean     0.281251       0.228279    0.644379     0.004108            0.001407   \n",
              "std      0.448822       0.364437    0.700193     0.022460            0.008384   \n",
              "min      0.000000       0.012400    0.000000     0.000000            0.000000   \n",
              "25%      0.037725       0.047875    0.113700     0.000000            0.000000   \n",
              "50%      0.102300       0.086250    0.390500     0.000000            0.000000   \n",
              "75%      0.344075       0.212425    0.915150     0.000000            0.000000   \n",
              "max      2.685100       2.177800    3.383800     0.189200            0.081300   \n",
              "\n",
              "         Treenuts  Vegetal Products  Vegetable Oils  Vegetables     Obesity  \\\n",
              "count  170.000000        170.000000      170.000000  170.000000  167.000000   \n",
              "mean     0.698955         29.304396       18.571657    0.309512   18.707784   \n",
              "std      0.814828          8.002369        6.766615    0.211766    9.633557   \n",
              "min      0.000000         13.098200        4.954900    0.026300    2.100000   \n",
              "25%      0.137350         23.133050       13.812825    0.173675    8.500000   \n",
              "50%      0.452400         29.060600       18.192550    0.247450   21.200000   \n",
              "75%      0.914025         35.117250       23.597300    0.362925   25.700000   \n",
              "max      4.975600         44.981800       36.418600    1.153800   45.600000   \n",
              "\n",
              "        Confirmed      Deaths   Recovered      Active    Population  \n",
              "count  164.000000  164.000000  164.000000  162.000000  1.700000e+02  \n",
              "mean     2.021972    0.039370    1.452356    0.535158  4.452364e+07  \n",
              "std      2.360454    0.048718    1.927617    1.329249  1.564182e+08  \n",
              "min      0.000312    0.000000    0.000000    0.000000  5.400000e+04  \n",
              "25%      0.140976    0.002013    0.099107    0.012028  2.816250e+06  \n",
              "50%      1.011570    0.011998    0.475402    0.081040  1.018150e+07  \n",
              "75%      3.487069    0.069503    2.622874    0.358183  3.271625e+07  \n",
              "max     10.408199    0.185428    9.039871    8.019819  1.402385e+09  "
            ],
            "text/html": [
              "\n",
              "  <div id=\"df-8cccb8eb-cd72-40a2-90f6-7e99a744ed59\">\n",
              "    <div class=\"colab-df-container\">\n",
              "      <div>\n",
              "<style scoped>\n",
              "    .dataframe tbody tr th:only-of-type {\n",
              "        vertical-align: middle;\n",
              "    }\n",
              "\n",
              "    .dataframe tbody tr th {\n",
              "        vertical-align: top;\n",
              "    }\n",
              "\n",
              "    .dataframe thead th {\n",
              "        text-align: right;\n",
              "    }\n",
              "</style>\n",
              "<table border=\"1\" class=\"dataframe\">\n",
              "  <thead>\n",
              "    <tr style=\"text-align: right;\">\n",
              "      <th></th>\n",
              "      <th>Alcoholic Beverages</th>\n",
              "      <th>Animal Products</th>\n",
              "      <th>Animal fats</th>\n",
              "      <th>Aquatic Products, Other</th>\n",
              "      <th>Cereals - Excluding Beer</th>\n",
              "      <th>Eggs</th>\n",
              "      <th>Fish, Seafood</th>\n",
              "      <th>Fruits - Excluding Wine</th>\n",
              "      <th>Meat</th>\n",
              "      <th>Miscellaneous</th>\n",
              "      <th>Milk - Excluding Butter</th>\n",
              "      <th>Offals</th>\n",
              "      <th>Oilcrops</th>\n",
              "      <th>Pulses</th>\n",
              "      <th>Spices</th>\n",
              "      <th>Starchy Roots</th>\n",
              "      <th>Stimulants</th>\n",
              "      <th>Sugar Crops</th>\n",
              "      <th>Sugar &amp; Sweeteners</th>\n",
              "      <th>Treenuts</th>\n",
              "      <th>Vegetal Products</th>\n",
              "      <th>Vegetable Oils</th>\n",
              "      <th>Vegetables</th>\n",
              "      <th>Obesity</th>\n",
              "      <th>Confirmed</th>\n",
              "      <th>Deaths</th>\n",
              "      <th>Recovered</th>\n",
              "      <th>Active</th>\n",
              "      <th>Population</th>\n",
              "    </tr>\n",
              "  </thead>\n",
              "  <tbody>\n",
              "    <tr>\n",
              "      <th>count</th>\n",
              "      <td>170.000000</td>\n",
              "      <td>170.000000</td>\n",
              "      <td>170.000000</td>\n",
              "      <td>170.000000</td>\n",
              "      <td>170.000000</td>\n",
              "      <td>170.000000</td>\n",
              "      <td>170.000000</td>\n",
              "      <td>170.000000</td>\n",
              "      <td>170.000000</td>\n",
              "      <td>170.000000</td>\n",
              "      <td>170.000000</td>\n",
              "      <td>170.000000</td>\n",
              "      <td>170.000000</td>\n",
              "      <td>170.000000</td>\n",
              "      <td>170.000000</td>\n",
              "      <td>170.000000</td>\n",
              "      <td>170.000000</td>\n",
              "      <td>170.000000</td>\n",
              "      <td>170.000000</td>\n",
              "      <td>170.000000</td>\n",
              "      <td>170.000000</td>\n",
              "      <td>170.000000</td>\n",
              "      <td>170.000000</td>\n",
              "      <td>167.000000</td>\n",
              "      <td>164.000000</td>\n",
              "      <td>164.000000</td>\n",
              "      <td>164.000000</td>\n",
              "      <td>162.000000</td>\n",
              "      <td>1.700000e+02</td>\n",
              "    </tr>\n",
              "    <tr>\n",
              "      <th>mean</th>\n",
              "      <td>0.001035</td>\n",
              "      <td>20.695714</td>\n",
              "      <td>4.138451</td>\n",
              "      <td>0.000450</td>\n",
              "      <td>4.376548</td>\n",
              "      <td>0.953890</td>\n",
              "      <td>0.850437</td>\n",
              "      <td>0.542117</td>\n",
              "      <td>9.494279</td>\n",
              "      <td>0.056589</td>\n",
              "      <td>5.109061</td>\n",
              "      <td>0.148904</td>\n",
              "      <td>3.327555</td>\n",
              "      <td>0.261032</td>\n",
              "      <td>0.281251</td>\n",
              "      <td>0.228279</td>\n",
              "      <td>0.644379</td>\n",
              "      <td>0.004108</td>\n",
              "      <td>0.001407</td>\n",
              "      <td>0.698955</td>\n",
              "      <td>29.304396</td>\n",
              "      <td>18.571657</td>\n",
              "      <td>0.309512</td>\n",
              "      <td>18.707784</td>\n",
              "      <td>2.021972</td>\n",
              "      <td>0.039370</td>\n",
              "      <td>1.452356</td>\n",
              "      <td>0.535158</td>\n",
              "      <td>4.452364e+07</td>\n",
              "    </tr>\n",
              "    <tr>\n",
              "      <th>std</th>\n",
              "      <td>0.009569</td>\n",
              "      <td>8.002713</td>\n",
              "      <td>3.287462</td>\n",
              "      <td>0.004039</td>\n",
              "      <td>3.183815</td>\n",
              "      <td>0.643957</td>\n",
              "      <td>0.924103</td>\n",
              "      <td>0.838286</td>\n",
              "      <td>4.666762</td>\n",
              "      <td>0.072633</td>\n",
              "      <td>3.331668</td>\n",
              "      <td>0.113060</td>\n",
              "      <td>4.663950</td>\n",
              "      <td>0.368139</td>\n",
              "      <td>0.448822</td>\n",
              "      <td>0.364437</td>\n",
              "      <td>0.700193</td>\n",
              "      <td>0.022460</td>\n",
              "      <td>0.008384</td>\n",
              "      <td>0.814828</td>\n",
              "      <td>8.002369</td>\n",
              "      <td>6.766615</td>\n",
              "      <td>0.211766</td>\n",
              "      <td>9.633557</td>\n",
              "      <td>2.360454</td>\n",
              "      <td>0.048718</td>\n",
              "      <td>1.927617</td>\n",
              "      <td>1.329249</td>\n",
              "      <td>1.564182e+08</td>\n",
              "    </tr>\n",
              "    <tr>\n",
              "      <th>min</th>\n",
              "      <td>0.000000</td>\n",
              "      <td>5.018200</td>\n",
              "      <td>0.026200</td>\n",
              "      <td>0.000000</td>\n",
              "      <td>0.990800</td>\n",
              "      <td>0.058000</td>\n",
              "      <td>0.017400</td>\n",
              "      <td>0.037300</td>\n",
              "      <td>0.906100</td>\n",
              "      <td>0.000000</td>\n",
              "      <td>0.177900</td>\n",
              "      <td>0.000000</td>\n",
              "      <td>0.064000</td>\n",
              "      <td>0.000000</td>\n",
              "      <td>0.000000</td>\n",
              "      <td>0.012400</td>\n",
              "      <td>0.000000</td>\n",
              "      <td>0.000000</td>\n",
              "      <td>0.000000</td>\n",
              "      <td>0.000000</td>\n",
              "      <td>13.098200</td>\n",
              "      <td>4.954900</td>\n",
              "      <td>0.026300</td>\n",
              "      <td>2.100000</td>\n",
              "      <td>0.000312</td>\n",
              "      <td>0.000000</td>\n",
              "      <td>0.000000</td>\n",
              "      <td>0.000000</td>\n",
              "      <td>5.400000e+04</td>\n",
              "    </tr>\n",
              "    <tr>\n",
              "      <th>25%</th>\n",
              "      <td>0.000000</td>\n",
              "      <td>14.885800</td>\n",
              "      <td>1.674225</td>\n",
              "      <td>0.000000</td>\n",
              "      <td>1.970150</td>\n",
              "      <td>0.411350</td>\n",
              "      <td>0.330975</td>\n",
              "      <td>0.239500</td>\n",
              "      <td>6.263575</td>\n",
              "      <td>0.010125</td>\n",
              "      <td>2.219100</td>\n",
              "      <td>0.076625</td>\n",
              "      <td>0.847225</td>\n",
              "      <td>0.043250</td>\n",
              "      <td>0.037725</td>\n",
              "      <td>0.047875</td>\n",
              "      <td>0.113700</td>\n",
              "      <td>0.000000</td>\n",
              "      <td>0.000000</td>\n",
              "      <td>0.137350</td>\n",
              "      <td>23.133050</td>\n",
              "      <td>13.812825</td>\n",
              "      <td>0.173675</td>\n",
              "      <td>8.500000</td>\n",
              "      <td>0.140976</td>\n",
              "      <td>0.002013</td>\n",
              "      <td>0.099107</td>\n",
              "      <td>0.012028</td>\n",
              "      <td>2.816250e+06</td>\n",
              "    </tr>\n",
              "    <tr>\n",
              "      <th>50%</th>\n",
              "      <td>0.000000</td>\n",
              "      <td>20.943050</td>\n",
              "      <td>3.312350</td>\n",
              "      <td>0.000000</td>\n",
              "      <td>3.306750</td>\n",
              "      <td>0.898300</td>\n",
              "      <td>0.572700</td>\n",
              "      <td>0.361400</td>\n",
              "      <td>9.259000</td>\n",
              "      <td>0.031650</td>\n",
              "      <td>4.947600</td>\n",
              "      <td>0.123550</td>\n",
              "      <td>1.688900</td>\n",
              "      <td>0.137100</td>\n",
              "      <td>0.102300</td>\n",
              "      <td>0.086250</td>\n",
              "      <td>0.390500</td>\n",
              "      <td>0.000000</td>\n",
              "      <td>0.000000</td>\n",
              "      <td>0.452400</td>\n",
              "      <td>29.060600</td>\n",
              "      <td>18.192550</td>\n",
              "      <td>0.247450</td>\n",
              "      <td>21.200000</td>\n",
              "      <td>1.011570</td>\n",
              "      <td>0.011998</td>\n",
              "      <td>0.475402</td>\n",
              "      <td>0.081040</td>\n",
              "      <td>1.018150e+07</td>\n",
              "    </tr>\n",
              "    <tr>\n",
              "      <th>75%</th>\n",
              "      <td>0.000000</td>\n",
              "      <td>26.866950</td>\n",
              "      <td>6.227575</td>\n",
              "      <td>0.000000</td>\n",
              "      <td>5.587600</td>\n",
              "      <td>1.276900</td>\n",
              "      <td>1.111625</td>\n",
              "      <td>0.577800</td>\n",
              "      <td>11.750450</td>\n",
              "      <td>0.076325</td>\n",
              "      <td>7.322750</td>\n",
              "      <td>0.188875</td>\n",
              "      <td>3.511200</td>\n",
              "      <td>0.341575</td>\n",
              "      <td>0.344075</td>\n",
              "      <td>0.212425</td>\n",
              "      <td>0.915150</td>\n",
              "      <td>0.000000</td>\n",
              "      <td>0.000000</td>\n",
              "      <td>0.914025</td>\n",
              "      <td>35.117250</td>\n",
              "      <td>23.597300</td>\n",
              "      <td>0.362925</td>\n",
              "      <td>25.700000</td>\n",
              "      <td>3.487069</td>\n",
              "      <td>0.069503</td>\n",
              "      <td>2.622874</td>\n",
              "      <td>0.358183</td>\n",
              "      <td>3.271625e+07</td>\n",
              "    </tr>\n",
              "    <tr>\n",
              "      <th>max</th>\n",
              "      <td>0.097600</td>\n",
              "      <td>36.901800</td>\n",
              "      <td>14.937300</td>\n",
              "      <td>0.051100</td>\n",
              "      <td>18.376300</td>\n",
              "      <td>3.275600</td>\n",
              "      <td>8.406800</td>\n",
              "      <td>9.672700</td>\n",
              "      <td>26.429200</td>\n",
              "      <td>0.456100</td>\n",
              "      <td>17.757600</td>\n",
              "      <td>0.726800</td>\n",
              "      <td>28.563900</td>\n",
              "      <td>2.690900</td>\n",
              "      <td>2.685100</td>\n",
              "      <td>2.177800</td>\n",
              "      <td>3.383800</td>\n",
              "      <td>0.189200</td>\n",
              "      <td>0.081300</td>\n",
              "      <td>4.975600</td>\n",
              "      <td>44.981800</td>\n",
              "      <td>36.418600</td>\n",
              "      <td>1.153800</td>\n",
              "      <td>45.600000</td>\n",
              "      <td>10.408199</td>\n",
              "      <td>0.185428</td>\n",
              "      <td>9.039871</td>\n",
              "      <td>8.019819</td>\n",
              "      <td>1.402385e+09</td>\n",
              "    </tr>\n",
              "  </tbody>\n",
              "</table>\n",
              "</div>\n",
              "      <button class=\"colab-df-convert\" onclick=\"convertToInteractive('df-8cccb8eb-cd72-40a2-90f6-7e99a744ed59')\"\n",
              "              title=\"Convert this dataframe to an interactive table.\"\n",
              "              style=\"display:none;\">\n",
              "        \n",
              "  <svg xmlns=\"http://www.w3.org/2000/svg\" height=\"24px\"viewBox=\"0 0 24 24\"\n",
              "       width=\"24px\">\n",
              "    <path d=\"M0 0h24v24H0V0z\" fill=\"none\"/>\n",
              "    <path d=\"M18.56 5.44l.94 2.06.94-2.06 2.06-.94-2.06-.94-.94-2.06-.94 2.06-2.06.94zm-11 1L8.5 8.5l.94-2.06 2.06-.94-2.06-.94L8.5 2.5l-.94 2.06-2.06.94zm10 10l.94 2.06.94-2.06 2.06-.94-2.06-.94-.94-2.06-.94 2.06-2.06.94z\"/><path d=\"M17.41 7.96l-1.37-1.37c-.4-.4-.92-.59-1.43-.59-.52 0-1.04.2-1.43.59L10.3 9.45l-7.72 7.72c-.78.78-.78 2.05 0 2.83L4 21.41c.39.39.9.59 1.41.59.51 0 1.02-.2 1.41-.59l7.78-7.78 2.81-2.81c.8-.78.8-2.07 0-2.86zM5.41 20L4 18.59l7.72-7.72 1.47 1.35L5.41 20z\"/>\n",
              "  </svg>\n",
              "      </button>\n",
              "      \n",
              "  <style>\n",
              "    .colab-df-container {\n",
              "      display:flex;\n",
              "      flex-wrap:wrap;\n",
              "      gap: 12px;\n",
              "    }\n",
              "\n",
              "    .colab-df-convert {\n",
              "      background-color: #E8F0FE;\n",
              "      border: none;\n",
              "      border-radius: 50%;\n",
              "      cursor: pointer;\n",
              "      display: none;\n",
              "      fill: #1967D2;\n",
              "      height: 32px;\n",
              "      padding: 0 0 0 0;\n",
              "      width: 32px;\n",
              "    }\n",
              "\n",
              "    .colab-df-convert:hover {\n",
              "      background-color: #E2EBFA;\n",
              "      box-shadow: 0px 1px 2px rgba(60, 64, 67, 0.3), 0px 1px 3px 1px rgba(60, 64, 67, 0.15);\n",
              "      fill: #174EA6;\n",
              "    }\n",
              "\n",
              "    [theme=dark] .colab-df-convert {\n",
              "      background-color: #3B4455;\n",
              "      fill: #D2E3FC;\n",
              "    }\n",
              "\n",
              "    [theme=dark] .colab-df-convert:hover {\n",
              "      background-color: #434B5C;\n",
              "      box-shadow: 0px 1px 3px 1px rgba(0, 0, 0, 0.15);\n",
              "      filter: drop-shadow(0px 1px 2px rgba(0, 0, 0, 0.3));\n",
              "      fill: #FFFFFF;\n",
              "    }\n",
              "  </style>\n",
              "\n",
              "      <script>\n",
              "        const buttonEl =\n",
              "          document.querySelector('#df-8cccb8eb-cd72-40a2-90f6-7e99a744ed59 button.colab-df-convert');\n",
              "        buttonEl.style.display =\n",
              "          google.colab.kernel.accessAllowed ? 'block' : 'none';\n",
              "\n",
              "        async function convertToInteractive(key) {\n",
              "          const element = document.querySelector('#df-8cccb8eb-cd72-40a2-90f6-7e99a744ed59');\n",
              "          const dataTable =\n",
              "            await google.colab.kernel.invokeFunction('convertToInteractive',\n",
              "                                                     [key], {});\n",
              "          if (!dataTable) return;\n",
              "\n",
              "          const docLinkHtml = 'Like what you see? Visit the ' +\n",
              "            '<a target=\"_blank\" href=https://colab.research.google.com/notebooks/data_table.ipynb>data table notebook</a>'\n",
              "            + ' to learn more about interactive tables.';\n",
              "          element.innerHTML = '';\n",
              "          dataTable['output_type'] = 'display_data';\n",
              "          await google.colab.output.renderOutput(dataTable, element);\n",
              "          const docLink = document.createElement('div');\n",
              "          docLink.innerHTML = docLinkHtml;\n",
              "          element.appendChild(docLink);\n",
              "        }\n",
              "      </script>\n",
              "    </div>\n",
              "  </div>\n",
              "  "
            ]
          },
          "metadata": {},
          "execution_count": 7
        }
      ],
      "source": [
        "Fats.describe()"
      ]
    },
    {
      "cell_type": "code",
      "execution_count": 9,
      "metadata": {
        "id": "8F-pZ7Pyq0aB"
      },
      "outputs": [],
      "source": [
        "Diets = Fats.copy()\n",
        "Diets1 = Supply.copy()\n",
        "Diets2 = calories.copy()\n",
        "Diets3 = Protein.copy()"
      ]
    },
    {
      "cell_type": "markdown",
      "source": [
        "# Data Cleaning and preprocessing"
      ],
      "metadata": {
        "id": "ctlgpIbBydkZ"
      }
    },
    {
      "cell_type": "markdown",
      "source": [
        "This section is highly required as it has to deal with the 4 consecutive datasets that have to be applied with topic at hand. Thus, there will be merging of datasets to become one for proper analysis."
      ],
      "metadata": {
        "id": "oVogFvnaymDv"
      }
    },
    {
      "cell_type": "code",
      "source": [
        "Diets.shape"
      ],
      "metadata": {
        "colab": {
          "base_uri": "https://localhost:8080/"
        },
        "id": "j6iYgIzxgSKC",
        "outputId": "89e98304-a885-416a-8585-3b01dadfe59c"
      },
      "execution_count": 131,
      "outputs": [
        {
          "output_type": "execute_result",
          "data": {
            "text/plain": [
              "(170, 27)"
            ]
          },
          "metadata": {},
          "execution_count": 131
        }
      ]
    },
    {
      "cell_type": "code",
      "execution_count": 10,
      "metadata": {
        "colab": {
          "base_uri": "https://localhost:8080/"
        },
        "id": "ouj0HcxcKM7P",
        "outputId": "ccb789c0-3679-48ca-bffe-f46bcc073659"
      },
      "outputs": [
        {
          "output_type": "execute_result",
          "data": {
            "text/plain": [
              "Country                         0\n",
              "Alcoholic Beverages             0\n",
              "Animal Products                 0\n",
              "Animal fats                     0\n",
              "Aquatic Products, Other         0\n",
              "Cereals - Excluding Beer        0\n",
              "Eggs                            0\n",
              "Fish, Seafood                   0\n",
              "Fruits - Excluding Wine         0\n",
              "Meat                            0\n",
              "Miscellaneous                   0\n",
              "Milk - Excluding Butter         0\n",
              "Offals                          0\n",
              "Oilcrops                        0\n",
              "Pulses                          0\n",
              "Spices                          0\n",
              "Starchy Roots                   0\n",
              "Stimulants                      0\n",
              "Sugar Crops                     0\n",
              "Sugar & Sweeteners              0\n",
              "Treenuts                        0\n",
              "Vegetal Products                0\n",
              "Vegetable Oils                  0\n",
              "Vegetables                      0\n",
              "Obesity                         3\n",
              "Undernourished                  7\n",
              "Confirmed                       6\n",
              "Deaths                          6\n",
              "Recovered                       6\n",
              "Active                          8\n",
              "Population                      0\n",
              "Unit (all except Population)    0\n",
              "dtype: int64"
            ]
          },
          "metadata": {},
          "execution_count": 10
        }
      ],
      "source": [
        "Diets.isnull().sum()"
      ]
    },
    {
      "cell_type": "code",
      "execution_count": 11,
      "metadata": {
        "id": "i2k9oh_6lLCl"
      },
      "outputs": [],
      "source": [
        "# replace the missing values\n",
        "Diets.replace(0.0000, np.nan, inplace=True)\n",
        "Diets1.replace(0.0000, np.nan, inplace=True)\n",
        "Diets2.replace(0.0000, np.nan, inplace=True)\n",
        "Diets3.replace(0.0000, np.nan, inplace=True)"
      ]
    },
    {
      "cell_type": "code",
      "execution_count": 12,
      "metadata": {
        "colab": {
          "base_uri": "https://localhost:8080/"
        },
        "id": "HSGo_TVIrmQq",
        "outputId": "e9ae32ed-0419-45e0-b244-62b2b66279df"
      },
      "outputs": [
        {
          "output_type": "execute_result",
          "data": {
            "text/plain": [
              "Country                           0\n",
              "Alcoholic Beverages             168\n",
              "Animal Products                   0\n",
              "Animal fats                       0\n",
              "Aquatic Products, Other         165\n",
              "Cereals - Excluding Beer          0\n",
              "Eggs                              0\n",
              "Fish, Seafood                     0\n",
              "Fruits - Excluding Wine           0\n",
              "Meat                              0\n",
              "Miscellaneous                    22\n",
              "Milk - Excluding Butter           0\n",
              "Offals                            2\n",
              "Oilcrops                          0\n",
              "Pulses                            7\n",
              "Spices                           11\n",
              "Starchy Roots                     0\n",
              "Stimulants                        2\n",
              "Sugar Crops                     160\n",
              "Sugar & Sweeteners              162\n",
              "Treenuts                          8\n",
              "Vegetal Products                  0\n",
              "Vegetable Oils                    0\n",
              "Vegetables                        0\n",
              "Obesity                           3\n",
              "Undernourished                    7\n",
              "Confirmed                         6\n",
              "Deaths                           14\n",
              "Recovered                        10\n",
              "Active                           11\n",
              "Population                        0\n",
              "Unit (all except Population)      0\n",
              "dtype: int64"
            ]
          },
          "metadata": {},
          "execution_count": 12
        }
      ],
      "source": [
        "Diets.isnull().sum()\n"
      ]
    },
    {
      "cell_type": "code",
      "execution_count": 13,
      "metadata": {
        "colab": {
          "base_uri": "https://localhost:8080/"
        },
        "id": "0Kvg5brsm5LD",
        "outputId": "c00c206b-c0cd-42c0-8f81-9208050d4852"
      },
      "outputs": [
        {
          "output_type": "execute_result",
          "data": {
            "text/plain": [
              "Country                           0\n",
              "Alcoholic Beverages               3\n",
              "Animal fats                       0\n",
              "Animal Products                   0\n",
              "Aquatic Products, Other          97\n",
              "Cereals - Excluding Beer          0\n",
              "Eggs                              0\n",
              "Fish, Seafood                     0\n",
              "Fruits - Excluding Wine           0\n",
              "Meat                              0\n",
              "Milk - Excluding Butter           0\n",
              "Miscellaneous                    13\n",
              "Offals                            1\n",
              "Oilcrops                          0\n",
              "Pulses                            1\n",
              "Spices                            3\n",
              "Starchy Roots                     0\n",
              "Stimulants                        0\n",
              "Sugar & Sweeteners                0\n",
              "Sugar Crops                     141\n",
              "Treenuts                          9\n",
              "Vegetable Oils                    0\n",
              "Vegetables                        0\n",
              "Vegetal Products                  0\n",
              "Obesity                           3\n",
              "Undernourished                    7\n",
              "Confirmed                         6\n",
              "Deaths                           14\n",
              "Recovered                        10\n",
              "Active                           11\n",
              "Population                        0\n",
              "Unit (all except Population)      0\n",
              "dtype: int64"
            ]
          },
          "metadata": {},
          "execution_count": 13
        }
      ],
      "source": [
        "Diets1.isnull().sum()"
      ]
    },
    {
      "cell_type": "code",
      "execution_count": 14,
      "metadata": {
        "colab": {
          "base_uri": "https://localhost:8080/"
        },
        "id": "m7F4EVz5m5DL",
        "outputId": "65500ffd-2efb-482c-aa96-3e2b63703c4c"
      },
      "outputs": [
        {
          "output_type": "execute_result",
          "data": {
            "text/plain": [
              "Country                           0\n",
              "Alcoholic Beverages              10\n",
              "Animal Products                   0\n",
              "Animal fats                       2\n",
              "Aquatic Products, Other         166\n",
              "Cereals - Excluding Beer          0\n",
              "Eggs                              0\n",
              "Fish, Seafood                     1\n",
              "Fruits - Excluding Wine           0\n",
              "Meat                              0\n",
              "Milk - Excluding Butter           0\n",
              "Miscellaneous                    22\n",
              "Offals                            3\n",
              "Oilcrops                          0\n",
              "Pulses                            6\n",
              "Spices                           18\n",
              "Starchy Roots                     0\n",
              "Stimulants                        3\n",
              "Sugar Crops                     150\n",
              "Sugar & Sweeteners                0\n",
              "Treenuts                         20\n",
              "Vegetal Products                  0\n",
              "Vegetable Oils                    0\n",
              "Vegetables                        0\n",
              "Obesity                           3\n",
              "Undernourished                    7\n",
              "Confirmed                         6\n",
              "Deaths                           14\n",
              "Recovered                        10\n",
              "Active                           11\n",
              "Population                        0\n",
              "Unit (all except Population)      0\n",
              "dtype: int64"
            ]
          },
          "metadata": {},
          "execution_count": 14
        }
      ],
      "source": [
        "Diets2.isnull().sum()"
      ]
    },
    {
      "cell_type": "code",
      "execution_count": 15,
      "metadata": {
        "colab": {
          "base_uri": "https://localhost:8080/"
        },
        "id": "PO17w056m4Fj",
        "outputId": "bd558cca-a3cd-402e-96a2-6c2ecd431e9a"
      },
      "outputs": [
        {
          "output_type": "execute_result",
          "data": {
            "text/plain": [
              "Country                           0\n",
              "Alcoholic Beverages              13\n",
              "Animal Products                   0\n",
              "Animal fats                       6\n",
              "Aquatic Products, Other         143\n",
              "Cereals - Excluding Beer          0\n",
              "Eggs                              0\n",
              "Fish, Seafood                     0\n",
              "Fruits - Excluding Wine           0\n",
              "Meat                              0\n",
              "Milk - Excluding Butter           0\n",
              "Offals                            1\n",
              "Oilcrops                          0\n",
              "Pulses                            1\n",
              "Spices                           10\n",
              "Starchy Roots                     0\n",
              "Stimulants                        0\n",
              "Sugar Crops                     149\n",
              "Sugar & Sweeteners              106\n",
              "Treenuts                         14\n",
              "Vegetal Products                  0\n",
              "Vegetable Oils                   38\n",
              "Vegetables                        0\n",
              "Miscellaneous                    17\n",
              "Obesity                           3\n",
              "Undernourished                    7\n",
              "Confirmed                         6\n",
              "Deaths                           14\n",
              "Recovered                        10\n",
              "Active                           11\n",
              "Population                        0\n",
              "Unit (all except Population)      0\n",
              "dtype: int64"
            ]
          },
          "metadata": {},
          "execution_count": 15
        }
      ],
      "source": [
        "Diets3.isnull().sum()"
      ]
    },
    {
      "cell_type": "code",
      "execution_count": 16,
      "metadata": {
        "id": "Bx7qhIrfrJeG"
      },
      "outputs": [],
      "source": [
        "#drop the high volume columns from each of the dataset and those not required\n",
        "Diets.drop(columns=['Alcoholic Beverages','Aquatic Products, Other','Sugar Crops','Sugar & Sweeteners','Unit (all except Population)'], inplace=True, axis=1)\n"
      ]
    },
    {
      "cell_type": "code",
      "execution_count": 17,
      "metadata": {
        "id": "2P9PpnY4qI70"
      },
      "outputs": [],
      "source": [
        "Diets1.drop(columns=['Alcoholic Beverages','Aquatic Products, Other','Sugar Crops','Sugar & Sweeteners','Unit (all except Population)'], inplace=True, axis=1)\n"
      ]
    },
    {
      "cell_type": "code",
      "execution_count": 18,
      "metadata": {
        "id": "IVSmlKyrtUUP"
      },
      "outputs": [],
      "source": [
        "Diets2.drop(columns=['Alcoholic Beverages','Aquatic Products, Other','Sugar Crops','Sugar & Sweeteners','Unit (all except Population)'], inplace=True, axis=1)"
      ]
    },
    {
      "cell_type": "code",
      "execution_count": 19,
      "metadata": {
        "id": "FNNKdhtdtUFo"
      },
      "outputs": [],
      "source": [
        "Diets3.drop(columns=['Alcoholic Beverages','Aquatic Products, Other','Sugar Crops','Sugar & Sweeteners','Unit (all except Population)'], inplace=True, axis=1)"
      ]
    },
    {
      "cell_type": "code",
      "execution_count": 20,
      "metadata": {
        "colab": {
          "base_uri": "https://localhost:8080/"
        },
        "id": "VA2o0Y6LR6x4",
        "outputId": "f81a8c12-9f87-42ab-d277-ea408894fc89"
      },
      "outputs": [
        {
          "output_type": "execute_result",
          "data": {
            "text/plain": [
              "Country                      0\n",
              "Animal Products              0\n",
              "Animal fats                  0\n",
              "Cereals - Excluding Beer     0\n",
              "Eggs                         0\n",
              "Fish, Seafood                0\n",
              "Fruits - Excluding Wine      0\n",
              "Meat                         0\n",
              "Miscellaneous               22\n",
              "Milk - Excluding Butter      0\n",
              "Offals                       2\n",
              "Oilcrops                     0\n",
              "Pulses                       7\n",
              "Spices                      11\n",
              "Starchy Roots                0\n",
              "Stimulants                   2\n",
              "Treenuts                     8\n",
              "Vegetal Products             0\n",
              "Vegetable Oils               0\n",
              "Vegetables                   0\n",
              "Obesity                      3\n",
              "Undernourished               7\n",
              "Confirmed                    6\n",
              "Deaths                      14\n",
              "Recovered                   10\n",
              "Active                      11\n",
              "Population                   0\n",
              "dtype: int64"
            ]
          },
          "metadata": {},
          "execution_count": 20
        }
      ],
      "source": [
        "Diets.isnull().sum() # apply to other datasets as well"
      ]
    },
    {
      "cell_type": "code",
      "execution_count": 21,
      "metadata": {
        "colab": {
          "base_uri": "https://localhost:8080/"
        },
        "id": "0SweNrzO98Mk",
        "outputId": "1826a334-44cf-47c4-add9-2c2e15e06177"
      },
      "outputs": [
        {
          "output_type": "stream",
          "name": "stdout",
          "text": [
            "<class 'pandas.core.frame.DataFrame'>\n",
            "RangeIndex: 170 entries, 0 to 169\n",
            "Data columns (total 27 columns):\n",
            " #   Column                    Non-Null Count  Dtype  \n",
            "---  ------                    --------------  -----  \n",
            " 0   Country                   170 non-null    object \n",
            " 1   Animal Products           170 non-null    float64\n",
            " 2   Animal fats               170 non-null    float64\n",
            " 3   Cereals - Excluding Beer  170 non-null    float64\n",
            " 4   Eggs                      170 non-null    float64\n",
            " 5   Fish, Seafood             170 non-null    float64\n",
            " 6   Fruits - Excluding Wine   170 non-null    float64\n",
            " 7   Meat                      170 non-null    float64\n",
            " 8   Miscellaneous             148 non-null    float64\n",
            " 9   Milk - Excluding Butter   170 non-null    float64\n",
            " 10  Offals                    168 non-null    float64\n",
            " 11  Oilcrops                  170 non-null    float64\n",
            " 12  Pulses                    163 non-null    float64\n",
            " 13  Spices                    159 non-null    float64\n",
            " 14  Starchy Roots             170 non-null    float64\n",
            " 15  Stimulants                168 non-null    float64\n",
            " 16  Treenuts                  162 non-null    float64\n",
            " 17  Vegetal Products          170 non-null    float64\n",
            " 18  Vegetable Oils            170 non-null    float64\n",
            " 19  Vegetables                170 non-null    float64\n",
            " 20  Obesity                   167 non-null    float64\n",
            " 21  Undernourished            163 non-null    object \n",
            " 22  Confirmed                 164 non-null    float64\n",
            " 23  Deaths                    156 non-null    float64\n",
            " 24  Recovered                 160 non-null    float64\n",
            " 25  Active                    159 non-null    float64\n",
            " 26  Population                170 non-null    float64\n",
            "dtypes: float64(25), object(2)\n",
            "memory usage: 36.0+ KB\n"
          ]
        }
      ],
      "source": [
        "Diets.info() #applicable to other datasets"
      ]
    },
    {
      "cell_type": "code",
      "source": [
        "Diets.duplicated().sum() #applicable to the others"
      ],
      "metadata": {
        "colab": {
          "base_uri": "https://localhost:8080/"
        },
        "id": "D497jIBZxBJx",
        "outputId": "6138641a-3be6-4063-e084-fa21ae3be9e5"
      },
      "execution_count": 22,
      "outputs": [
        {
          "output_type": "execute_result",
          "data": {
            "text/plain": [
              "0"
            ]
          },
          "metadata": {},
          "execution_count": 22
        }
      ]
    },
    {
      "cell_type": "code",
      "source": [
        "Diets.nunique() #applicable to the others"
      ],
      "metadata": {
        "colab": {
          "base_uri": "https://localhost:8080/"
        },
        "id": "tgTslPKnxA4K",
        "outputId": "2c8b925e-e262-42b0-e6e3-bf799ff8501d"
      },
      "execution_count": 23,
      "outputs": [
        {
          "output_type": "execute_result",
          "data": {
            "text/plain": [
              "Country                     170\n",
              "Animal Products             170\n",
              "Animal fats                 169\n",
              "Cereals - Excluding Beer    170\n",
              "Eggs                        169\n",
              "Fish, Seafood               170\n",
              "Fruits - Excluding Wine     168\n",
              "Meat                        170\n",
              "Miscellaneous               136\n",
              "Milk - Excluding Butter     169\n",
              "Offals                      166\n",
              "Oilcrops                    170\n",
              "Pulses                      159\n",
              "Spices                      154\n",
              "Starchy Roots               166\n",
              "Stimulants                  168\n",
              "Treenuts                    161\n",
              "Vegetal Products            170\n",
              "Vegetable Oils              170\n",
              "Vegetables                  168\n",
              "Obesity                     120\n",
              "Undernourished               98\n",
              "Confirmed                   164\n",
              "Deaths                      156\n",
              "Recovered                   160\n",
              "Active                      159\n",
              "Population                  170\n",
              "dtype: int64"
            ]
          },
          "metadata": {},
          "execution_count": 23
        }
      ]
    },
    {
      "cell_type": "code",
      "execution_count": 24,
      "metadata": {
        "id": "fYS3tA7kIzXT"
      },
      "outputs": [],
      "source": [
        "Diets['Undernourished'] = pd.to_numeric(Diets['Undernourished'], errors='coerce') #this transformation required because of the object type of the variables within"
      ]
    },
    {
      "cell_type": "code",
      "execution_count": 25,
      "metadata": {
        "colab": {
          "base_uri": "https://localhost:8080/"
        },
        "id": "AL-bvUsY71Gj",
        "outputId": "d82881c1-9be1-4d4e-c85f-42782725ff2d"
      },
      "outputs": [
        {
          "output_type": "execute_result",
          "data": {
            "text/plain": [
              "0.5452554126120951"
            ]
          },
          "metadata": {},
          "execution_count": 25
        }
      ],
      "source": [
        "# finding the Nan means of each columns; each code has to be run single-handedly, but for this report, after the achieved results, it has been truncated to one cell\n",
        "Diets['Miscellaneous'].mean()\n",
        "Diets['Offals'].mean()\n",
        "Diets['Pulses'].mean()\n",
        "Diets['Spices'].mean()\n",
        "Diets['Stimulants'].mean()\n",
        "Diets['Treenuts'].mean()\n",
        "Diets['Obesity'].mean()\n",
        "Diets['Undernourished'].mean()\n",
        "Diets['Confirmed'].mean()\n",
        "Diets['Deaths'].mean()\n",
        "Diets['Recovered'].mean()\n",
        "Diets['Active'].mean()"
      ]
    },
    {
      "cell_type": "code",
      "execution_count": 26,
      "metadata": {
        "id": "HLX4QmdW7ezj"
      },
      "outputs": [],
      "source": [
        "# Applying each result from the above to its quantifier.\n",
        "values = {'Miscellaneous': 0.06500135135135135, 'Offals': 0.15067678571428572,'Pulses': 0.27224171779141104, 'Spices': 0.30070817610062894,'Stimulants': 0.65205, 'Treenuts': 0.733470987654321, 'Obesity': 18.707784431137725, 'Undernourished': 14.457142857142857,'Confirmed': 2.0219723157079272, 'Deaths': 0.04138856200208834, 'Recovered': 1.4886645961714557, 'Active': 0.5452554126120951}"
      ]
    },
    {
      "cell_type": "code",
      "execution_count": 27,
      "metadata": {
        "id": "dEDPPEv59Mks",
        "colab": {
          "base_uri": "https://localhost:8080/"
        },
        "outputId": "b4a135c0-d87c-4b54-e242-b5e6208a3efb"
      },
      "outputs": [
        {
          "output_type": "execute_result",
          "data": {
            "text/plain": [
              "Country                     0\n",
              "Animal Products             0\n",
              "Animal fats                 0\n",
              "Cereals - Excluding Beer    0\n",
              "Eggs                        0\n",
              "Fish, Seafood               0\n",
              "Fruits - Excluding Wine     0\n",
              "Meat                        0\n",
              "Miscellaneous               0\n",
              "Milk - Excluding Butter     0\n",
              "Offals                      0\n",
              "Oilcrops                    0\n",
              "Pulses                      0\n",
              "Spices                      0\n",
              "Starchy Roots               0\n",
              "Stimulants                  0\n",
              "Treenuts                    0\n",
              "Vegetal Products            0\n",
              "Vegetable Oils              0\n",
              "Vegetables                  0\n",
              "Obesity                     0\n",
              "Undernourished              0\n",
              "Confirmed                   0\n",
              "Deaths                      0\n",
              "Recovered                   0\n",
              "Active                      0\n",
              "Population                  0\n",
              "dtype: int64"
            ]
          },
          "metadata": {},
          "execution_count": 27
        }
      ],
      "source": [
        "#fill Nan as values\n",
        "Diets.fillna(value = values, inplace=True)\n",
        "\n",
        "#check if the nulls have been filled\n",
        "Diets.isnull().sum() # Null values have been filled with mean co-efficients"
      ]
    },
    {
      "cell_type": "markdown",
      "source": [
        "Repeat the same for the remaining 3 datasets as they all contain null values"
      ],
      "metadata": {
        "id": "2-IYVzH30LJT"
      }
    },
    {
      "cell_type": "code",
      "execution_count": 28,
      "metadata": {
        "id": "lT8tJ_omSoU_"
      },
      "outputs": [],
      "source": [
        "Diets1['Undernourished'] = pd.to_numeric(Diets1['Undernourished'], errors='coerce')"
      ]
    },
    {
      "cell_type": "code",
      "execution_count": 29,
      "metadata": {
        "colab": {
          "base_uri": "https://localhost:8080/"
        },
        "id": "LmjzgKDhSI-F",
        "outputId": "deb8ee71-e352-4a21-d62d-85338023495c"
      },
      "outputs": [
        {
          "output_type": "execute_result",
          "data": {
            "text/plain": [
              "0.5452554126120951"
            ]
          },
          "metadata": {},
          "execution_count": 29
        }
      ],
      "source": [
        "Diets1['Miscellaneous'].mean()\n",
        "Diets1['Offals'].mean()\n",
        "Diets1['Pulses'].mean()\n",
        "Diets1['Spices'].mean()\n",
        "Diets1['Stimulants'].mean()\n",
        "Diets1['Treenuts'].mean()\n",
        "Diets1['Obesity'].mean()\n",
        "Diets1['Undernourished'].mean()\n",
        "Diets1['Confirmed'].mean()\n",
        "Diets1['Deaths'].mean()\n",
        "Diets1['Recovered'].mean()\n",
        "Diets1['Active'].mean()"
      ]
    },
    {
      "cell_type": "code",
      "execution_count": 30,
      "metadata": {
        "id": "EetUklbXTBoE"
      },
      "outputs": [],
      "source": [
        "values1 = {'Miscellaneous': 0.4798140127388535, 'Offals': 0.19457928994082838,'Pulses': 0.5403094674556213, 'Spices': 0.09264610778443114,'Stimulants': 0.20194647058823528, 'Treenuts': 0.12404037267080746, 'Obesity': 18.707784431137725, 'Undernourished': 14.457142857142857,'Confirmed': 2.0219723157079272, 'Deaths': 0.04138856200208834, 'Recovered': 1.4886645961714557, 'Active': 0.5452554126120951}"
      ]
    },
    {
      "cell_type": "code",
      "execution_count": 31,
      "metadata": {
        "id": "5b5vJZ9iTBja",
        "colab": {
          "base_uri": "https://localhost:8080/"
        },
        "outputId": "48a7882a-b67f-475e-a2f3-f5db91702e10"
      },
      "outputs": [
        {
          "output_type": "execute_result",
          "data": {
            "text/plain": [
              "Country                     0\n",
              "Animal fats                 0\n",
              "Animal Products             0\n",
              "Cereals - Excluding Beer    0\n",
              "Eggs                        0\n",
              "Fish, Seafood               0\n",
              "Fruits - Excluding Wine     0\n",
              "Meat                        0\n",
              "Milk - Excluding Butter     0\n",
              "Miscellaneous               0\n",
              "Offals                      0\n",
              "Oilcrops                    0\n",
              "Pulses                      0\n",
              "Spices                      0\n",
              "Starchy Roots               0\n",
              "Stimulants                  0\n",
              "Treenuts                    0\n",
              "Vegetable Oils              0\n",
              "Vegetables                  0\n",
              "Vegetal Products            0\n",
              "Obesity                     0\n",
              "Undernourished              0\n",
              "Confirmed                   0\n",
              "Deaths                      0\n",
              "Recovered                   0\n",
              "Active                      0\n",
              "Population                  0\n",
              "dtype: int64"
            ]
          },
          "metadata": {},
          "execution_count": 31
        }
      ],
      "source": [
        "Diets1.fillna(value = values1, inplace=True)\n",
        "\n",
        "Diets1.isnull().sum()"
      ]
    },
    {
      "cell_type": "code",
      "execution_count": 32,
      "metadata": {
        "id": "1X6k69NhTBWB"
      },
      "outputs": [],
      "source": [
        "Diets2['Undernourished'] = pd.to_numeric(Diets2['Undernourished'], errors='coerce')"
      ]
    },
    {
      "cell_type": "code",
      "execution_count": 33,
      "metadata": {
        "colab": {
          "base_uri": "https://localhost:8080/"
        },
        "id": "w54zHcR1TB2S",
        "outputId": "691f98ab-f72e-453b-ca96-e16d8bf205eb"
      },
      "outputs": [
        {
          "output_type": "execute_result",
          "data": {
            "text/plain": [
              "0.5452554126120951"
            ]
          },
          "metadata": {},
          "execution_count": 33
        }
      ],
      "source": [
        "Diets2['Animal fats'].mean()\n",
        "Diets2['Fish, Seafood'].mean()\n",
        "Diets2['Miscellaneous'].mean()\n",
        "Diets2['Offals'].mean()\n",
        "Diets2['Pulses'].mean()\n",
        "Diets2['Spices'].mean()\n",
        "Diets2['Stimulants'].mean()\n",
        "Diets2['Treenuts'].mean()\n",
        "Diets2['Obesity'].mean()\n",
        "Diets2['Undernourished'].mean()\n",
        "Diets2['Confirmed'].mean()\n",
        "Diets2['Deaths'].mean()\n",
        "Diets2['Recovered'].mean()\n",
        "Diets2['Active'].mean()"
      ]
    },
    {
      "cell_type": "code",
      "execution_count": 34,
      "metadata": {
        "id": "_b4yMB0oTAtn"
      },
      "outputs": [],
      "source": [
        "values2 = {'Animal fats': 1.282507738095238,'Fish, Seafood': 0.6352372781065089,'Miscellaneous': 0.18300945945945946, 'Offals': 0.1437568862275449,'Pulses': 1.1494560975609758, 'Spices': 0.2048967105263158,'Stimulants': 0.31086047904191616, 'Treenuts': 0.29650133333333334, 'Obesity': 18.707784431137725, 'Undernourished': 14.457142857142857,'Confirmed': 2.0219723157079272, 'Deaths': 0.04138856200208834, 'Recovered': 1.4886645961714557, 'Active': 0.5452554126120951}"
      ]
    },
    {
      "cell_type": "code",
      "execution_count": 35,
      "metadata": {
        "id": "HprfBycFTApB",
        "colab": {
          "base_uri": "https://localhost:8080/"
        },
        "outputId": "326f65d7-f3c8-422d-950b-76e28189af8e"
      },
      "outputs": [
        {
          "output_type": "execute_result",
          "data": {
            "text/plain": [
              "Country                     0\n",
              "Animal Products             0\n",
              "Animal fats                 0\n",
              "Cereals - Excluding Beer    0\n",
              "Eggs                        0\n",
              "Fish, Seafood               0\n",
              "Fruits - Excluding Wine     0\n",
              "Meat                        0\n",
              "Milk - Excluding Butter     0\n",
              "Miscellaneous               0\n",
              "Offals                      0\n",
              "Oilcrops                    0\n",
              "Pulses                      0\n",
              "Spices                      0\n",
              "Starchy Roots               0\n",
              "Stimulants                  0\n",
              "Treenuts                    0\n",
              "Vegetal Products            0\n",
              "Vegetable Oils              0\n",
              "Vegetables                  0\n",
              "Obesity                     0\n",
              "Undernourished              0\n",
              "Confirmed                   0\n",
              "Deaths                      0\n",
              "Recovered                   0\n",
              "Active                      0\n",
              "Population                  0\n",
              "dtype: int64"
            ]
          },
          "metadata": {},
          "execution_count": 35
        }
      ],
      "source": [
        "Diets2.fillna(value = values2, inplace=True)\n",
        "\n",
        "Diets2.isnull().sum()"
      ]
    },
    {
      "cell_type": "code",
      "execution_count": 36,
      "metadata": {
        "id": "f6MDWD1MTAci"
      },
      "outputs": [],
      "source": [
        "Diets3['Undernourished'] = pd.to_numeric(Diets3['Undernourished'], errors='coerce')"
      ]
    },
    {
      "cell_type": "code",
      "execution_count": 37,
      "metadata": {
        "colab": {
          "base_uri": "https://localhost:8080/"
        },
        "id": "l3E9vy8JTBs8",
        "outputId": "5b55640c-a154-4e1a-c9e5-a66d3621fba7"
      },
      "outputs": [
        {
          "output_type": "execute_result",
          "data": {
            "text/plain": [
              "0.5452554126120951"
            ]
          },
          "metadata": {},
          "execution_count": 37
        }
      ],
      "source": [
        "Diets3['Animal fats'].mean()\n",
        "Diets3['Offals'].mean()\n",
        "Diets3['Pulses'].mean()\n",
        "Diets3['Spices'].mean()\n",
        "Diets3['Treenuts'].mean()\n",
        "Diets3['Vegetable Oils'].mean()\n",
        "Diets3['Miscellaneous'].mean()\n",
        "Diets3['Obesity'].mean()\n",
        "Diets3['Undernourished'].mean()\n",
        "Diets3['Confirmed'].mean()\n",
        "Diets3['Deaths'].mean()\n",
        "Diets3['Recovered'].mean()\n",
        "Diets3['Active'].mean()"
      ]
    },
    {
      "cell_type": "code",
      "execution_count": 38,
      "metadata": {
        "id": "tTpd2VqyS_wJ"
      },
      "outputs": [],
      "source": [
        "values3 = {'Animal fats': 0.11218841463414633,'Miscellaneous': 0.2020516339869281, 'Offals': 0.7780118343195267,'Pulses': 2.6718307692307692, 'Spices': 0.24629000000000004,'Vegetable Oils': 0.026793939393939398, 'Treenuts': 0.26551346153846156, 'Obesity': 18.707784431137725, 'Undernourished': 14.457142857142857,'Confirmed': 2.0219723157079272, 'Deaths': 0.04138856200208834, 'Recovered': 1.4886645961714557, 'Active': 0.5452554126120951}"
      ]
    },
    {
      "cell_type": "code",
      "execution_count": 39,
      "metadata": {
        "id": "W2IQjWHISU17",
        "colab": {
          "base_uri": "https://localhost:8080/"
        },
        "outputId": "0a9697b1-2397-44a7-95fd-fea17f07e106"
      },
      "outputs": [
        {
          "output_type": "execute_result",
          "data": {
            "text/plain": [
              "Country                     0\n",
              "Animal Products             0\n",
              "Animal fats                 0\n",
              "Cereals - Excluding Beer    0\n",
              "Eggs                        0\n",
              "Fish, Seafood               0\n",
              "Fruits - Excluding Wine     0\n",
              "Meat                        0\n",
              "Milk - Excluding Butter     0\n",
              "Offals                      0\n",
              "Oilcrops                    0\n",
              "Pulses                      0\n",
              "Spices                      0\n",
              "Starchy Roots               0\n",
              "Stimulants                  0\n",
              "Treenuts                    0\n",
              "Vegetal Products            0\n",
              "Vegetable Oils              0\n",
              "Vegetables                  0\n",
              "Miscellaneous               0\n",
              "Obesity                     0\n",
              "Undernourished              0\n",
              "Confirmed                   0\n",
              "Deaths                      0\n",
              "Recovered                   0\n",
              "Active                      0\n",
              "Population                  0\n",
              "dtype: int64"
            ]
          },
          "metadata": {},
          "execution_count": 39
        }
      ],
      "source": [
        "Diets3.fillna(value = values3, inplace=True)\n",
        "\n",
        "Diets3.isnull().sum()"
      ]
    },
    {
      "cell_type": "code",
      "execution_count": 40,
      "metadata": {
        "colab": {
          "base_uri": "https://localhost:8080/"
        },
        "id": "_X2celAzFHDs",
        "outputId": "43ef1dc7-d2be-448d-a911-8ae6c9a4927e"
      },
      "outputs": [
        {
          "output_type": "execute_result",
          "data": {
            "text/plain": [
              "Index(['Country', 'Animal Products', 'Animal fats', 'Cereals - Excluding Beer',\n",
              "       'Eggs', 'Fish, Seafood', 'Fruits - Excluding Wine', 'Meat',\n",
              "       'Miscellaneous', 'Milk - Excluding Butter', 'Offals', 'Oilcrops',\n",
              "       'Pulses', 'Spices', 'Starchy Roots', 'Stimulants', 'Treenuts',\n",
              "       'Vegetal Products', 'Vegetable Oils', 'Vegetables', 'Obesity',\n",
              "       'Undernourished', 'Confirmed', 'Deaths', 'Recovered', 'Active',\n",
              "       'Population'],\n",
              "      dtype='object')"
            ]
          },
          "metadata": {},
          "execution_count": 40
        }
      ],
      "source": [
        "Diets.columns"
      ]
    },
    {
      "cell_type": "code",
      "execution_count": 41,
      "metadata": {
        "id": "cet2Me8eEw0w"
      },
      "outputs": [],
      "source": [
        "# This stage is to realign all the columns as similar as in each dataset (noticed misplaced columns in all datasets after the Fats dataset uploaded)\n",
        "columns_order = ['Country', 'Animal Products', 'Animal fats', 'Cereals - Excluding Beer',\n",
        "       'Eggs', 'Fish, Seafood', 'Fruits - Excluding Wine', 'Meat',\n",
        "       'Miscellaneous', 'Milk - Excluding Butter', 'Offals', 'Oilcrops',\n",
        "       'Pulses', 'Spices', 'Starchy Roots', 'Stimulants', 'Treenuts',\n",
        "       'Vegetal Products', 'Vegetable Oils', 'Vegetables', 'Obesity',\n",
        "       'Undernourished', 'Confirmed', 'Deaths', 'Recovered', 'Active',\n",
        "       'Population', 'Unit (all except Population)']\n",
        "\n",
        "Fats = Diets.reindex(columns=columns_order)\n",
        "Supply = Diets1.reindex(columns=columns_order)\n",
        "Calories = Diets2.reindex(columns=columns_order)\n",
        "Protein = Diets3.reindex(columns=columns_order)"
      ]
    },
    {
      "cell_type": "code",
      "execution_count": 42,
      "metadata": {
        "colab": {
          "base_uri": "https://localhost:8080/"
        },
        "id": "YfhQKmgrGLqw",
        "outputId": "2f21101f-b501-450f-de06-d20c9ec042b1"
      },
      "outputs": [
        {
          "output_type": "execute_result",
          "data": {
            "text/plain": [
              "Index(['Country', 'Animal Products', 'Animal fats', 'Cereals - Excluding Beer',\n",
              "       'Eggs', 'Fish, Seafood', 'Fruits - Excluding Wine', 'Meat',\n",
              "       'Miscellaneous', 'Milk - Excluding Butter', 'Offals', 'Oilcrops',\n",
              "       'Pulses', 'Spices', 'Starchy Roots', 'Stimulants', 'Treenuts',\n",
              "       'Vegetal Products', 'Vegetable Oils', 'Vegetables', 'Obesity',\n",
              "       'Undernourished', 'Confirmed', 'Deaths', 'Recovered', 'Active',\n",
              "       'Population', 'Unit (all except Population)'],\n",
              "      dtype='object')"
            ]
          },
          "metadata": {},
          "execution_count": 42
        }
      ],
      "source": [
        "# Check for conformity\n",
        "Fats.columns"
      ]
    },
    {
      "cell_type": "code",
      "execution_count": 43,
      "metadata": {
        "colab": {
          "base_uri": "https://localhost:8080/"
        },
        "id": "DdlAQwJLGSMF",
        "outputId": "2213005b-8edb-4372-937f-2e1e735852b6"
      },
      "outputs": [
        {
          "output_type": "execute_result",
          "data": {
            "text/plain": [
              "Index(['Country', 'Animal Products', 'Animal fats', 'Cereals - Excluding Beer',\n",
              "       'Eggs', 'Fish, Seafood', 'Fruits - Excluding Wine', 'Meat',\n",
              "       'Miscellaneous', 'Milk - Excluding Butter', 'Offals', 'Oilcrops',\n",
              "       'Pulses', 'Spices', 'Starchy Roots', 'Stimulants', 'Treenuts',\n",
              "       'Vegetal Products', 'Vegetable Oils', 'Vegetables', 'Obesity',\n",
              "       'Undernourished', 'Confirmed', 'Deaths', 'Recovered', 'Active',\n",
              "       'Population', 'Unit (all except Population)'],\n",
              "      dtype='object')"
            ]
          },
          "metadata": {},
          "execution_count": 43
        }
      ],
      "source": [
        "Supply.columns"
      ]
    },
    {
      "cell_type": "code",
      "execution_count": 44,
      "metadata": {
        "colab": {
          "base_uri": "https://localhost:8080/"
        },
        "id": "CZGeYQmIGa5s",
        "outputId": "d7f34ae1-1cf3-4157-c0c9-47de836228fa"
      },
      "outputs": [
        {
          "output_type": "execute_result",
          "data": {
            "text/plain": [
              "Index(['Country', 'Animal Products', 'Animal fats', 'Cereals - Excluding Beer',\n",
              "       'Eggs', 'Fish, Seafood', 'Fruits - Excluding Wine', 'Meat',\n",
              "       'Miscellaneous', 'Milk - Excluding Butter', 'Offals', 'Oilcrops',\n",
              "       'Pulses', 'Spices', 'Starchy Roots', 'Stimulants', 'Treenuts',\n",
              "       'Vegetal Products', 'Vegetable Oils', 'Vegetables', 'Obesity',\n",
              "       'Undernourished', 'Confirmed', 'Deaths', 'Recovered', 'Active',\n",
              "       'Population', 'Unit (all except Population)'],\n",
              "      dtype='object')"
            ]
          },
          "metadata": {},
          "execution_count": 44
        }
      ],
      "source": [
        "Protein.columns"
      ]
    },
    {
      "cell_type": "code",
      "source": [
        "Calories.columns"
      ],
      "metadata": {
        "colab": {
          "base_uri": "https://localhost:8080/"
        },
        "id": "ikIbWojaBDaP",
        "outputId": "24862a8d-051c-4f64-f604-f131b7cc34dd"
      },
      "execution_count": 45,
      "outputs": [
        {
          "output_type": "execute_result",
          "data": {
            "text/plain": [
              "Index(['Country', 'Animal Products', 'Animal fats', 'Cereals - Excluding Beer',\n",
              "       'Eggs', 'Fish, Seafood', 'Fruits - Excluding Wine', 'Meat',\n",
              "       'Miscellaneous', 'Milk - Excluding Butter', 'Offals', 'Oilcrops',\n",
              "       'Pulses', 'Spices', 'Starchy Roots', 'Stimulants', 'Treenuts',\n",
              "       'Vegetal Products', 'Vegetable Oils', 'Vegetables', 'Obesity',\n",
              "       'Undernourished', 'Confirmed', 'Deaths', 'Recovered', 'Active',\n",
              "       'Population', 'Unit (all except Population)'],\n",
              "      dtype='object')"
            ]
          },
          "metadata": {},
          "execution_count": 45
        }
      ]
    },
    {
      "cell_type": "code",
      "execution_count": 46,
      "metadata": {
        "id": "vtsCusCqGsdK",
        "colab": {
          "base_uri": "https://localhost:8080/"
        },
        "outputId": "b9bbd7a2-c744-4969-e79c-fc0959ce6b96"
      },
      "outputs": [
        {
          "output_type": "stream",
          "name": "stdout",
          "text": [
            "                        level_1  Animal Products  Animal fats  \\\n",
            "Country     Categories                                          \n",
            "Afghanistan Fats              0          21.6397       6.2224   \n",
            "Albania     Fats              1          32.0002       3.4172   \n",
            "\n",
            "                        Cereals - Excluding Beer    Eggs  Fish, Seafood  \\\n",
            "Country     Categories                                                    \n",
            "Afghanistan Fats                          8.0353  0.6859         0.0327   \n",
            "Albania     Fats                          2.6734  1.6448         0.1445   \n",
            "\n",
            "                        Fruits - Excluding Wine    Meat  Miscellaneous  \\\n",
            "Country     Categories                                                   \n",
            "Afghanistan Fats                         0.4246  6.1244         0.0163   \n",
            "Albania     Fats                         0.6418  8.7428         0.0170   \n",
            "\n",
            "                        Milk - Excluding Butter  Offals  Oilcrops  Pulses  \\\n",
            "Country     Categories                                                      \n",
            "Afghanistan Fats                         8.2803  0.3103    1.0452  0.1960   \n",
            "Albania     Fats                        17.7576  0.2933    3.1622  0.1148   \n",
            "\n",
            "                          Spices  Starchy Roots  Stimulants  Treenuts  \\\n",
            "Country     Categories                                                  \n",
            "Afghanistan Fats        0.277600          0.049       0.098    0.7513   \n",
            "Albania     Fats        0.300708          0.051       0.527    0.9181   \n",
            "\n",
            "                        Vegetal Products  Vegetable Oils  Vegetables  Obesity  \\\n",
            "Country     Categories                                                          \n",
            "Afghanistan Fats                 28.3684         17.0831      0.3593      4.5   \n",
            "Albania     Fats                 17.9998          9.2443      0.6503     22.3   \n",
            "\n",
            "                        Undernourished  Confirmed    Deaths  Recovered  \\\n",
            "Country     Categories                                                   \n",
            "Afghanistan Fats                  29.8   0.142134  0.006186   0.123374   \n",
            "Albania     Fats                   6.2   2.967301  0.050951   1.792636   \n",
            "\n",
            "                          Active  Population  Unit (all except Population)  \n",
            "Country     Categories                                                      \n",
            "Afghanistan Fats        0.012574  38928000.0                           NaN  \n",
            "Albania     Fats        1.123714   2838000.0                           NaN  \n"
          ]
        }
      ],
      "source": [
        "# Merging the datasets into One main dataset/frame\n",
        "Diet_type_list = [Fats, Supply, Calories, Protein]\n",
        "\n",
        "# concatenate the dataframes\n",
        "Diet_type = pd.concat(Diet_type_list, axis=0, keys=('Fats', 'Supply', 'Calories', 'Protein'), names=['Categories'])\n",
        "\n",
        "# reset the index and set the index levels in the desired order\n",
        "Diet_type = Diet_type.reset_index().rename(columns={'index': 'Country'})\n",
        "Diet_type = Diet_type.set_index(['Country', 'Categories'])\n",
        "\n",
        "# check the result\n",
        "print(Diet_type.head(2))"
      ]
    },
    {
      "cell_type": "markdown",
      "metadata": {
        "id": "d60bb_uRZJj4"
      },
      "source": [
        "## EDA Exploratory Data Analysis"
      ]
    },
    {
      "cell_type": "code",
      "execution_count": 47,
      "metadata": {
        "colab": {
          "base_uri": "https://localhost:8080/",
          "height": 399
        },
        "id": "KOUCfRf7QQG6",
        "outputId": "a42e1c89-d064-4281-bdae-443fde59129b"
      },
      "outputs": [
        {
          "output_type": "execute_result",
          "data": {
            "text/plain": [
              "          level_1  Animal Products  Animal fats  Cereals - Excluding Beer  \\\n",
              "count  680.000000       680.000000   680.000000                680.000000   \n",
              "mean    84.500000        15.851073     1.438553                 13.891795   \n",
              "std     49.110047         8.542243     2.400585                  8.519904   \n",
              "min      0.000000         1.623700     0.001000                  0.990800   \n",
              "25%     42.000000         9.172575     0.081925                  6.533875   \n",
              "50%     84.500000        14.625400     0.334800                 13.386300   \n",
              "75%    127.000000        22.271225     1.701475                 20.142325   \n",
              "max    169.000000        36.901800    14.937300                 37.526500   \n",
              "\n",
              "             Eggs  Fish, Seafood  Fruits - Excluding Wine        Meat  \\\n",
              "count  680.000000     680.000000               680.000000  680.000000   \n",
              "mean     0.753608       1.557164                 2.254101    6.667386   \n",
              "std      0.637224       1.975890                 2.708830    4.705998   \n",
              "min      0.018800       0.017400                 0.037300    0.298000   \n",
              "25%      0.271800       0.403225                 0.499225    3.080125   \n",
              "50%      0.591700       0.869200                 1.173850    5.363000   \n",
              "75%      1.053275       1.840350                 3.025525    9.669650   \n",
              "max      3.573500      18.078900                19.302800   26.429200   \n",
              "\n",
              "       Miscellaneous  Milk - Excluding Butter      Offals    Oilcrops  \\\n",
              "count     680.000000               680.000000  680.000000  680.000000   \n",
              "mean        0.232469                 5.118616    0.316756    1.654633   \n",
              "std         0.399520                 3.968300    0.397416    2.889745   \n",
              "min         0.000500                 0.096300    0.001900    0.009700   \n",
              "25%         0.038875                 1.886200    0.100450    0.321200   \n",
              "50%         0.107800                 4.346250    0.168200    0.727850   \n",
              "75%         0.242050                 7.545150    0.344550    1.722875   \n",
              "max         3.663400                20.837800    3.501600   28.563900   \n",
              "\n",
              "           Pulses      Spices  Starchy Roots  Stimulants    Treenuts  \\\n",
              "count  680.000000  680.000000     680.000000  680.000000  680.000000   \n",
              "mean     1.158460    0.211135       2.597905    0.401522    0.354882   \n",
              "std      1.864708    0.312091       3.993653    0.468131    0.503018   \n",
              "min      0.000800    0.000800       0.012400    0.004200    0.000600   \n",
              "25%      0.172700    0.040250       0.403600    0.102850    0.077675   \n",
              "50%      0.497800    0.099750       1.254450    0.251900    0.197200   \n",
              "75%      1.334975    0.246290       2.829125    0.501525    0.425350   \n",
              "max     18.247800    2.685100      27.712800    3.383800    4.975600   \n",
              "\n",
              "       Vegetal Products  Vegetable Oils  Vegetables     Obesity  \\\n",
              "count        680.000000      680.000000  680.000000  680.000000   \n",
              "mean          34.148612        6.080606    2.304592   18.707784   \n",
              "std            8.542103        8.249997    2.923956    9.526554   \n",
              "min           13.098200        0.003500    0.026300    2.100000   \n",
              "25%           27.726800        0.113450    0.472825    8.600000   \n",
              "50%           35.370450        1.740250    1.168450   20.700000   \n",
              "75%           40.844500        8.425600    2.756550   25.700000   \n",
              "max           48.386400       36.418600   19.299500   45.600000   \n",
              "\n",
              "       Undernourished   Confirmed      Deaths   Recovered      Active  \\\n",
              "count      680.000000  680.000000  680.000000  680.000000  680.000000   \n",
              "mean        14.457143    2.021972    0.041389    1.488665    0.545255   \n",
              "std         10.391486    2.313047    0.046929    1.875369    1.292543   \n",
              "min          2.500000    0.000312    0.000035    0.000306    0.000055   \n",
              "25%          7.200000    0.141539    0.003318    0.114013    0.015278   \n",
              "50%         14.457143    1.141525    0.022226    0.609338    0.108473   \n",
              "75%         14.457143    3.307445    0.060205    2.461151    0.511314   \n",
              "max         59.600000   10.408199    0.185428    9.039871    8.019819   \n",
              "\n",
              "         Population  Unit (all except Population)  \n",
              "count  6.800000e+02                           0.0  \n",
              "mean   4.452364e+07                           NaN  \n",
              "std    1.560723e+08                           NaN  \n",
              "min    5.400000e+04                           NaN  \n",
              "25%    2.809000e+06                           NaN  \n",
              "50%    1.018150e+07                           NaN  \n",
              "75%    3.278100e+07                           NaN  \n",
              "max    1.402385e+09                           NaN  "
            ],
            "text/html": [
              "\n",
              "  <div id=\"df-8f275f7a-7ed1-4d1c-9586-3fdef4fcfe54\">\n",
              "    <div class=\"colab-df-container\">\n",
              "      <div>\n",
              "<style scoped>\n",
              "    .dataframe tbody tr th:only-of-type {\n",
              "        vertical-align: middle;\n",
              "    }\n",
              "\n",
              "    .dataframe tbody tr th {\n",
              "        vertical-align: top;\n",
              "    }\n",
              "\n",
              "    .dataframe thead th {\n",
              "        text-align: right;\n",
              "    }\n",
              "</style>\n",
              "<table border=\"1\" class=\"dataframe\">\n",
              "  <thead>\n",
              "    <tr style=\"text-align: right;\">\n",
              "      <th></th>\n",
              "      <th>level_1</th>\n",
              "      <th>Animal Products</th>\n",
              "      <th>Animal fats</th>\n",
              "      <th>Cereals - Excluding Beer</th>\n",
              "      <th>Eggs</th>\n",
              "      <th>Fish, Seafood</th>\n",
              "      <th>Fruits - Excluding Wine</th>\n",
              "      <th>Meat</th>\n",
              "      <th>Miscellaneous</th>\n",
              "      <th>Milk - Excluding Butter</th>\n",
              "      <th>Offals</th>\n",
              "      <th>Oilcrops</th>\n",
              "      <th>Pulses</th>\n",
              "      <th>Spices</th>\n",
              "      <th>Starchy Roots</th>\n",
              "      <th>Stimulants</th>\n",
              "      <th>Treenuts</th>\n",
              "      <th>Vegetal Products</th>\n",
              "      <th>Vegetable Oils</th>\n",
              "      <th>Vegetables</th>\n",
              "      <th>Obesity</th>\n",
              "      <th>Undernourished</th>\n",
              "      <th>Confirmed</th>\n",
              "      <th>Deaths</th>\n",
              "      <th>Recovered</th>\n",
              "      <th>Active</th>\n",
              "      <th>Population</th>\n",
              "      <th>Unit (all except Population)</th>\n",
              "    </tr>\n",
              "  </thead>\n",
              "  <tbody>\n",
              "    <tr>\n",
              "      <th>count</th>\n",
              "      <td>680.000000</td>\n",
              "      <td>680.000000</td>\n",
              "      <td>680.000000</td>\n",
              "      <td>680.000000</td>\n",
              "      <td>680.000000</td>\n",
              "      <td>680.000000</td>\n",
              "      <td>680.000000</td>\n",
              "      <td>680.000000</td>\n",
              "      <td>680.000000</td>\n",
              "      <td>680.000000</td>\n",
              "      <td>680.000000</td>\n",
              "      <td>680.000000</td>\n",
              "      <td>680.000000</td>\n",
              "      <td>680.000000</td>\n",
              "      <td>680.000000</td>\n",
              "      <td>680.000000</td>\n",
              "      <td>680.000000</td>\n",
              "      <td>680.000000</td>\n",
              "      <td>680.000000</td>\n",
              "      <td>680.000000</td>\n",
              "      <td>680.000000</td>\n",
              "      <td>680.000000</td>\n",
              "      <td>680.000000</td>\n",
              "      <td>680.000000</td>\n",
              "      <td>680.000000</td>\n",
              "      <td>680.000000</td>\n",
              "      <td>6.800000e+02</td>\n",
              "      <td>0.0</td>\n",
              "    </tr>\n",
              "    <tr>\n",
              "      <th>mean</th>\n",
              "      <td>84.500000</td>\n",
              "      <td>15.851073</td>\n",
              "      <td>1.438553</td>\n",
              "      <td>13.891795</td>\n",
              "      <td>0.753608</td>\n",
              "      <td>1.557164</td>\n",
              "      <td>2.254101</td>\n",
              "      <td>6.667386</td>\n",
              "      <td>0.232469</td>\n",
              "      <td>5.118616</td>\n",
              "      <td>0.316756</td>\n",
              "      <td>1.654633</td>\n",
              "      <td>1.158460</td>\n",
              "      <td>0.211135</td>\n",
              "      <td>2.597905</td>\n",
              "      <td>0.401522</td>\n",
              "      <td>0.354882</td>\n",
              "      <td>34.148612</td>\n",
              "      <td>6.080606</td>\n",
              "      <td>2.304592</td>\n",
              "      <td>18.707784</td>\n",
              "      <td>14.457143</td>\n",
              "      <td>2.021972</td>\n",
              "      <td>0.041389</td>\n",
              "      <td>1.488665</td>\n",
              "      <td>0.545255</td>\n",
              "      <td>4.452364e+07</td>\n",
              "      <td>NaN</td>\n",
              "    </tr>\n",
              "    <tr>\n",
              "      <th>std</th>\n",
              "      <td>49.110047</td>\n",
              "      <td>8.542243</td>\n",
              "      <td>2.400585</td>\n",
              "      <td>8.519904</td>\n",
              "      <td>0.637224</td>\n",
              "      <td>1.975890</td>\n",
              "      <td>2.708830</td>\n",
              "      <td>4.705998</td>\n",
              "      <td>0.399520</td>\n",
              "      <td>3.968300</td>\n",
              "      <td>0.397416</td>\n",
              "      <td>2.889745</td>\n",
              "      <td>1.864708</td>\n",
              "      <td>0.312091</td>\n",
              "      <td>3.993653</td>\n",
              "      <td>0.468131</td>\n",
              "      <td>0.503018</td>\n",
              "      <td>8.542103</td>\n",
              "      <td>8.249997</td>\n",
              "      <td>2.923956</td>\n",
              "      <td>9.526554</td>\n",
              "      <td>10.391486</td>\n",
              "      <td>2.313047</td>\n",
              "      <td>0.046929</td>\n",
              "      <td>1.875369</td>\n",
              "      <td>1.292543</td>\n",
              "      <td>1.560723e+08</td>\n",
              "      <td>NaN</td>\n",
              "    </tr>\n",
              "    <tr>\n",
              "      <th>min</th>\n",
              "      <td>0.000000</td>\n",
              "      <td>1.623700</td>\n",
              "      <td>0.001000</td>\n",
              "      <td>0.990800</td>\n",
              "      <td>0.018800</td>\n",
              "      <td>0.017400</td>\n",
              "      <td>0.037300</td>\n",
              "      <td>0.298000</td>\n",
              "      <td>0.000500</td>\n",
              "      <td>0.096300</td>\n",
              "      <td>0.001900</td>\n",
              "      <td>0.009700</td>\n",
              "      <td>0.000800</td>\n",
              "      <td>0.000800</td>\n",
              "      <td>0.012400</td>\n",
              "      <td>0.004200</td>\n",
              "      <td>0.000600</td>\n",
              "      <td>13.098200</td>\n",
              "      <td>0.003500</td>\n",
              "      <td>0.026300</td>\n",
              "      <td>2.100000</td>\n",
              "      <td>2.500000</td>\n",
              "      <td>0.000312</td>\n",
              "      <td>0.000035</td>\n",
              "      <td>0.000306</td>\n",
              "      <td>0.000055</td>\n",
              "      <td>5.400000e+04</td>\n",
              "      <td>NaN</td>\n",
              "    </tr>\n",
              "    <tr>\n",
              "      <th>25%</th>\n",
              "      <td>42.000000</td>\n",
              "      <td>9.172575</td>\n",
              "      <td>0.081925</td>\n",
              "      <td>6.533875</td>\n",
              "      <td>0.271800</td>\n",
              "      <td>0.403225</td>\n",
              "      <td>0.499225</td>\n",
              "      <td>3.080125</td>\n",
              "      <td>0.038875</td>\n",
              "      <td>1.886200</td>\n",
              "      <td>0.100450</td>\n",
              "      <td>0.321200</td>\n",
              "      <td>0.172700</td>\n",
              "      <td>0.040250</td>\n",
              "      <td>0.403600</td>\n",
              "      <td>0.102850</td>\n",
              "      <td>0.077675</td>\n",
              "      <td>27.726800</td>\n",
              "      <td>0.113450</td>\n",
              "      <td>0.472825</td>\n",
              "      <td>8.600000</td>\n",
              "      <td>7.200000</td>\n",
              "      <td>0.141539</td>\n",
              "      <td>0.003318</td>\n",
              "      <td>0.114013</td>\n",
              "      <td>0.015278</td>\n",
              "      <td>2.809000e+06</td>\n",
              "      <td>NaN</td>\n",
              "    </tr>\n",
              "    <tr>\n",
              "      <th>50%</th>\n",
              "      <td>84.500000</td>\n",
              "      <td>14.625400</td>\n",
              "      <td>0.334800</td>\n",
              "      <td>13.386300</td>\n",
              "      <td>0.591700</td>\n",
              "      <td>0.869200</td>\n",
              "      <td>1.173850</td>\n",
              "      <td>5.363000</td>\n",
              "      <td>0.107800</td>\n",
              "      <td>4.346250</td>\n",
              "      <td>0.168200</td>\n",
              "      <td>0.727850</td>\n",
              "      <td>0.497800</td>\n",
              "      <td>0.099750</td>\n",
              "      <td>1.254450</td>\n",
              "      <td>0.251900</td>\n",
              "      <td>0.197200</td>\n",
              "      <td>35.370450</td>\n",
              "      <td>1.740250</td>\n",
              "      <td>1.168450</td>\n",
              "      <td>20.700000</td>\n",
              "      <td>14.457143</td>\n",
              "      <td>1.141525</td>\n",
              "      <td>0.022226</td>\n",
              "      <td>0.609338</td>\n",
              "      <td>0.108473</td>\n",
              "      <td>1.018150e+07</td>\n",
              "      <td>NaN</td>\n",
              "    </tr>\n",
              "    <tr>\n",
              "      <th>75%</th>\n",
              "      <td>127.000000</td>\n",
              "      <td>22.271225</td>\n",
              "      <td>1.701475</td>\n",
              "      <td>20.142325</td>\n",
              "      <td>1.053275</td>\n",
              "      <td>1.840350</td>\n",
              "      <td>3.025525</td>\n",
              "      <td>9.669650</td>\n",
              "      <td>0.242050</td>\n",
              "      <td>7.545150</td>\n",
              "      <td>0.344550</td>\n",
              "      <td>1.722875</td>\n",
              "      <td>1.334975</td>\n",
              "      <td>0.246290</td>\n",
              "      <td>2.829125</td>\n",
              "      <td>0.501525</td>\n",
              "      <td>0.425350</td>\n",
              "      <td>40.844500</td>\n",
              "      <td>8.425600</td>\n",
              "      <td>2.756550</td>\n",
              "      <td>25.700000</td>\n",
              "      <td>14.457143</td>\n",
              "      <td>3.307445</td>\n",
              "      <td>0.060205</td>\n",
              "      <td>2.461151</td>\n",
              "      <td>0.511314</td>\n",
              "      <td>3.278100e+07</td>\n",
              "      <td>NaN</td>\n",
              "    </tr>\n",
              "    <tr>\n",
              "      <th>max</th>\n",
              "      <td>169.000000</td>\n",
              "      <td>36.901800</td>\n",
              "      <td>14.937300</td>\n",
              "      <td>37.526500</td>\n",
              "      <td>3.573500</td>\n",
              "      <td>18.078900</td>\n",
              "      <td>19.302800</td>\n",
              "      <td>26.429200</td>\n",
              "      <td>3.663400</td>\n",
              "      <td>20.837800</td>\n",
              "      <td>3.501600</td>\n",
              "      <td>28.563900</td>\n",
              "      <td>18.247800</td>\n",
              "      <td>2.685100</td>\n",
              "      <td>27.712800</td>\n",
              "      <td>3.383800</td>\n",
              "      <td>4.975600</td>\n",
              "      <td>48.386400</td>\n",
              "      <td>36.418600</td>\n",
              "      <td>19.299500</td>\n",
              "      <td>45.600000</td>\n",
              "      <td>59.600000</td>\n",
              "      <td>10.408199</td>\n",
              "      <td>0.185428</td>\n",
              "      <td>9.039871</td>\n",
              "      <td>8.019819</td>\n",
              "      <td>1.402385e+09</td>\n",
              "      <td>NaN</td>\n",
              "    </tr>\n",
              "  </tbody>\n",
              "</table>\n",
              "</div>\n",
              "      <button class=\"colab-df-convert\" onclick=\"convertToInteractive('df-8f275f7a-7ed1-4d1c-9586-3fdef4fcfe54')\"\n",
              "              title=\"Convert this dataframe to an interactive table.\"\n",
              "              style=\"display:none;\">\n",
              "        \n",
              "  <svg xmlns=\"http://www.w3.org/2000/svg\" height=\"24px\"viewBox=\"0 0 24 24\"\n",
              "       width=\"24px\">\n",
              "    <path d=\"M0 0h24v24H0V0z\" fill=\"none\"/>\n",
              "    <path d=\"M18.56 5.44l.94 2.06.94-2.06 2.06-.94-2.06-.94-.94-2.06-.94 2.06-2.06.94zm-11 1L8.5 8.5l.94-2.06 2.06-.94-2.06-.94L8.5 2.5l-.94 2.06-2.06.94zm10 10l.94 2.06.94-2.06 2.06-.94-2.06-.94-.94-2.06-.94 2.06-2.06.94z\"/><path d=\"M17.41 7.96l-1.37-1.37c-.4-.4-.92-.59-1.43-.59-.52 0-1.04.2-1.43.59L10.3 9.45l-7.72 7.72c-.78.78-.78 2.05 0 2.83L4 21.41c.39.39.9.59 1.41.59.51 0 1.02-.2 1.41-.59l7.78-7.78 2.81-2.81c.8-.78.8-2.07 0-2.86zM5.41 20L4 18.59l7.72-7.72 1.47 1.35L5.41 20z\"/>\n",
              "  </svg>\n",
              "      </button>\n",
              "      \n",
              "  <style>\n",
              "    .colab-df-container {\n",
              "      display:flex;\n",
              "      flex-wrap:wrap;\n",
              "      gap: 12px;\n",
              "    }\n",
              "\n",
              "    .colab-df-convert {\n",
              "      background-color: #E8F0FE;\n",
              "      border: none;\n",
              "      border-radius: 50%;\n",
              "      cursor: pointer;\n",
              "      display: none;\n",
              "      fill: #1967D2;\n",
              "      height: 32px;\n",
              "      padding: 0 0 0 0;\n",
              "      width: 32px;\n",
              "    }\n",
              "\n",
              "    .colab-df-convert:hover {\n",
              "      background-color: #E2EBFA;\n",
              "      box-shadow: 0px 1px 2px rgba(60, 64, 67, 0.3), 0px 1px 3px 1px rgba(60, 64, 67, 0.15);\n",
              "      fill: #174EA6;\n",
              "    }\n",
              "\n",
              "    [theme=dark] .colab-df-convert {\n",
              "      background-color: #3B4455;\n",
              "      fill: #D2E3FC;\n",
              "    }\n",
              "\n",
              "    [theme=dark] .colab-df-convert:hover {\n",
              "      background-color: #434B5C;\n",
              "      box-shadow: 0px 1px 3px 1px rgba(0, 0, 0, 0.15);\n",
              "      filter: drop-shadow(0px 1px 2px rgba(0, 0, 0, 0.3));\n",
              "      fill: #FFFFFF;\n",
              "    }\n",
              "  </style>\n",
              "\n",
              "      <script>\n",
              "        const buttonEl =\n",
              "          document.querySelector('#df-8f275f7a-7ed1-4d1c-9586-3fdef4fcfe54 button.colab-df-convert');\n",
              "        buttonEl.style.display =\n",
              "          google.colab.kernel.accessAllowed ? 'block' : 'none';\n",
              "\n",
              "        async function convertToInteractive(key) {\n",
              "          const element = document.querySelector('#df-8f275f7a-7ed1-4d1c-9586-3fdef4fcfe54');\n",
              "          const dataTable =\n",
              "            await google.colab.kernel.invokeFunction('convertToInteractive',\n",
              "                                                     [key], {});\n",
              "          if (!dataTable) return;\n",
              "\n",
              "          const docLinkHtml = 'Like what you see? Visit the ' +\n",
              "            '<a target=\"_blank\" href=https://colab.research.google.com/notebooks/data_table.ipynb>data table notebook</a>'\n",
              "            + ' to learn more about interactive tables.';\n",
              "          element.innerHTML = '';\n",
              "          dataTable['output_type'] = 'display_data';\n",
              "          await google.colab.output.renderOutput(dataTable, element);\n",
              "          const docLink = document.createElement('div');\n",
              "          docLink.innerHTML = docLinkHtml;\n",
              "          element.appendChild(docLink);\n",
              "        }\n",
              "      </script>\n",
              "    </div>\n",
              "  </div>\n",
              "  "
            ]
          },
          "metadata": {},
          "execution_count": 47
        }
      ],
      "source": [
        "Diet_type.describe()"
      ]
    },
    {
      "cell_type": "code",
      "execution_count": 48,
      "metadata": {
        "colab": {
          "base_uri": "https://localhost:8080/"
        },
        "id": "RoNeqxcyQVZT",
        "outputId": "3df93e52-b104-48a3-bc15-c7d0eed55343"
      },
      "outputs": [
        {
          "output_type": "stream",
          "name": "stdout",
          "text": [
            "<class 'pandas.core.frame.DataFrame'>\n",
            "MultiIndex: 680 entries, ('Afghanistan', 'Fats') to ('Zimbabwe', 'Protein')\n",
            "Data columns (total 28 columns):\n",
            " #   Column                        Non-Null Count  Dtype  \n",
            "---  ------                        --------------  -----  \n",
            " 0   level_1                       680 non-null    int64  \n",
            " 1   Animal Products               680 non-null    float64\n",
            " 2   Animal fats                   680 non-null    float64\n",
            " 3   Cereals - Excluding Beer      680 non-null    float64\n",
            " 4   Eggs                          680 non-null    float64\n",
            " 5   Fish, Seafood                 680 non-null    float64\n",
            " 6   Fruits - Excluding Wine       680 non-null    float64\n",
            " 7   Meat                          680 non-null    float64\n",
            " 8   Miscellaneous                 680 non-null    float64\n",
            " 9   Milk - Excluding Butter       680 non-null    float64\n",
            " 10  Offals                        680 non-null    float64\n",
            " 11  Oilcrops                      680 non-null    float64\n",
            " 12  Pulses                        680 non-null    float64\n",
            " 13  Spices                        680 non-null    float64\n",
            " 14  Starchy Roots                 680 non-null    float64\n",
            " 15  Stimulants                    680 non-null    float64\n",
            " 16  Treenuts                      680 non-null    float64\n",
            " 17  Vegetal Products              680 non-null    float64\n",
            " 18  Vegetable Oils                680 non-null    float64\n",
            " 19  Vegetables                    680 non-null    float64\n",
            " 20  Obesity                       680 non-null    float64\n",
            " 21  Undernourished                680 non-null    float64\n",
            " 22  Confirmed                     680 non-null    float64\n",
            " 23  Deaths                        680 non-null    float64\n",
            " 24  Recovered                     680 non-null    float64\n",
            " 25  Active                        680 non-null    float64\n",
            " 26  Population                    680 non-null    float64\n",
            " 27  Unit (all except Population)  0 non-null      float64\n",
            "dtypes: float64(27), int64(1)\n",
            "memory usage: 156.5+ KB\n"
          ]
        }
      ],
      "source": [
        "Diet_type.info()"
      ]
    },
    {
      "cell_type": "code",
      "execution_count": 49,
      "metadata": {
        "colab": {
          "base_uri": "https://localhost:8080/"
        },
        "id": "A-AwLiuPTGGp",
        "outputId": "8b1535c9-b2d4-482d-c546-f8ac0a607678"
      },
      "outputs": [
        {
          "output_type": "execute_result",
          "data": {
            "text/plain": [
              "(680, 28)"
            ]
          },
          "metadata": {},
          "execution_count": 49
        }
      ],
      "source": [
        "Diet_type.shape"
      ]
    },
    {
      "cell_type": "code",
      "source": [
        "Diet_type['level_1'] = Diet_type['level_1'].astype('str')"
      ],
      "metadata": {
        "id": "oIsTOm7CRzbT"
      },
      "execution_count": 50,
      "outputs": []
    },
    {
      "cell_type": "code",
      "execution_count": 51,
      "metadata": {
        "colab": {
          "base_uri": "https://localhost:8080/"
        },
        "id": "It0WSMLcb5qu",
        "outputId": "fda09674-91a9-4900-9fcc-ffcecad523e4"
      },
      "outputs": [
        {
          "output_type": "execute_result",
          "data": {
            "text/plain": [
              "Index(['level_1', 'Animal Products', 'Animal fats', 'Cereals - Excluding Beer',\n",
              "       'Eggs', 'Fish, Seafood', 'Fruits - Excluding Wine', 'Meat',\n",
              "       'Miscellaneous', 'Milk - Excluding Butter', 'Offals', 'Oilcrops',\n",
              "       'Pulses', 'Spices', 'Starchy Roots', 'Stimulants', 'Treenuts',\n",
              "       'Vegetal Products', 'Vegetable Oils', 'Vegetables', 'Obesity',\n",
              "       'Undernourished', 'Confirmed', 'Deaths', 'Recovered', 'Active',\n",
              "       'Population', 'Unit (all except Population)'],\n",
              "      dtype='object')"
            ]
          },
          "metadata": {},
          "execution_count": 51
        }
      ],
      "source": [
        "Diet_type.columns"
      ]
    },
    {
      "cell_type": "markdown",
      "metadata": {
        "id": "ZXFXV3j8d6Dv"
      },
      "source": [
        "**bivariate visuals**"
      ]
    },
    {
      "cell_type": "code",
      "execution_count": 52,
      "metadata": {
        "colab": {
          "base_uri": "https://localhost:8080/",
          "height": 396
        },
        "id": "NfDk8kEIZ40c",
        "outputId": "e5de268e-7976-4323-e746-159b1b29d22c"
      },
      "outputs": [
        {
          "output_type": "display_data",
          "data": {
            "text/plain": [
              "<Figure size 720x432 with 1 Axes>"
            ],
            "image/png": "[encoded data removed]"
          },
          "metadata": {
            "needs_background": "light"
          }
        }
      ],
      "source": [
        "Diet_type.plot(kind='scatter', x='Animal Products', y='Confirmed', figsize=(10,6))\n",
        "plt.xlabel('Animal Products', fontsize=18)\n",
        "plt.ylabel('Confirmed', rotation=90, fontsize=18)\n",
        "plt.show()"
      ]
    },
    {
      "cell_type": "code",
      "execution_count": 53,
      "metadata": {
        "colab": {
          "base_uri": "https://localhost:8080/",
          "height": 396
        },
        "id": "h_TugojSfGQF",
        "outputId": "068a274d-3eeb-4f18-9c97-0a39a08181f1"
      },
      "outputs": [
        {
          "output_type": "display_data",
          "data": {
            "text/plain": [
              "<Figure size 720x432 with 1 Axes>"
            ],
            "image/png": "[encoded data removed]"
          },
          "metadata": {
            "needs_background": "light"
          }
        }
      ],
      "source": [
        "Diet_type.plot(kind='scatter', x='Recovered', y='Confirmed', figsize=(10,6))\n",
        "plt.xlabel('Recovered', fontsize=18)\n",
        "plt.ylabel('Confirmed', rotation=90, fontsize=18)\n",
        "plt.show()"
      ]
    },
    {
      "cell_type": "code",
      "source": [
        "DT1= Diet_type.drop([\"Confirmed\",\"level_1\",\"Unit (all except Population)\"],axis=1)\n",
        "DT2= Diet_type[\"Confirmed\"]\n",
        "DT3=pd.concat([DT1,DT2],axis=1)"
      ],
      "metadata": {
        "id": "rnrFkj3G3n-K"
      },
      "execution_count": 54,
      "outputs": []
    },
    {
      "cell_type": "code",
      "source": [
        "corDT = DT3.corr()\n",
        "corDT1=corDT.iloc[1:,:-1].copy()\n",
        "pd.DataFrame(corDT)"
      ],
      "metadata": {
        "colab": {
          "base_uri": "https://localhost:8080/",
          "height": 1000
        },
        "id": "MI4K0GPZ3n39",
        "outputId": "ebabf320-1de5-424b-c0dc-e82f09dc16d8"
      },
      "execution_count": 55,
      "outputs": [
        {
          "output_type": "execute_result",
          "data": {
            "text/plain": [
              "                          Animal Products  Animal fats  \\\n",
              "Animal Products                  1.000000     0.430263   \n",
              "Animal fats                      0.430263     1.000000   \n",
              "Cereals - Excluding Beer        -0.500902    -0.493907   \n",
              "Eggs                             0.653546     0.197248   \n",
              "Fish, Seafood                    0.279207    -0.227158   \n",
              "Fruits - Excluding Wine         -0.343415    -0.297966   \n",
              "Meat                             0.841499     0.280892   \n",
              "Miscellaneous                    0.011107    -0.175060   \n",
              "Milk - Excluding Butter          0.615993     0.094760   \n",
              "Offals                           0.320689    -0.247560   \n",
              "Oilcrops                        -0.106072     0.012522   \n",
              "Pulses                          -0.204135    -0.263169   \n",
              "Spices                          -0.042461    -0.023565   \n",
              "Starchy Roots                   -0.438565    -0.281123   \n",
              "Stimulants                       0.472760     0.369932   \n",
              "Treenuts                         0.212463     0.375990   \n",
              "Vegetal Products                -1.000000    -0.430210   \n",
              "Vegetable Oils                   0.071717     0.515696   \n",
              "Vegetables                      -0.165075    -0.321688   \n",
              "Obesity                          0.401594     0.204393   \n",
              "Undernourished                  -0.250317    -0.087164   \n",
              "Deaths                           0.365548     0.265026   \n",
              "Recovered                        0.331433     0.240524   \n",
              "Active                           0.266150     0.125748   \n",
              "Population                      -0.006637    -0.000415   \n",
              "Confirmed                        0.412767     0.262309   \n",
              "\n",
              "                          Cereals - Excluding Beer      Eggs  Fish, Seafood  \\\n",
              "Animal Products                          -0.500902  0.653546       0.279207   \n",
              "Animal fats                              -0.493907  0.197248      -0.227158   \n",
              "Cereals - Excluding Beer                  1.000000 -0.244805       0.048255   \n",
              "Eggs                                     -0.244805  1.000000       0.259741   \n",
              "Fish, Seafood                             0.048255  0.259741       1.000000   \n",
              "Fruits - Excluding Wine                  -0.095812 -0.283452      -0.057504   \n",
              "Meat                                     -0.374251  0.553663       0.220739   \n",
              "Miscellaneous                            -0.074054 -0.033307       0.204446   \n",
              "Milk - Excluding Butter                  -0.336888  0.316408      -0.095229   \n",
              "Offals                                    0.193407  0.226996       0.294537   \n",
              "Oilcrops                                 -0.179621 -0.135718       0.123573   \n",
              "Pulses                                    0.374084 -0.135515       0.099120   \n",
              "Spices                                    0.018582  0.042378       0.131958   \n",
              "Starchy Roots                             0.058663 -0.361807      -0.026996   \n",
              "Stimulants                               -0.285763  0.342335      -0.000211   \n",
              "Treenuts                                 -0.285786  0.223199      -0.049276   \n",
              "Vegetal Products                          0.500975 -0.653546      -0.279217   \n",
              "Vegetable Oils                           -0.537168  0.065342      -0.297854   \n",
              "Vegetables                               -0.016898 -0.124139       0.007909   \n",
              "Obesity                                  -0.325715  0.305961      -0.053856   \n",
              "Undernourished                            0.150162 -0.291837      -0.119411   \n",
              "Deaths                                   -0.239273  0.292585      -0.111974   \n",
              "Recovered                                -0.201804  0.290687      -0.101472   \n",
              "Active                                   -0.197887  0.174405      -0.012548   \n",
              "Population                                0.031850  0.100944       0.015154   \n",
              "Confirmed                                -0.269079  0.331325      -0.090834   \n",
              "\n",
              "                          Fruits - Excluding Wine      Meat  Miscellaneous  \\\n",
              "Animal Products                         -0.343415  0.841499       0.011107   \n",
              "Animal fats                             -0.297966  0.280892      -0.175060   \n",
              "Cereals - Excluding Beer                -0.095812 -0.374251      -0.074054   \n",
              "Eggs                                    -0.283452  0.553663      -0.033307   \n",
              "Fish, Seafood                           -0.057504  0.220739       0.204446   \n",
              "Fruits - Excluding Wine                  1.000000 -0.389944       0.311572   \n",
              "Meat                                    -0.389944  1.000000      -0.019832   \n",
              "Miscellaneous                            0.311572 -0.019832       1.000000   \n",
              "Milk - Excluding Butter                 -0.003953  0.215641       0.056524   \n",
              "Offals                                  -0.191301  0.390239      -0.013061   \n",
              "Oilcrops                                -0.119975  0.013406      -0.098666   \n",
              "Pulses                                  -0.085964 -0.112147      -0.087474   \n",
              "Spices                                  -0.167722 -0.012694      -0.081199   \n",
              "Starchy Roots                            0.373586 -0.380304       0.020033   \n",
              "Stimulants                              -0.247260  0.383930      -0.042243   \n",
              "Treenuts                                -0.249169  0.153235      -0.138566   \n",
              "Vegetal Products                         0.343291 -0.841471      -0.011149   \n",
              "Vegetable Oils                          -0.345930  0.122732      -0.243594   \n",
              "Vegetables                               0.524588 -0.311251       0.242158   \n",
              "Obesity                                  0.058323  0.303124       0.115050   \n",
              "Undernourished                          -0.027815 -0.155131      -0.125401   \n",
              "Deaths                                  -0.022576  0.205898      -0.039973   \n",
              "Recovered                               -0.021771  0.157278       0.001682   \n",
              "Active                                  -0.028027  0.143825       0.012378   \n",
              "Population                              -0.033470 -0.014220      -0.005102   \n",
              "Confirmed                               -0.031880  0.204024       0.009263   \n",
              "\n",
              "                          Milk - Excluding Butter    Offals  Oilcrops  \\\n",
              "Animal Products                          0.615993  0.320689 -0.106072   \n",
              "Animal fats                              0.094760 -0.247560  0.012522   \n",
              "Cereals - Excluding Beer                -0.336888  0.193407 -0.179621   \n",
              "Eggs                                     0.316408  0.226996 -0.135718   \n",
              "Fish, Seafood                           -0.095229  0.294537  0.123573   \n",
              "Fruits - Excluding Wine                 -0.003953 -0.191301 -0.119975   \n",
              "Meat                                     0.215641  0.390239  0.013406   \n",
              "Miscellaneous                            0.056524 -0.013061 -0.098666   \n",
              "Milk - Excluding Butter                  1.000000  0.093194 -0.287445   \n",
              "Offals                                   0.093194  1.000000 -0.044724   \n",
              "Oilcrops                                -0.287445 -0.044724  1.000000   \n",
              "Pulses                                  -0.191963  0.203215 -0.001576   \n",
              "Spices                                  -0.132013 -0.021081  0.152811   \n",
              "Starchy Roots                           -0.244948 -0.057995 -0.064913   \n",
              "Stimulants                               0.280260  0.036325 -0.094361   \n",
              "Treenuts                                 0.047127 -0.102109  0.018035   \n",
              "Vegetal Products                        -0.616050 -0.320678  0.106086   \n",
              "Vegetable Oils                          -0.132718 -0.322375  0.208682   \n",
              "Vegetables                               0.225988 -0.043753 -0.222816   \n",
              "Obesity                                  0.365524 -0.070652 -0.097075   \n",
              "Undernourished                          -0.198948  0.062461 -0.008535   \n",
              "Deaths                                   0.396271 -0.053133 -0.201040   \n",
              "Recovered                                0.389343 -0.039799 -0.228326   \n",
              "Active                                   0.312268 -0.076452 -0.111109   \n",
              "Population                              -0.029420  0.077900 -0.021303   \n",
              "Confirmed                                0.487012 -0.070658 -0.255972   \n",
              "\n",
              "                            Pulses    Spices  Starchy Roots  Stimulants  \\\n",
              "Animal Products          -0.204135 -0.042461      -0.438565    0.472760   \n",
              "Animal fats              -0.263169 -0.023565      -0.281123    0.369932   \n",
              "Cereals - Excluding Beer  0.374084  0.018582       0.058663   -0.285763   \n",
              "Eggs                     -0.135515  0.042378      -0.361807    0.342335   \n",
              "Fish, Seafood             0.099120  0.131958      -0.026996   -0.000211   \n",
              "Fruits - Excluding Wine  -0.085964 -0.167722       0.373586   -0.247260   \n",
              "Meat                     -0.112147 -0.012694      -0.380304    0.383930   \n",
              "Miscellaneous            -0.087474 -0.081199       0.020033   -0.042243   \n",
              "Milk - Excluding Butter  -0.191963 -0.132013      -0.244948    0.280260   \n",
              "Offals                    0.203215 -0.021081      -0.057995    0.036325   \n",
              "Oilcrops                 -0.001576  0.152811      -0.064913   -0.094361   \n",
              "Pulses                    1.000000  0.082528       0.102377   -0.165966   \n",
              "Spices                    0.082528  1.000000      -0.089262    0.021615   \n",
              "Starchy Roots             0.102377 -0.089262       1.000000   -0.252925   \n",
              "Stimulants               -0.165966  0.021615      -0.252925    1.000000   \n",
              "Treenuts                 -0.125922  0.147073      -0.208882    0.249636   \n",
              "Vegetal Products          0.204150  0.042477       0.438511   -0.472685   \n",
              "Vegetable Oils           -0.282630  0.137043      -0.312457    0.166329   \n",
              "Vegetables               -0.111898 -0.152506       0.147847   -0.196744   \n",
              "Obesity                  -0.249613 -0.201095      -0.234318    0.236788   \n",
              "Undernourished            0.219546 -0.131876       0.268150   -0.141113   \n",
              "Deaths                   -0.220631 -0.151546      -0.171960    0.244439   \n",
              "Recovered                -0.186705 -0.131821      -0.189456    0.359659   \n",
              "Active                   -0.136144 -0.132598      -0.098204    0.105068   \n",
              "Population                0.039628  0.060361      -0.041869   -0.074930   \n",
              "Confirmed                -0.224038 -0.174998      -0.209235    0.354509   \n",
              "\n",
              "                          Treenuts  Vegetal Products  Vegetable Oils  \\\n",
              "Animal Products           0.212463         -1.000000        0.071717   \n",
              "Animal fats               0.375990         -0.430210        0.515696   \n",
              "Cereals - Excluding Beer -0.285786          0.500975       -0.537168   \n",
              "Eggs                      0.223199         -0.653546        0.065342   \n",
              "Fish, Seafood            -0.049276         -0.279217       -0.297854   \n",
              "Fruits - Excluding Wine  -0.249169          0.343291       -0.345930   \n",
              "Meat                      0.153235         -0.841471        0.122732   \n",
              "Miscellaneous            -0.138566         -0.011149       -0.243594   \n",
              "Milk - Excluding Butter   0.047127         -0.616050       -0.132718   \n",
              "Offals                   -0.102109         -0.320678       -0.322375   \n",
              "Oilcrops                  0.018035          0.106086        0.208682   \n",
              "Pulses                   -0.125922          0.204150       -0.282630   \n",
              "Spices                    0.147073          0.042477        0.137043   \n",
              "Starchy Roots            -0.208882          0.438511       -0.312457   \n",
              "Stimulants                0.249636         -0.472685        0.166329   \n",
              "Treenuts                  1.000000         -0.212378        0.391789   \n",
              "Vegetal Products         -0.212378          1.000000       -0.071674   \n",
              "Vegetable Oils            0.391789         -0.071674        1.000000   \n",
              "Vegetables               -0.211004          0.164949       -0.414237   \n",
              "Obesity                   0.108455         -0.401615       -0.009926   \n",
              "Undernourished           -0.079802          0.250310        0.042070   \n",
              "Deaths                    0.075107         -0.365551       -0.016422   \n",
              "Recovered                 0.103128         -0.331432       -0.024425   \n",
              "Active                    0.115550         -0.266167        0.005806   \n",
              "Population                0.042833          0.006637        0.003524   \n",
              "Confirmed                 0.147881         -0.412772       -0.015488   \n",
              "\n",
              "                          Vegetables   Obesity  Undernourished    Deaths  \\\n",
              "Animal Products            -0.165075  0.401594       -0.250317  0.365548   \n",
              "Animal fats                -0.321688  0.204393       -0.087164  0.265026   \n",
              "Cereals - Excluding Beer   -0.016898 -0.325715        0.150162 -0.239273   \n",
              "Eggs                       -0.124139  0.305961       -0.291837  0.292585   \n",
              "Fish, Seafood               0.007909 -0.053856       -0.119411 -0.111974   \n",
              "Fruits - Excluding Wine     0.524588  0.058323       -0.027815 -0.022576   \n",
              "Meat                       -0.311251  0.303124       -0.155131  0.205898   \n",
              "Miscellaneous               0.242158  0.115050       -0.125401 -0.039973   \n",
              "Milk - Excluding Butter     0.225988  0.365524       -0.198948  0.396271   \n",
              "Offals                     -0.043753 -0.070652        0.062461 -0.053133   \n",
              "Oilcrops                   -0.222816 -0.097075       -0.008535 -0.201040   \n",
              "Pulses                     -0.111898 -0.249613        0.219546 -0.220631   \n",
              "Spices                     -0.152506 -0.201095       -0.131876 -0.151546   \n",
              "Starchy Roots               0.147847 -0.234318        0.268150 -0.171960   \n",
              "Stimulants                 -0.196744  0.236788       -0.141113  0.244439   \n",
              "Treenuts                   -0.211004  0.108455       -0.079802  0.075107   \n",
              "Vegetal Products            0.164949 -0.401615        0.250310 -0.365551   \n",
              "Vegetable Oils             -0.414237 -0.009926        0.042070 -0.016422   \n",
              "Vegetables                  1.000000  0.054664       -0.132373  0.040897   \n",
              "Obesity                     0.054664  1.000000       -0.438033  0.474918   \n",
              "Undernourished             -0.132373 -0.438033        1.000000 -0.224141   \n",
              "Deaths                      0.040897  0.474918       -0.224141  1.000000   \n",
              "Recovered                   0.068000  0.419747       -0.222705  0.690258   \n",
              "Active                      0.003071  0.295692       -0.074870  0.515461   \n",
              "Population                  0.052450 -0.180232       -0.028998 -0.063342   \n",
              "Confirmed                   0.056585  0.495984       -0.219681  0.840476   \n",
              "\n",
              "                          Recovered    Active  Population  Confirmed  \n",
              "Animal Products            0.331433  0.266150   -0.006637   0.412767  \n",
              "Animal fats                0.240524  0.125748   -0.000415   0.262309  \n",
              "Cereals - Excluding Beer  -0.201804 -0.197887    0.031850  -0.269079  \n",
              "Eggs                       0.290687  0.174405    0.100944   0.331325  \n",
              "Fish, Seafood             -0.101472 -0.012548    0.015154  -0.090834  \n",
              "Fruits - Excluding Wine   -0.021771 -0.028027   -0.033470  -0.031880  \n",
              "Meat                       0.157278  0.143825   -0.014220   0.204024  \n",
              "Miscellaneous              0.001682  0.012378   -0.005102   0.009263  \n",
              "Milk - Excluding Butter    0.389343  0.312268   -0.029420   0.487012  \n",
              "Offals                    -0.039799 -0.076452    0.077900  -0.070658  \n",
              "Oilcrops                  -0.228326 -0.111109   -0.021303  -0.255972  \n",
              "Pulses                    -0.186705 -0.136144    0.039628  -0.224038  \n",
              "Spices                    -0.131821 -0.132598    0.060361  -0.174998  \n",
              "Starchy Roots             -0.189456 -0.098204   -0.041869  -0.209235  \n",
              "Stimulants                 0.359659  0.105068   -0.074930   0.354509  \n",
              "Treenuts                   0.103128  0.115550    0.042833   0.147881  \n",
              "Vegetal Products          -0.331432 -0.266167    0.006637  -0.412772  \n",
              "Vegetable Oils            -0.024425  0.005806    0.003524  -0.015488  \n",
              "Vegetables                 0.068000  0.003071    0.052450   0.056585  \n",
              "Obesity                    0.419747  0.295692   -0.180232   0.495984  \n",
              "Undernourished            -0.222705 -0.074870   -0.028998  -0.219681  \n",
              "Deaths                     0.690258  0.515461   -0.063342   0.840476  \n",
              "Recovered                  1.000000  0.064095   -0.096515   0.862992  \n",
              "Active                     0.064095  1.000000    0.011708   0.553232  \n",
              "Population                -0.096515  0.011708    1.000000  -0.075687  \n",
              "Confirmed                  0.862992  0.553232   -0.075687   1.000000  "
            ],
            "text/html": [
              "\n",
              "  <div id=\"df-ce0fae71-3000-471c-a5fb-0b2145344509\">\n",
              "    <div class=\"colab-df-container\">\n",
              "      <div>\n",
              "<style scoped>\n",
              "    .dataframe tbody tr th:only-of-type {\n",
              "        vertical-align: middle;\n",
              "    }\n",
              "\n",
              "    .dataframe tbody tr th {\n",
              "        vertical-align: top;\n",
              "    }\n",
              "\n",
              "    .dataframe thead th {\n",
              "        text-align: right;\n",
              "    }\n",
              "</style>\n",
              "<table border=\"1\" class=\"dataframe\">\n",
              "  <thead>\n",
              "    <tr style=\"text-align: right;\">\n",
              "      <th></th>\n",
              "      <th>Animal Products</th>\n",
              "      <th>Animal fats</th>\n",
              "      <th>Cereals - Excluding Beer</th>\n",
              "      <th>Eggs</th>\n",
              "      <th>Fish, Seafood</th>\n",
              "      <th>Fruits - Excluding Wine</th>\n",
              "      <th>Meat</th>\n",
              "      <th>Miscellaneous</th>\n",
              "      <th>Milk - Excluding Butter</th>\n",
              "      <th>Offals</th>\n",
              "      <th>Oilcrops</th>\n",
              "      <th>Pulses</th>\n",
              "      <th>Spices</th>\n",
              "      <th>Starchy Roots</th>\n",
              "      <th>Stimulants</th>\n",
              "      <th>Treenuts</th>\n",
              "      <th>Vegetal Products</th>\n",
              "      <th>Vegetable Oils</th>\n",
              "      <th>Vegetables</th>\n",
              "      <th>Obesity</th>\n",
              "      <th>Undernourished</th>\n",
              "      <th>Deaths</th>\n",
              "      <th>Recovered</th>\n",
              "      <th>Active</th>\n",
              "      <th>Population</th>\n",
              "      <th>Confirmed</th>\n",
              "    </tr>\n",
              "  </thead>\n",
              "  <tbody>\n",
              "    <tr>\n",
              "      <th>Animal Products</th>\n",
              "      <td>1.000000</td>\n",
              "      <td>0.430263</td>\n",
              "      <td>-0.500902</td>\n",
              "      <td>0.653546</td>\n",
              "      <td>0.279207</td>\n",
              "      <td>-0.343415</td>\n",
              "      <td>0.841499</td>\n",
              "      <td>0.011107</td>\n",
              "      <td>0.615993</td>\n",
              "      <td>0.320689</td>\n",
              "      <td>-0.106072</td>\n",
              "      <td>-0.204135</td>\n",
              "      <td>-0.042461</td>\n",
              "      <td>-0.438565</td>\n",
              "      <td>0.472760</td>\n",
              "      <td>0.212463</td>\n",
              "      <td>-1.000000</td>\n",
              "      <td>0.071717</td>\n",
              "      <td>-0.165075</td>\n",
              "      <td>0.401594</td>\n",
              "      <td>-0.250317</td>\n",
              "      <td>0.365548</td>\n",
              "      <td>0.331433</td>\n",
              "      <td>0.266150</td>\n",
              "      <td>-0.006637</td>\n",
              "      <td>0.412767</td>\n",
              "    </tr>\n",
              "    <tr>\n",
              "      <th>Animal fats</th>\n",
              "      <td>0.430263</td>\n",
              "      <td>1.000000</td>\n",
              "      <td>-0.493907</td>\n",
              "      <td>0.197248</td>\n",
              "      <td>-0.227158</td>\n",
              "      <td>-0.297966</td>\n",
              "      <td>0.280892</td>\n",
              "      <td>-0.175060</td>\n",
              "      <td>0.094760</td>\n",
              "      <td>-0.247560</td>\n",
              "      <td>0.012522</td>\n",
              "      <td>-0.263169</td>\n",
              "      <td>-0.023565</td>\n",
              "      <td>-0.281123</td>\n",
              "      <td>0.369932</td>\n",
              "      <td>0.375990</td>\n",
              "      <td>-0.430210</td>\n",
              "      <td>0.515696</td>\n",
              "      <td>-0.321688</td>\n",
              "      <td>0.204393</td>\n",
              "      <td>-0.087164</td>\n",
              "      <td>0.265026</td>\n",
              "      <td>0.240524</td>\n",
              "      <td>0.125748</td>\n",
              "      <td>-0.000415</td>\n",
              "      <td>0.262309</td>\n",
              "    </tr>\n",
              "    <tr>\n",
              "      <th>Cereals - Excluding Beer</th>\n",
              "      <td>-0.500902</td>\n",
              "      <td>-0.493907</td>\n",
              "      <td>1.000000</td>\n",
              "      <td>-0.244805</td>\n",
              "      <td>0.048255</td>\n",
              "      <td>-0.095812</td>\n",
              "      <td>-0.374251</td>\n",
              "      <td>-0.074054</td>\n",
              "      <td>-0.336888</td>\n",
              "      <td>0.193407</td>\n",
              "      <td>-0.179621</td>\n",
              "      <td>0.374084</td>\n",
              "      <td>0.018582</td>\n",
              "      <td>0.058663</td>\n",
              "      <td>-0.285763</td>\n",
              "      <td>-0.285786</td>\n",
              "      <td>0.500975</td>\n",
              "      <td>-0.537168</td>\n",
              "      <td>-0.016898</td>\n",
              "      <td>-0.325715</td>\n",
              "      <td>0.150162</td>\n",
              "      <td>-0.239273</td>\n",
              "      <td>-0.201804</td>\n",
              "      <td>-0.197887</td>\n",
              "      <td>0.031850</td>\n",
              "      <td>-0.269079</td>\n",
              "    </tr>\n",
              "    <tr>\n",
              "      <th>Eggs</th>\n",
              "      <td>0.653546</td>\n",
              "      <td>0.197248</td>\n",
              "      <td>-0.244805</td>\n",
              "      <td>1.000000</td>\n",
              "      <td>0.259741</td>\n",
              "      <td>-0.283452</td>\n",
              "      <td>0.553663</td>\n",
              "      <td>-0.033307</td>\n",
              "      <td>0.316408</td>\n",
              "      <td>0.226996</td>\n",
              "      <td>-0.135718</td>\n",
              "      <td>-0.135515</td>\n",
              "      <td>0.042378</td>\n",
              "      <td>-0.361807</td>\n",
              "      <td>0.342335</td>\n",
              "      <td>0.223199</td>\n",
              "      <td>-0.653546</td>\n",
              "      <td>0.065342</td>\n",
              "      <td>-0.124139</td>\n",
              "      <td>0.305961</td>\n",
              "      <td>-0.291837</td>\n",
              "      <td>0.292585</td>\n",
              "      <td>0.290687</td>\n",
              "      <td>0.174405</td>\n",
              "      <td>0.100944</td>\n",
              "      <td>0.331325</td>\n",
              "    </tr>\n",
              "    <tr>\n",
              "      <th>Fish, Seafood</th>\n",
              "      <td>0.279207</td>\n",
              "      <td>-0.227158</td>\n",
              "      <td>0.048255</td>\n",
              "      <td>0.259741</td>\n",
              "      <td>1.000000</td>\n",
              "      <td>-0.057504</td>\n",
              "      <td>0.220739</td>\n",
              "      <td>0.204446</td>\n",
              "      <td>-0.095229</td>\n",
              "      <td>0.294537</td>\n",
              "      <td>0.123573</td>\n",
              "      <td>0.099120</td>\n",
              "      <td>0.131958</td>\n",
              "      <td>-0.026996</td>\n",
              "      <td>-0.000211</td>\n",
              "      <td>-0.049276</td>\n",
              "      <td>-0.279217</td>\n",
              "      <td>-0.297854</td>\n",
              "      <td>0.007909</td>\n",
              "      <td>-0.053856</td>\n",
              "      <td>-0.119411</td>\n",
              "      <td>-0.111974</td>\n",
              "      <td>-0.101472</td>\n",
              "      <td>-0.012548</td>\n",
              "      <td>0.015154</td>\n",
              "      <td>-0.090834</td>\n",
              "    </tr>\n",
              "    <tr>\n",
              "      <th>Fruits - Excluding Wine</th>\n",
              "      <td>-0.343415</td>\n",
              "      <td>-0.297966</td>\n",
              "      <td>-0.095812</td>\n",
              "      <td>-0.283452</td>\n",
              "      <td>-0.057504</td>\n",
              "      <td>1.000000</td>\n",
              "      <td>-0.389944</td>\n",
              "      <td>0.311572</td>\n",
              "      <td>-0.003953</td>\n",
              "      <td>-0.191301</td>\n",
              "      <td>-0.119975</td>\n",
              "      <td>-0.085964</td>\n",
              "      <td>-0.167722</td>\n",
              "      <td>0.373586</td>\n",
              "      <td>-0.247260</td>\n",
              "      <td>-0.249169</td>\n",
              "      <td>0.343291</td>\n",
              "      <td>-0.345930</td>\n",
              "      <td>0.524588</td>\n",
              "      <td>0.058323</td>\n",
              "      <td>-0.027815</td>\n",
              "      <td>-0.022576</td>\n",
              "      <td>-0.021771</td>\n",
              "      <td>-0.028027</td>\n",
              "      <td>-0.033470</td>\n",
              "      <td>-0.031880</td>\n",
              "    </tr>\n",
              "    <tr>\n",
              "      <th>Meat</th>\n",
              "      <td>0.841499</td>\n",
              "      <td>0.280892</td>\n",
              "      <td>-0.374251</td>\n",
              "      <td>0.553663</td>\n",
              "      <td>0.220739</td>\n",
              "      <td>-0.389944</td>\n",
              "      <td>1.000000</td>\n",
              "      <td>-0.019832</td>\n",
              "      <td>0.215641</td>\n",
              "      <td>0.390239</td>\n",
              "      <td>0.013406</td>\n",
              "      <td>-0.112147</td>\n",
              "      <td>-0.012694</td>\n",
              "      <td>-0.380304</td>\n",
              "      <td>0.383930</td>\n",
              "      <td>0.153235</td>\n",
              "      <td>-0.841471</td>\n",
              "      <td>0.122732</td>\n",
              "      <td>-0.311251</td>\n",
              "      <td>0.303124</td>\n",
              "      <td>-0.155131</td>\n",
              "      <td>0.205898</td>\n",
              "      <td>0.157278</td>\n",
              "      <td>0.143825</td>\n",
              "      <td>-0.014220</td>\n",
              "      <td>0.204024</td>\n",
              "    </tr>\n",
              "    <tr>\n",
              "      <th>Miscellaneous</th>\n",
              "      <td>0.011107</td>\n",
              "      <td>-0.175060</td>\n",
              "      <td>-0.074054</td>\n",
              "      <td>-0.033307</td>\n",
              "      <td>0.204446</td>\n",
              "      <td>0.311572</td>\n",
              "      <td>-0.019832</td>\n",
              "      <td>1.000000</td>\n",
              "      <td>0.056524</td>\n",
              "      <td>-0.013061</td>\n",
              "      <td>-0.098666</td>\n",
              "      <td>-0.087474</td>\n",
              "      <td>-0.081199</td>\n",
              "      <td>0.020033</td>\n",
              "      <td>-0.042243</td>\n",
              "      <td>-0.138566</td>\n",
              "      <td>-0.011149</td>\n",
              "      <td>-0.243594</td>\n",
              "      <td>0.242158</td>\n",
              "      <td>0.115050</td>\n",
              "      <td>-0.125401</td>\n",
              "      <td>-0.039973</td>\n",
              "      <td>0.001682</td>\n",
              "      <td>0.012378</td>\n",
              "      <td>-0.005102</td>\n",
              "      <td>0.009263</td>\n",
              "    </tr>\n",
              "    <tr>\n",
              "      <th>Milk - Excluding Butter</th>\n",
              "      <td>0.615993</td>\n",
              "      <td>0.094760</td>\n",
              "      <td>-0.336888</td>\n",
              "      <td>0.316408</td>\n",
              "      <td>-0.095229</td>\n",
              "      <td>-0.003953</td>\n",
              "      <td>0.215641</td>\n",
              "      <td>0.056524</td>\n",
              "      <td>1.000000</td>\n",
              "      <td>0.093194</td>\n",
              "      <td>-0.287445</td>\n",
              "      <td>-0.191963</td>\n",
              "      <td>-0.132013</td>\n",
              "      <td>-0.244948</td>\n",
              "      <td>0.280260</td>\n",
              "      <td>0.047127</td>\n",
              "      <td>-0.616050</td>\n",
              "      <td>-0.132718</td>\n",
              "      <td>0.225988</td>\n",
              "      <td>0.365524</td>\n",
              "      <td>-0.198948</td>\n",
              "      <td>0.396271</td>\n",
              "      <td>0.389343</td>\n",
              "      <td>0.312268</td>\n",
              "      <td>-0.029420</td>\n",
              "      <td>0.487012</td>\n",
              "    </tr>\n",
              "    <tr>\n",
              "      <th>Offals</th>\n",
              "      <td>0.320689</td>\n",
              "      <td>-0.247560</td>\n",
              "      <td>0.193407</td>\n",
              "      <td>0.226996</td>\n",
              "      <td>0.294537</td>\n",
              "      <td>-0.191301</td>\n",
              "      <td>0.390239</td>\n",
              "      <td>-0.013061</td>\n",
              "      <td>0.093194</td>\n",
              "      <td>1.000000</td>\n",
              "      <td>-0.044724</td>\n",
              "      <td>0.203215</td>\n",
              "      <td>-0.021081</td>\n",
              "      <td>-0.057995</td>\n",
              "      <td>0.036325</td>\n",
              "      <td>-0.102109</td>\n",
              "      <td>-0.320678</td>\n",
              "      <td>-0.322375</td>\n",
              "      <td>-0.043753</td>\n",
              "      <td>-0.070652</td>\n",
              "      <td>0.062461</td>\n",
              "      <td>-0.053133</td>\n",
              "      <td>-0.039799</td>\n",
              "      <td>-0.076452</td>\n",
              "      <td>0.077900</td>\n",
              "      <td>-0.070658</td>\n",
              "    </tr>\n",
              "    <tr>\n",
              "      <th>Oilcrops</th>\n",
              "      <td>-0.106072</td>\n",
              "      <td>0.012522</td>\n",
              "      <td>-0.179621</td>\n",
              "      <td>-0.135718</td>\n",
              "      <td>0.123573</td>\n",
              "      <td>-0.119975</td>\n",
              "      <td>0.013406</td>\n",
              "      <td>-0.098666</td>\n",
              "      <td>-0.287445</td>\n",
              "      <td>-0.044724</td>\n",
              "      <td>1.000000</td>\n",
              "      <td>-0.001576</td>\n",
              "      <td>0.152811</td>\n",
              "      <td>-0.064913</td>\n",
              "      <td>-0.094361</td>\n",
              "      <td>0.018035</td>\n",
              "      <td>0.106086</td>\n",
              "      <td>0.208682</td>\n",
              "      <td>-0.222816</td>\n",
              "      <td>-0.097075</td>\n",
              "      <td>-0.008535</td>\n",
              "      <td>-0.201040</td>\n",
              "      <td>-0.228326</td>\n",
              "      <td>-0.111109</td>\n",
              "      <td>-0.021303</td>\n",
              "      <td>-0.255972</td>\n",
              "    </tr>\n",
              "    <tr>\n",
              "      <th>Pulses</th>\n",
              "      <td>-0.204135</td>\n",
              "      <td>-0.263169</td>\n",
              "      <td>0.374084</td>\n",
              "      <td>-0.135515</td>\n",
              "      <td>0.099120</td>\n",
              "      <td>-0.085964</td>\n",
              "      <td>-0.112147</td>\n",
              "      <td>-0.087474</td>\n",
              "      <td>-0.191963</td>\n",
              "      <td>0.203215</td>\n",
              "      <td>-0.001576</td>\n",
              "      <td>1.000000</td>\n",
              "      <td>0.082528</td>\n",
              "      <td>0.102377</td>\n",
              "      <td>-0.165966</td>\n",
              "      <td>-0.125922</td>\n",
              "      <td>0.204150</td>\n",
              "      <td>-0.282630</td>\n",
              "      <td>-0.111898</td>\n",
              "      <td>-0.249613</td>\n",
              "      <td>0.219546</td>\n",
              "      <td>-0.220631</td>\n",
              "      <td>-0.186705</td>\n",
              "      <td>-0.136144</td>\n",
              "      <td>0.039628</td>\n",
              "      <td>-0.224038</td>\n",
              "    </tr>\n",
              "    <tr>\n",
              "      <th>Spices</th>\n",
              "      <td>-0.042461</td>\n",
              "      <td>-0.023565</td>\n",
              "      <td>0.018582</td>\n",
              "      <td>0.042378</td>\n",
              "      <td>0.131958</td>\n",
              "      <td>-0.167722</td>\n",
              "      <td>-0.012694</td>\n",
              "      <td>-0.081199</td>\n",
              "      <td>-0.132013</td>\n",
              "      <td>-0.021081</td>\n",
              "      <td>0.152811</td>\n",
              "      <td>0.082528</td>\n",
              "      <td>1.000000</td>\n",
              "      <td>-0.089262</td>\n",
              "      <td>0.021615</td>\n",
              "      <td>0.147073</td>\n",
              "      <td>0.042477</td>\n",
              "      <td>0.137043</td>\n",
              "      <td>-0.152506</td>\n",
              "      <td>-0.201095</td>\n",
              "      <td>-0.131876</td>\n",
              "      <td>-0.151546</td>\n",
              "      <td>-0.131821</td>\n",
              "      <td>-0.132598</td>\n",
              "      <td>0.060361</td>\n",
              "      <td>-0.174998</td>\n",
              "    </tr>\n",
              "    <tr>\n",
              "      <th>Starchy Roots</th>\n",
              "      <td>-0.438565</td>\n",
              "      <td>-0.281123</td>\n",
              "      <td>0.058663</td>\n",
              "      <td>-0.361807</td>\n",
              "      <td>-0.026996</td>\n",
              "      <td>0.373586</td>\n",
              "      <td>-0.380304</td>\n",
              "      <td>0.020033</td>\n",
              "      <td>-0.244948</td>\n",
              "      <td>-0.057995</td>\n",
              "      <td>-0.064913</td>\n",
              "      <td>0.102377</td>\n",
              "      <td>-0.089262</td>\n",
              "      <td>1.000000</td>\n",
              "      <td>-0.252925</td>\n",
              "      <td>-0.208882</td>\n",
              "      <td>0.438511</td>\n",
              "      <td>-0.312457</td>\n",
              "      <td>0.147847</td>\n",
              "      <td>-0.234318</td>\n",
              "      <td>0.268150</td>\n",
              "      <td>-0.171960</td>\n",
              "      <td>-0.189456</td>\n",
              "      <td>-0.098204</td>\n",
              "      <td>-0.041869</td>\n",
              "      <td>-0.209235</td>\n",
              "    </tr>\n",
              "    <tr>\n",
              "      <th>Stimulants</th>\n",
              "      <td>0.472760</td>\n",
              "      <td>0.369932</td>\n",
              "      <td>-0.285763</td>\n",
              "      <td>0.342335</td>\n",
              "      <td>-0.000211</td>\n",
              "      <td>-0.247260</td>\n",
              "      <td>0.383930</td>\n",
              "      <td>-0.042243</td>\n",
              "      <td>0.280260</td>\n",
              "      <td>0.036325</td>\n",
              "      <td>-0.094361</td>\n",
              "      <td>-0.165966</td>\n",
              "      <td>0.021615</td>\n",
              "      <td>-0.252925</td>\n",
              "      <td>1.000000</td>\n",
              "      <td>0.249636</td>\n",
              "      <td>-0.472685</td>\n",
              "      <td>0.166329</td>\n",
              "      <td>-0.196744</td>\n",
              "      <td>0.236788</td>\n",
              "      <td>-0.141113</td>\n",
              "      <td>0.244439</td>\n",
              "      <td>0.359659</td>\n",
              "      <td>0.105068</td>\n",
              "      <td>-0.074930</td>\n",
              "      <td>0.354509</td>\n",
              "    </tr>\n",
              "    <tr>\n",
              "      <th>Treenuts</th>\n",
              "      <td>0.212463</td>\n",
              "      <td>0.375990</td>\n",
              "      <td>-0.285786</td>\n",
              "      <td>0.223199</td>\n",
              "      <td>-0.049276</td>\n",
              "      <td>-0.249169</td>\n",
              "      <td>0.153235</td>\n",
              "      <td>-0.138566</td>\n",
              "      <td>0.047127</td>\n",
              "      <td>-0.102109</td>\n",
              "      <td>0.018035</td>\n",
              "      <td>-0.125922</td>\n",
              "      <td>0.147073</td>\n",
              "      <td>-0.208882</td>\n",
              "      <td>0.249636</td>\n",
              "      <td>1.000000</td>\n",
              "      <td>-0.212378</td>\n",
              "      <td>0.391789</td>\n",
              "      <td>-0.211004</td>\n",
              "      <td>0.108455</td>\n",
              "      <td>-0.079802</td>\n",
              "      <td>0.075107</td>\n",
              "      <td>0.103128</td>\n",
              "      <td>0.115550</td>\n",
              "      <td>0.042833</td>\n",
              "      <td>0.147881</td>\n",
              "    </tr>\n",
              "    <tr>\n",
              "      <th>Vegetal Products</th>\n",
              "      <td>-1.000000</td>\n",
              "      <td>-0.430210</td>\n",
              "      <td>0.500975</td>\n",
              "      <td>-0.653546</td>\n",
              "      <td>-0.279217</td>\n",
              "      <td>0.343291</td>\n",
              "      <td>-0.841471</td>\n",
              "      <td>-0.011149</td>\n",
              "      <td>-0.616050</td>\n",
              "      <td>-0.320678</td>\n",
              "      <td>0.106086</td>\n",
              "      <td>0.204150</td>\n",
              "      <td>0.042477</td>\n",
              "      <td>0.438511</td>\n",
              "      <td>-0.472685</td>\n",
              "      <td>-0.212378</td>\n",
              "      <td>1.000000</td>\n",
              "      <td>-0.071674</td>\n",
              "      <td>0.164949</td>\n",
              "      <td>-0.401615</td>\n",
              "      <td>0.250310</td>\n",
              "      <td>-0.365551</td>\n",
              "      <td>-0.331432</td>\n",
              "      <td>-0.266167</td>\n",
              "      <td>0.006637</td>\n",
              "      <td>-0.412772</td>\n",
              "    </tr>\n",
              "    <tr>\n",
              "      <th>Vegetable Oils</th>\n",
              "      <td>0.071717</td>\n",
              "      <td>0.515696</td>\n",
              "      <td>-0.537168</td>\n",
              "      <td>0.065342</td>\n",
              "      <td>-0.297854</td>\n",
              "      <td>-0.345930</td>\n",
              "      <td>0.122732</td>\n",
              "      <td>-0.243594</td>\n",
              "      <td>-0.132718</td>\n",
              "      <td>-0.322375</td>\n",
              "      <td>0.208682</td>\n",
              "      <td>-0.282630</td>\n",
              "      <td>0.137043</td>\n",
              "      <td>-0.312457</td>\n",
              "      <td>0.166329</td>\n",
              "      <td>0.391789</td>\n",
              "      <td>-0.071674</td>\n",
              "      <td>1.000000</td>\n",
              "      <td>-0.414237</td>\n",
              "      <td>-0.009926</td>\n",
              "      <td>0.042070</td>\n",
              "      <td>-0.016422</td>\n",
              "      <td>-0.024425</td>\n",
              "      <td>0.005806</td>\n",
              "      <td>0.003524</td>\n",
              "      <td>-0.015488</td>\n",
              "    </tr>\n",
              "    <tr>\n",
              "      <th>Vegetables</th>\n",
              "      <td>-0.165075</td>\n",
              "      <td>-0.321688</td>\n",
              "      <td>-0.016898</td>\n",
              "      <td>-0.124139</td>\n",
              "      <td>0.007909</td>\n",
              "      <td>0.524588</td>\n",
              "      <td>-0.311251</td>\n",
              "      <td>0.242158</td>\n",
              "      <td>0.225988</td>\n",
              "      <td>-0.043753</td>\n",
              "      <td>-0.222816</td>\n",
              "      <td>-0.111898</td>\n",
              "      <td>-0.152506</td>\n",
              "      <td>0.147847</td>\n",
              "      <td>-0.196744</td>\n",
              "      <td>-0.211004</td>\n",
              "      <td>0.164949</td>\n",
              "      <td>-0.414237</td>\n",
              "      <td>1.000000</td>\n",
              "      <td>0.054664</td>\n",
              "      <td>-0.132373</td>\n",
              "      <td>0.040897</td>\n",
              "      <td>0.068000</td>\n",
              "      <td>0.003071</td>\n",
              "      <td>0.052450</td>\n",
              "      <td>0.056585</td>\n",
              "    </tr>\n",
              "    <tr>\n",
              "      <th>Obesity</th>\n",
              "      <td>0.401594</td>\n",
              "      <td>0.204393</td>\n",
              "      <td>-0.325715</td>\n",
              "      <td>0.305961</td>\n",
              "      <td>-0.053856</td>\n",
              "      <td>0.058323</td>\n",
              "      <td>0.303124</td>\n",
              "      <td>0.115050</td>\n",
              "      <td>0.365524</td>\n",
              "      <td>-0.070652</td>\n",
              "      <td>-0.097075</td>\n",
              "      <td>-0.249613</td>\n",
              "      <td>-0.201095</td>\n",
              "      <td>-0.234318</td>\n",
              "      <td>0.236788</td>\n",
              "      <td>0.108455</td>\n",
              "      <td>-0.401615</td>\n",
              "      <td>-0.009926</td>\n",
              "      <td>0.054664</td>\n",
              "      <td>1.000000</td>\n",
              "      <td>-0.438033</td>\n",
              "      <td>0.474918</td>\n",
              "      <td>0.419747</td>\n",
              "      <td>0.295692</td>\n",
              "      <td>-0.180232</td>\n",
              "      <td>0.495984</td>\n",
              "    </tr>\n",
              "    <tr>\n",
              "      <th>Undernourished</th>\n",
              "      <td>-0.250317</td>\n",
              "      <td>-0.087164</td>\n",
              "      <td>0.150162</td>\n",
              "      <td>-0.291837</td>\n",
              "      <td>-0.119411</td>\n",
              "      <td>-0.027815</td>\n",
              "      <td>-0.155131</td>\n",
              "      <td>-0.125401</td>\n",
              "      <td>-0.198948</td>\n",
              "      <td>0.062461</td>\n",
              "      <td>-0.008535</td>\n",
              "      <td>0.219546</td>\n",
              "      <td>-0.131876</td>\n",
              "      <td>0.268150</td>\n",
              "      <td>-0.141113</td>\n",
              "      <td>-0.079802</td>\n",
              "      <td>0.250310</td>\n",
              "      <td>0.042070</td>\n",
              "      <td>-0.132373</td>\n",
              "      <td>-0.438033</td>\n",
              "      <td>1.000000</td>\n",
              "      <td>-0.224141</td>\n",
              "      <td>-0.222705</td>\n",
              "      <td>-0.074870</td>\n",
              "      <td>-0.028998</td>\n",
              "      <td>-0.219681</td>\n",
              "    </tr>\n",
              "    <tr>\n",
              "      <th>Deaths</th>\n",
              "      <td>0.365548</td>\n",
              "      <td>0.265026</td>\n",
              "      <td>-0.239273</td>\n",
              "      <td>0.292585</td>\n",
              "      <td>-0.111974</td>\n",
              "      <td>-0.022576</td>\n",
              "      <td>0.205898</td>\n",
              "      <td>-0.039973</td>\n",
              "      <td>0.396271</td>\n",
              "      <td>-0.053133</td>\n",
              "      <td>-0.201040</td>\n",
              "      <td>-0.220631</td>\n",
              "      <td>-0.151546</td>\n",
              "      <td>-0.171960</td>\n",
              "      <td>0.244439</td>\n",
              "      <td>0.075107</td>\n",
              "      <td>-0.365551</td>\n",
              "      <td>-0.016422</td>\n",
              "      <td>0.040897</td>\n",
              "      <td>0.474918</td>\n",
              "      <td>-0.224141</td>\n",
              "      <td>1.000000</td>\n",
              "      <td>0.690258</td>\n",
              "      <td>0.515461</td>\n",
              "      <td>-0.063342</td>\n",
              "      <td>0.840476</td>\n",
              "    </tr>\n",
              "    <tr>\n",
              "      <th>Recovered</th>\n",
              "      <td>0.331433</td>\n",
              "      <td>0.240524</td>\n",
              "      <td>-0.201804</td>\n",
              "      <td>0.290687</td>\n",
              "      <td>-0.101472</td>\n",
              "      <td>-0.021771</td>\n",
              "      <td>0.157278</td>\n",
              "      <td>0.001682</td>\n",
              "      <td>0.389343</td>\n",
              "      <td>-0.039799</td>\n",
              "      <td>-0.228326</td>\n",
              "      <td>-0.186705</td>\n",
              "      <td>-0.131821</td>\n",
              "      <td>-0.189456</td>\n",
              "      <td>0.359659</td>\n",
              "      <td>0.103128</td>\n",
              "      <td>-0.331432</td>\n",
              "      <td>-0.024425</td>\n",
              "      <td>0.068000</td>\n",
              "      <td>0.419747</td>\n",
              "      <td>-0.222705</td>\n",
              "      <td>0.690258</td>\n",
              "      <td>1.000000</td>\n",
              "      <td>0.064095</td>\n",
              "      <td>-0.096515</td>\n",
              "      <td>0.862992</td>\n",
              "    </tr>\n",
              "    <tr>\n",
              "      <th>Active</th>\n",
              "      <td>0.266150</td>\n",
              "      <td>0.125748</td>\n",
              "      <td>-0.197887</td>\n",
              "      <td>0.174405</td>\n",
              "      <td>-0.012548</td>\n",
              "      <td>-0.028027</td>\n",
              "      <td>0.143825</td>\n",
              "      <td>0.012378</td>\n",
              "      <td>0.312268</td>\n",
              "      <td>-0.076452</td>\n",
              "      <td>-0.111109</td>\n",
              "      <td>-0.136144</td>\n",
              "      <td>-0.132598</td>\n",
              "      <td>-0.098204</td>\n",
              "      <td>0.105068</td>\n",
              "      <td>0.115550</td>\n",
              "      <td>-0.266167</td>\n",
              "      <td>0.005806</td>\n",
              "      <td>0.003071</td>\n",
              "      <td>0.295692</td>\n",
              "      <td>-0.074870</td>\n",
              "      <td>0.515461</td>\n",
              "      <td>0.064095</td>\n",
              "      <td>1.000000</td>\n",
              "      <td>0.011708</td>\n",
              "      <td>0.553232</td>\n",
              "    </tr>\n",
              "    <tr>\n",
              "      <th>Population</th>\n",
              "      <td>-0.006637</td>\n",
              "      <td>-0.000415</td>\n",
              "      <td>0.031850</td>\n",
              "      <td>0.100944</td>\n",
              "      <td>0.015154</td>\n",
              "      <td>-0.033470</td>\n",
              "      <td>-0.014220</td>\n",
              "      <td>-0.005102</td>\n",
              "      <td>-0.029420</td>\n",
              "      <td>0.077900</td>\n",
              "      <td>-0.021303</td>\n",
              "      <td>0.039628</td>\n",
              "      <td>0.060361</td>\n",
              "      <td>-0.041869</td>\n",
              "      <td>-0.074930</td>\n",
              "      <td>0.042833</td>\n",
              "      <td>0.006637</td>\n",
              "      <td>0.003524</td>\n",
              "      <td>0.052450</td>\n",
              "      <td>-0.180232</td>\n",
              "      <td>-0.028998</td>\n",
              "      <td>-0.063342</td>\n",
              "      <td>-0.096515</td>\n",
              "      <td>0.011708</td>\n",
              "      <td>1.000000</td>\n",
              "      <td>-0.075687</td>\n",
              "    </tr>\n",
              "    <tr>\n",
              "      <th>Confirmed</th>\n",
              "      <td>0.412767</td>\n",
              "      <td>0.262309</td>\n",
              "      <td>-0.269079</td>\n",
              "      <td>0.331325</td>\n",
              "      <td>-0.090834</td>\n",
              "      <td>-0.031880</td>\n",
              "      <td>0.204024</td>\n",
              "      <td>0.009263</td>\n",
              "      <td>0.487012</td>\n",
              "      <td>-0.070658</td>\n",
              "      <td>-0.255972</td>\n",
              "      <td>-0.224038</td>\n",
              "      <td>-0.174998</td>\n",
              "      <td>-0.209235</td>\n",
              "      <td>0.354509</td>\n",
              "      <td>0.147881</td>\n",
              "      <td>-0.412772</td>\n",
              "      <td>-0.015488</td>\n",
              "      <td>0.056585</td>\n",
              "      <td>0.495984</td>\n",
              "      <td>-0.219681</td>\n",
              "      <td>0.840476</td>\n",
              "      <td>0.862992</td>\n",
              "      <td>0.553232</td>\n",
              "      <td>-0.075687</td>\n",
              "      <td>1.000000</td>\n",
              "    </tr>\n",
              "  </tbody>\n",
              "</table>\n",
              "</div>\n",
              "      <button class=\"colab-df-convert\" onclick=\"convertToInteractive('df-ce0fae71-3000-471c-a5fb-0b2145344509')\"\n",
              "              title=\"Convert this dataframe to an interactive table.\"\n",
              "              style=\"display:none;\">\n",
              "        \n",
              "  <svg xmlns=\"http://www.w3.org/2000/svg\" height=\"24px\"viewBox=\"0 0 24 24\"\n",
              "       width=\"24px\">\n",
              "    <path d=\"M0 0h24v24H0V0z\" fill=\"none\"/>\n",
              "    <path d=\"M18.56 5.44l.94 2.06.94-2.06 2.06-.94-2.06-.94-.94-2.06-.94 2.06-2.06.94zm-11 1L8.5 8.5l.94-2.06 2.06-.94-2.06-.94L8.5 2.5l-.94 2.06-2.06.94zm10 10l.94 2.06.94-2.06 2.06-.94-2.06-.94-.94-2.06-.94 2.06-2.06.94z\"/><path d=\"M17.41 7.96l-1.37-1.37c-.4-.4-.92-.59-1.43-.59-.52 0-1.04.2-1.43.59L10.3 9.45l-7.72 7.72c-.78.78-.78 2.05 0 2.83L4 21.41c.39.39.9.59 1.41.59.51 0 1.02-.2 1.41-.59l7.78-7.78 2.81-2.81c.8-.78.8-2.07 0-2.86zM5.41 20L4 18.59l7.72-7.72 1.47 1.35L5.41 20z\"/>\n",
              "  </svg>\n",
              "      </button>\n",
              "      \n",
              "  <style>\n",
              "    .colab-df-container {\n",
              "      display:flex;\n",
              "      flex-wrap:wrap;\n",
              "      gap: 12px;\n",
              "    }\n",
              "\n",
              "    .colab-df-convert {\n",
              "      background-color: #E8F0FE;\n",
              "      border: none;\n",
              "      border-radius: 50%;\n",
              "      cursor: pointer;\n",
              "      display: none;\n",
              "      fill: #1967D2;\n",
              "      height: 32px;\n",
              "      padding: 0 0 0 0;\n",
              "      width: 32px;\n",
              "    }\n",
              "\n",
              "    .colab-df-convert:hover {\n",
              "      background-color: #E2EBFA;\n",
              "      box-shadow: 0px 1px 2px rgba(60, 64, 67, 0.3), 0px 1px 3px 1px rgba(60, 64, 67, 0.15);\n",
              "      fill: #174EA6;\n",
              "    }\n",
              "\n",
              "    [theme=dark] .colab-df-convert {\n",
              "      background-color: #3B4455;\n",
              "      fill: #D2E3FC;\n",
              "    }\n",
              "\n",
              "    [theme=dark] .colab-df-convert:hover {\n",
              "      background-color: #434B5C;\n",
              "      box-shadow: 0px 1px 3px 1px rgba(0, 0, 0, 0.15);\n",
              "      filter: drop-shadow(0px 1px 2px rgba(0, 0, 0, 0.3));\n",
              "      fill: #FFFFFF;\n",
              "    }\n",
              "  </style>\n",
              "\n",
              "      <script>\n",
              "        const buttonEl =\n",
              "          document.querySelector('#df-ce0fae71-3000-471c-a5fb-0b2145344509 button.colab-df-convert');\n",
              "        buttonEl.style.display =\n",
              "          google.colab.kernel.accessAllowed ? 'block' : 'none';\n",
              "\n",
              "        async function convertToInteractive(key) {\n",
              "          const element = document.querySelector('#df-ce0fae71-3000-471c-a5fb-0b2145344509');\n",
              "          const dataTable =\n",
              "            await google.colab.kernel.invokeFunction('convertToInteractive',\n",
              "                                                     [key], {});\n",
              "          if (!dataTable) return;\n",
              "\n",
              "          const docLinkHtml = 'Like what you see? Visit the ' +\n",
              "            '<a target=\"_blank\" href=https://colab.research.google.com/notebooks/data_table.ipynb>data table notebook</a>'\n",
              "            + ' to learn more about interactive tables.';\n",
              "          element.innerHTML = '';\n",
              "          dataTable['output_type'] = 'display_data';\n",
              "          await google.colab.output.renderOutput(dataTable, element);\n",
              "          const docLink = document.createElement('div');\n",
              "          docLink.innerHTML = docLinkHtml;\n",
              "          element.appendChild(docLink);\n",
              "        }\n",
              "      </script>\n",
              "    </div>\n",
              "  </div>\n",
              "  "
            ]
          },
          "metadata": {},
          "execution_count": 55
        }
      ]
    },
    {
      "cell_type": "code",
      "source": [
        "#correlation matrix\n",
        "mask=np.triu(np.ones_like(corDT,dtype=bool))\n",
        "mask=mask[1:,:-1]\n",
        "cor1=corDT.iloc[1:,:-1].copy()\n",
        "plt.figure(figsize=(18,15))\n",
        "sns.heatmap(cor1,mask=mask,annot=True,cmap='bwr',vmin=-1,vmax=1)\n",
        "plt.title('Correlation Between Features', fontsize=18)"
      ],
      "metadata": {
        "colab": {
          "base_uri": "https://localhost:8080/",
          "height": 989
        },
        "id": "IL-pK0Vq5v0s",
        "outputId": "9a98c03c-0ef5-4185-ca4f-d6aa2281f8c1"
      },
      "execution_count": 56,
      "outputs": [
        {
          "output_type": "execute_result",
          "data": {
            "text/plain": [
              "Text(0.5, 1.0, 'Correlation Between Features')"
            ]
          },
          "metadata": {},
          "execution_count": 56
        },
        {
          "output_type": "display_data",
          "data": {
            "text/plain": [
              "<Figure size 1296x1080 with 2 Axes>"
            ],
            "image/png": "[encoded data removed]"
          },
          "metadata": {
            "needs_background": "light"
          }
        }
      ]
    },
    {
      "cell_type": "markdown",
      "metadata": {
        "id": "7sB8PAHUnhVV"
      },
      "source": [
        "**FEATURE ENGINEERING**"
      ]
    },
    {
      "cell_type": "code",
      "source": [
        "# Split the dataset into features and target variable\n",
        "X = DT1\n",
        "y = DT2\n"
      ],
      "metadata": {
        "id": "blykVm54TvF8"
      },
      "execution_count": 57,
      "outputs": []
    },
    {
      "cell_type": "code",
      "execution_count": 58,
      "metadata": {
        "id": "njD8d4HWnUZ7",
        "colab": {
          "base_uri": "https://localhost:8080/"
        },
        "outputId": "dc4b6ac4-d2d1-47e7-b962-b82be2296383"
      },
      "outputs": [
        {
          "output_type": "execute_result",
          "data": {
            "text/plain": [
              "(680, 26)"
            ]
          },
          "metadata": {},
          "execution_count": 58
        }
      ],
      "source": [
        "DT3.shape"
      ]
    },
    {
      "cell_type": "markdown",
      "source": [
        "### Outlier removal"
      ],
      "metadata": {
        "id": "wD07jQiPzszi"
      }
    },
    {
      "cell_type": "code",
      "execution_count": 59,
      "metadata": {
        "id": "VfTcNi90nUBw",
        "colab": {
          "base_uri": "https://localhost:8080/",
          "height": 474
        },
        "outputId": "ae6203e5-bf36-4813-a683-d346740f17da"
      },
      "outputs": [
        {
          "output_type": "execute_result",
          "data": {
            "text/plain": [
              "Text(0, 0.5, 'Values')"
            ]
          },
          "metadata": {},
          "execution_count": 59
        },
        {
          "output_type": "display_data",
          "data": {
            "text/plain": [
              "<Figure size 3600x1440 with 1 Axes>"
            ],
            "image/png": "[encoded data removed]"
          },
          "metadata": {
            "needs_background": "light"
          }
        }
      ],
      "source": [
        "#data = list(df.select_dtypes(include=['int64','float64']).columns)\n",
        "data = X.select_dtypes(include=['int64','float64'])\n",
        "plt.figure(figsize=(50,20))\n",
        "sns.boxplot(data=data)\n",
        "plt.title('outliers',fontsize=40)\n",
        "plt.xlabel('Variables that predict the Optimal Plan')\n",
        "plt.ylabel('Values')"
      ]
    },
    {
      "cell_type": "code",
      "source": [
        "def outlier_removal(col):\n",
        "    sorted(col)\n",
        "    Q1,Q3=np.percentile(col,[25,75])\n",
        "    IQR=Q3-Q1\n",
        "    lr= Q1-(1.5 * IQR)\n",
        "    ur= Q3+(1.5 * IQR)\n",
        "    return lr, ur\n",
        "    "
      ],
      "metadata": {
        "id": "5bWcGwhw0BTd"
      },
      "execution_count": 60,
      "outputs": []
    },
    {
      "cell_type": "code",
      "source": [
        "for column in X.columns:\n",
        "    if X[column].dtype != 'object': \n",
        "        lr,ur=outlier_removal(X[column])\n",
        "        X[column]=np.where(X[column]>ur,ur,X[column])\n",
        "        X[column]=np.where(X[column]<lr,lr,X[column])"
      ],
      "metadata": {
        "id": "2D76DuWV0Iiu"
      },
      "execution_count": 61,
      "outputs": []
    },
    {
      "cell_type": "code",
      "source": [
        "plt.figure(figsize=(50,10))\n",
        "sns.boxplot(data=X)\n",
        "plt.title('outliers')\n",
        "plt.xlabel('Variables that predict the Optimal Plan')\n",
        "plt.ylabel('Values')"
      ],
      "metadata": {
        "colab": {
          "base_uri": "https://localhost:8080/",
          "height": 262
        },
        "id": "_Bfz9Cdx0M1j",
        "outputId": "568611e1-0962-4b3e-8e11-47e0b3517e69"
      },
      "execution_count": 62,
      "outputs": [
        {
          "output_type": "execute_result",
          "data": {
            "text/plain": [
              "Text(0, 0.5, 'Values')"
            ]
          },
          "metadata": {},
          "execution_count": 62
        },
        {
          "output_type": "display_data",
          "data": {
            "text/plain": [
              "<Figure size 3600x720 with 1 Axes>"
            ],
            "image/png": "[encoded data removed]"
          },
          "metadata": {
            "needs_background": "light"
          }
        }
      ]
    },
    {
      "cell_type": "code",
      "source": [
        "DT3.head(1)"
      ],
      "metadata": {
        "colab": {
          "base_uri": "https://localhost:8080/",
          "height": 211
        },
        "id": "3iz7bOCECdrn",
        "outputId": "af6cc34c-9ba0-4101-b2a4-7aaa919c0c2e"
      },
      "execution_count": 63,
      "outputs": [
        {
          "output_type": "execute_result",
          "data": {
            "text/plain": [
              "                        Animal Products  Animal fats  \\\n",
              "Country     Categories                                 \n",
              "Afghanistan Fats                21.6397       6.2224   \n",
              "\n",
              "                        Cereals - Excluding Beer    Eggs  Fish, Seafood  \\\n",
              "Country     Categories                                                    \n",
              "Afghanistan Fats                          8.0353  0.6859         0.0327   \n",
              "\n",
              "                        Fruits - Excluding Wine    Meat  Miscellaneous  \\\n",
              "Country     Categories                                                   \n",
              "Afghanistan Fats                         0.4246  6.1244         0.0163   \n",
              "\n",
              "                        Milk - Excluding Butter  Offals  Oilcrops  Pulses  \\\n",
              "Country     Categories                                                      \n",
              "Afghanistan Fats                         8.2803  0.3103    1.0452   0.196   \n",
              "\n",
              "                        Spices  Starchy Roots  Stimulants  Treenuts  \\\n",
              "Country     Categories                                                \n",
              "Afghanistan Fats        0.2776          0.049       0.098    0.7513   \n",
              "\n",
              "                        Vegetal Products  Vegetable Oils  Vegetables  Obesity  \\\n",
              "Country     Categories                                                          \n",
              "Afghanistan Fats                 28.3684         17.0831      0.3593      4.5   \n",
              "\n",
              "                        Undernourished    Deaths  Recovered    Active  \\\n",
              "Country     Categories                                                  \n",
              "Afghanistan Fats                  29.8  0.006186   0.123374  0.012574   \n",
              "\n",
              "                        Population  Confirmed  \n",
              "Country     Categories                         \n",
              "Afghanistan Fats        38928000.0   0.142134  "
            ],
            "text/html": [
              "\n",
              "  <div id=\"df-651133bf-ce0d-4a87-b9c8-21150931fab4\">\n",
              "    <div class=\"colab-df-container\">\n",
              "      <div>\n",
              "<style scoped>\n",
              "    .dataframe tbody tr th:only-of-type {\n",
              "        vertical-align: middle;\n",
              "    }\n",
              "\n",
              "    .dataframe tbody tr th {\n",
              "        vertical-align: top;\n",
              "    }\n",
              "\n",
              "    .dataframe thead th {\n",
              "        text-align: right;\n",
              "    }\n",
              "</style>\n",
              "<table border=\"1\" class=\"dataframe\">\n",
              "  <thead>\n",
              "    <tr style=\"text-align: right;\">\n",
              "      <th></th>\n",
              "      <th></th>\n",
              "      <th>Animal Products</th>\n",
              "      <th>Animal fats</th>\n",
              "      <th>Cereals - Excluding Beer</th>\n",
              "      <th>Eggs</th>\n",
              "      <th>Fish, Seafood</th>\n",
              "      <th>Fruits - Excluding Wine</th>\n",
              "      <th>Meat</th>\n",
              "      <th>Miscellaneous</th>\n",
              "      <th>Milk - Excluding Butter</th>\n",
              "      <th>Offals</th>\n",
              "      <th>Oilcrops</th>\n",
              "      <th>Pulses</th>\n",
              "      <th>Spices</th>\n",
              "      <th>Starchy Roots</th>\n",
              "      <th>Stimulants</th>\n",
              "      <th>Treenuts</th>\n",
              "      <th>Vegetal Products</th>\n",
              "      <th>Vegetable Oils</th>\n",
              "      <th>Vegetables</th>\n",
              "      <th>Obesity</th>\n",
              "      <th>Undernourished</th>\n",
              "      <th>Deaths</th>\n",
              "      <th>Recovered</th>\n",
              "      <th>Active</th>\n",
              "      <th>Population</th>\n",
              "      <th>Confirmed</th>\n",
              "    </tr>\n",
              "    <tr>\n",
              "      <th>Country</th>\n",
              "      <th>Categories</th>\n",
              "      <th></th>\n",
              "      <th></th>\n",
              "      <th></th>\n",
              "      <th></th>\n",
              "      <th></th>\n",
              "      <th></th>\n",
              "      <th></th>\n",
              "      <th></th>\n",
              "      <th></th>\n",
              "      <th></th>\n",
              "      <th></th>\n",
              "      <th></th>\n",
              "      <th></th>\n",
              "      <th></th>\n",
              "      <th></th>\n",
              "      <th></th>\n",
              "      <th></th>\n",
              "      <th></th>\n",
              "      <th></th>\n",
              "      <th></th>\n",
              "      <th></th>\n",
              "      <th></th>\n",
              "      <th></th>\n",
              "      <th></th>\n",
              "      <th></th>\n",
              "      <th></th>\n",
              "    </tr>\n",
              "  </thead>\n",
              "  <tbody>\n",
              "    <tr>\n",
              "      <th>Afghanistan</th>\n",
              "      <th>Fats</th>\n",
              "      <td>21.6397</td>\n",
              "      <td>6.2224</td>\n",
              "      <td>8.0353</td>\n",
              "      <td>0.6859</td>\n",
              "      <td>0.0327</td>\n",
              "      <td>0.4246</td>\n",
              "      <td>6.1244</td>\n",
              "      <td>0.0163</td>\n",
              "      <td>8.2803</td>\n",
              "      <td>0.3103</td>\n",
              "      <td>1.0452</td>\n",
              "      <td>0.196</td>\n",
              "      <td>0.2776</td>\n",
              "      <td>0.049</td>\n",
              "      <td>0.098</td>\n",
              "      <td>0.7513</td>\n",
              "      <td>28.3684</td>\n",
              "      <td>17.0831</td>\n",
              "      <td>0.3593</td>\n",
              "      <td>4.5</td>\n",
              "      <td>29.8</td>\n",
              "      <td>0.006186</td>\n",
              "      <td>0.123374</td>\n",
              "      <td>0.012574</td>\n",
              "      <td>38928000.0</td>\n",
              "      <td>0.142134</td>\n",
              "    </tr>\n",
              "  </tbody>\n",
              "</table>\n",
              "</div>\n",
              "      <button class=\"colab-df-convert\" onclick=\"convertToInteractive('df-651133bf-ce0d-4a87-b9c8-21150931fab4')\"\n",
              "              title=\"Convert this dataframe to an interactive table.\"\n",
              "              style=\"display:none;\">\n",
              "        \n",
              "  <svg xmlns=\"http://www.w3.org/2000/svg\" height=\"24px\"viewBox=\"0 0 24 24\"\n",
              "       width=\"24px\">\n",
              "    <path d=\"M0 0h24v24H0V0z\" fill=\"none\"/>\n",
              "    <path d=\"M18.56 5.44l.94 2.06.94-2.06 2.06-.94-2.06-.94-.94-2.06-.94 2.06-2.06.94zm-11 1L8.5 8.5l.94-2.06 2.06-.94-2.06-.94L8.5 2.5l-.94 2.06-2.06.94zm10 10l.94 2.06.94-2.06 2.06-.94-2.06-.94-.94-2.06-.94 2.06-2.06.94z\"/><path d=\"M17.41 7.96l-1.37-1.37c-.4-.4-.92-.59-1.43-.59-.52 0-1.04.2-1.43.59L10.3 9.45l-7.72 7.72c-.78.78-.78 2.05 0 2.83L4 21.41c.39.39.9.59 1.41.59.51 0 1.02-.2 1.41-.59l7.78-7.78 2.81-2.81c.8-.78.8-2.07 0-2.86zM5.41 20L4 18.59l7.72-7.72 1.47 1.35L5.41 20z\"/>\n",
              "  </svg>\n",
              "      </button>\n",
              "      \n",
              "  <style>\n",
              "    .colab-df-container {\n",
              "      display:flex;\n",
              "      flex-wrap:wrap;\n",
              "      gap: 12px;\n",
              "    }\n",
              "\n",
              "    .colab-df-convert {\n",
              "      background-color: #E8F0FE;\n",
              "      border: none;\n",
              "      border-radius: 50%;\n",
              "      cursor: pointer;\n",
              "      display: none;\n",
              "      fill: #1967D2;\n",
              "      height: 32px;\n",
              "      padding: 0 0 0 0;\n",
              "      width: 32px;\n",
              "    }\n",
              "\n",
              "    .colab-df-convert:hover {\n",
              "      background-color: #E2EBFA;\n",
              "      box-shadow: 0px 1px 2px rgba(60, 64, 67, 0.3), 0px 1px 3px 1px rgba(60, 64, 67, 0.15);\n",
              "      fill: #174EA6;\n",
              "    }\n",
              "\n",
              "    [theme=dark] .colab-df-convert {\n",
              "      background-color: #3B4455;\n",
              "      fill: #D2E3FC;\n",
              "    }\n",
              "\n",
              "    [theme=dark] .colab-df-convert:hover {\n",
              "      background-color: #434B5C;\n",
              "      box-shadow: 0px 1px 3px 1px rgba(0, 0, 0, 0.15);\n",
              "      filter: drop-shadow(0px 1px 2px rgba(0, 0, 0, 0.3));\n",
              "      fill: #FFFFFF;\n",
              "    }\n",
              "  </style>\n",
              "\n",
              "      <script>\n",
              "        const buttonEl =\n",
              "          document.querySelector('#df-651133bf-ce0d-4a87-b9c8-21150931fab4 button.colab-df-convert');\n",
              "        buttonEl.style.display =\n",
              "          google.colab.kernel.accessAllowed ? 'block' : 'none';\n",
              "\n",
              "        async function convertToInteractive(key) {\n",
              "          const element = document.querySelector('#df-651133bf-ce0d-4a87-b9c8-21150931fab4');\n",
              "          const dataTable =\n",
              "            await google.colab.kernel.invokeFunction('convertToInteractive',\n",
              "                                                     [key], {});\n",
              "          if (!dataTable) return;\n",
              "\n",
              "          const docLinkHtml = 'Like what you see? Visit the ' +\n",
              "            '<a target=\"_blank\" href=https://colab.research.google.com/notebooks/data_table.ipynb>data table notebook</a>'\n",
              "            + ' to learn more about interactive tables.';\n",
              "          element.innerHTML = '';\n",
              "          dataTable['output_type'] = 'display_data';\n",
              "          await google.colab.output.renderOutput(dataTable, element);\n",
              "          const docLink = document.createElement('div');\n",
              "          docLink.innerHTML = docLinkHtml;\n",
              "          element.appendChild(docLink);\n",
              "        }\n",
              "      </script>\n",
              "    </div>\n",
              "  </div>\n",
              "  "
            ]
          },
          "metadata": {},
          "execution_count": 63
        }
      ]
    },
    {
      "cell_type": "markdown",
      "source": [
        "**NORMALIZATION/Standard Scaler/PCA vs non-PCA**"
      ],
      "metadata": {
        "id": "SJ0827YD2LpN"
      }
    },
    {
      "cell_type": "code",
      "source": [
        "X = DT3.drop('Confirmed', axis=1)\n",
        "y = DT3['Confirmed']"
      ],
      "metadata": {
        "id": "nrt-m07z-zep"
      },
      "execution_count": 64,
      "outputs": []
    },
    {
      "cell_type": "code",
      "source": [
        "#train_test_split\n",
        "from sklearn.model_selection import train_test_split\n",
        "\n",
        "X_train, X_test, y_train, y_test = X_train, X_test, y_train, y_test = train_test_split(X,y, test_size=0.25, random_state=1)"
      ],
      "metadata": {
        "id": "v-nGkkHD23cP"
      },
      "execution_count": 65,
      "outputs": []
    },
    {
      "cell_type": "code",
      "source": [
        "\"X_train:\"\n",
        "X_train.shape"
      ],
      "metadata": {
        "colab": {
          "base_uri": "https://localhost:8080/"
        },
        "id": "5O4q_acpwigX",
        "outputId": "c0c2d2d3-bbd2-4c98-b265-a4cacd34be9e"
      },
      "execution_count": 66,
      "outputs": [
        {
          "output_type": "execute_result",
          "data": {
            "text/plain": [
              "(510, 25)"
            ]
          },
          "metadata": {},
          "execution_count": 66
        }
      ]
    },
    {
      "cell_type": "code",
      "source": [
        "\"y_train:\"\n",
        "y_train.shape"
      ],
      "metadata": {
        "colab": {
          "base_uri": "https://localhost:8080/"
        },
        "id": "NypJlnxFxJU3",
        "outputId": "f7eb9bfd-e284-41c3-9b5b-5f814de60e6d"
      },
      "execution_count": 67,
      "outputs": [
        {
          "output_type": "execute_result",
          "data": {
            "text/plain": [
              "(510,)"
            ]
          },
          "metadata": {},
          "execution_count": 67
        }
      ]
    },
    {
      "cell_type": "code",
      "source": [
        "\"X_test:\"\n",
        "X_test.shape"
      ],
      "metadata": {
        "colab": {
          "base_uri": "https://localhost:8080/"
        },
        "id": "GDXhIxc7xPt3",
        "outputId": "7955656b-49a9-4371-a7a8-d221961d54cf"
      },
      "execution_count": 68,
      "outputs": [
        {
          "output_type": "execute_result",
          "data": {
            "text/plain": [
              "(170, 25)"
            ]
          },
          "metadata": {},
          "execution_count": 68
        }
      ]
    },
    {
      "cell_type": "code",
      "source": [
        "\"y_test:\"\n",
        "y_test.shape"
      ],
      "metadata": {
        "colab": {
          "base_uri": "https://localhost:8080/"
        },
        "id": "BAHfP80zxafs",
        "outputId": "b1bcd67e-be8c-45ca-b3b5-934c107b2f00"
      },
      "execution_count": 69,
      "outputs": [
        {
          "output_type": "execute_result",
          "data": {
            "text/plain": [
              "(170,)"
            ]
          },
          "metadata": {},
          "execution_count": 69
        }
      ]
    },
    {
      "cell_type": "code",
      "source": [
        "#Standard Scaler\n",
        "sc = StandardScaler()\n",
        "sc.fit(X_train)\n",
        "X_train_std = sc.transform(X_train)"
      ],
      "metadata": {
        "id": "Oz8VyYTJ_Ms9"
      },
      "execution_count": 70,
      "outputs": []
    },
    {
      "cell_type": "code",
      "source": [
        "#PCA APPLICATION\n",
        "from numpy.linalg import eigh"
      ],
      "metadata": {
        "id": "mJdbyXLR_TdU"
      },
      "execution_count": 71,
      "outputs": []
    },
    {
      "cell_type": "code",
      "source": [
        "cov_matrix = np.cov(X_train_std, rowvar=False)\n",
        "egnvalues, egnvectors = eigh(cov_matrix)\n",
        "\n",
        "total_egnvalues = sum(egnvalues)\n",
        "var_exp = [(i/total_egnvalues) for i in sorted(egnvalues, reverse=True)]"
      ],
      "metadata": {
        "id": "1H6w3PX6_e-i"
      },
      "execution_count": 72,
      "outputs": []
    },
    {
      "cell_type": "code",
      "source": [
        "egnpairs = [(np.abs(egnvalues[i]), egnvectors[:, i])\n",
        "                for i in range(len(egnvalues))]\n",
        "egnpairs.sort(key=lambda k: k[0], reverse=True)\n",
        "projectionMatrix = np.hstack((egnpairs[0][1][:, np.newaxis],\n",
        "                              egnpairs[1][1][:, np.newaxis],\n",
        "                              egnpairs[2][1][:, np.newaxis],\n",
        "                              egnpairs[3][1][:, np.newaxis],\n",
        "                              egnpairs[4][1][:, np.newaxis]))"
      ],
      "metadata": {
        "id": "52XDV7P0AnXs"
      },
      "execution_count": 73,
      "outputs": []
    },
    {
      "cell_type": "code",
      "source": [
        "X_train_pca = X_train_std.dot(projectionMatrix)"
      ],
      "metadata": {
        "id": "yVzdsLrSAqTD"
      },
      "execution_count": 74,
      "outputs": []
    },
    {
      "cell_type": "code",
      "source": [
        "X_train_pca"
      ],
      "metadata": {
        "colab": {
          "base_uri": "https://localhost:8080/"
        },
        "id": "Qr9BJFayRGDh",
        "outputId": "7ecdcb2b-4a96-4f94-c887-d0bb664392dc"
      },
      "execution_count": 75,
      "outputs": [
        {
          "output_type": "execute_result",
          "data": {
            "text/plain": [
              "array([[ 4.63555821, -0.68068378,  0.52365066, -0.02074204,  0.30793667],\n",
              "       [-3.48946462, -0.8633992 , -0.31160319,  1.8087717 ,  0.27906617],\n",
              "       [-0.74040291, -1.18638958,  0.36263229, -0.75691303, -0.90330177],\n",
              "       ...,\n",
              "       [ 4.11924798, -1.60675605,  1.81252631,  0.49121906,  0.97928601],\n",
              "       [-0.89440157,  1.69928757,  0.71856552, -0.25268023,  0.2539111 ],\n",
              "       [ 2.81095702, -1.58300224,  1.01024685, -0.4186217 ,  0.36690073]])"
            ]
          },
          "metadata": {},
          "execution_count": 75
        }
      ]
    },
    {
      "cell_type": "code",
      "source": [
        "X_train_pca.shape"
      ],
      "metadata": {
        "colab": {
          "base_uri": "https://localhost:8080/"
        },
        "id": "x9qog-hjyN8v",
        "outputId": "f36cf09c-f782-46fa-ea58-0577cb7eb5e9"
      },
      "execution_count": 76,
      "outputs": [
        {
          "output_type": "execute_result",
          "data": {
            "text/plain": [
              "(510, 5)"
            ]
          },
          "metadata": {},
          "execution_count": 76
        }
      ]
    },
    {
      "cell_type": "code",
      "source": [
        "sc = StandardScaler()\n",
        "sc.fit(X_test)\n",
        "X_test_std = sc.transform(X_test)"
      ],
      "metadata": {
        "id": "OnF44BK8S6_a"
      },
      "execution_count": 77,
      "outputs": []
    },
    {
      "cell_type": "code",
      "source": [
        "cov_matrix = np.cov(X_test_std, rowvar=False)\n",
        "egnvalues, egnvectors = eigh(cov_matrix)\n",
        "\n",
        "total_egnvalues = sum(egnvalues)\n",
        "var_exp = [(i/total_egnvalues) for i in sorted(egnvalues, reverse=True)]"
      ],
      "metadata": {
        "id": "hX_WwUI9TEcY"
      },
      "execution_count": 78,
      "outputs": []
    },
    {
      "cell_type": "code",
      "source": [
        "egnpairs = [(np.abs(egnvalues[i]), egnvectors[:, i])\n",
        "                for i in range(len(egnvalues))]\n",
        "egnpairs.sort(key=lambda k: k[0], reverse=True)\n",
        "projectionMatrix = np.hstack((egnpairs[0][1][:, np.newaxis],\n",
        "                              egnpairs[1][1][:, np.newaxis],\n",
        "                              egnpairs[2][1][:, np.newaxis],\n",
        "                              egnpairs[3][1][:, np.newaxis],\n",
        "                              egnpairs[4][1][:, np.newaxis]))"
      ],
      "metadata": {
        "id": "PpjFWgR7TIFI"
      },
      "execution_count": 79,
      "outputs": []
    },
    {
      "cell_type": "code",
      "source": [
        "X_test_pca = X_test_std.dot(projectionMatrix)"
      ],
      "metadata": {
        "id": "uy1yF67GAqJ4"
      },
      "execution_count": 80,
      "outputs": []
    },
    {
      "cell_type": "code",
      "source": [
        "X_test_pca"
      ],
      "metadata": {
        "colab": {
          "base_uri": "https://localhost:8080/"
        },
        "id": "34MFcpl7RVo8",
        "outputId": "902a28c6-f0e4-414a-bd4f-60f053dde897"
      },
      "execution_count": 81,
      "outputs": [
        {
          "output_type": "execute_result",
          "data": {
            "text/plain": [
              "array([[-3.07426905e+00,  2.05374322e+00,  1.14191950e+00,\n",
              "        -9.34667416e-01,  4.06821859e-01],\n",
              "       [ 1.89712409e+00, -1.99741360e+00,  6.47562015e-01,\n",
              "        -2.16698663e-01, -4.44613306e-01],\n",
              "       [-1.16997919e+00,  2.25744825e+00,  1.60942761e-01,\n",
              "        -5.85240010e-01,  1.72213190e+00],\n",
              "       [ 1.14476109e+00, -1.80394180e+00,  5.91649431e-02,\n",
              "        -5.44700335e-02, -6.75261447e-02],\n",
              "       [ 1.30617452e+00,  3.48423012e+00,  8.96983620e-01,\n",
              "         4.01334095e-01,  5.35353401e-02],\n",
              "       [ 8.58418630e-01,  7.82067334e-01, -1.20971603e+00,\n",
              "         8.34119565e-01, -1.21218416e+00],\n",
              "       [ 1.90749930e-01,  6.79921470e-01, -1.81644749e+00,\n",
              "         4.57013924e-01, -5.56562372e-01],\n",
              "       [-3.88254153e+00, -7.91784338e-01,  8.36406318e-01,\n",
              "         4.22470433e-01,  1.38324967e-01],\n",
              "       [-2.49211430e+00, -7.62790711e-01, -1.49664779e+00,\n",
              "         9.88342050e-01, -1.72059836e+00],\n",
              "       [ 2.97342755e+00,  1.17996141e+00, -2.40411005e+00,\n",
              "        -6.76542099e-03, -6.57319976e-01],\n",
              "       [ 1.64890182e+00,  8.71935366e-01,  1.10601762e+00,\n",
              "         1.52472488e+00, -8.89593629e-01],\n",
              "       [ 1.78805826e-01,  9.62121766e-01,  5.92948407e-01,\n",
              "         1.71193125e+00, -1.21831765e+00],\n",
              "       [ 1.34741471e+00,  1.39409209e+00, -2.74483328e+00,\n",
              "        -4.24442218e+00, -1.82115267e+00],\n",
              "       [ 3.40738142e+00, -1.12120311e+00,  1.39859996e-01,\n",
              "        -1.74682565e+00, -5.40718805e-02],\n",
              "       [-2.49259056e-01,  3.18658137e-01,  4.00079218e-01,\n",
              "         5.18771901e-01, -4.73415985e-01],\n",
              "       [-2.80681331e+00, -5.01531881e-01,  2.75184514e-02,\n",
              "         1.14119194e+00, -1.30590858e+00],\n",
              "       [ 6.72251561e-02,  2.96453672e-01, -2.65930838e+00,\n",
              "        -2.76382680e+00, -5.22939166e-01],\n",
              "       [-1.69185496e+00,  2.13319042e+00,  9.46492848e-01,\n",
              "        -4.98261838e-01, -7.01067347e-01],\n",
              "       [ 9.23457255e-01,  2.52755118e+00,  8.21094666e-01,\n",
              "         4.14397277e-02,  1.28071997e+00],\n",
              "       [-2.22379670e-01, -2.29996233e+00,  3.70247468e-01,\n",
              "         8.74552221e-01,  1.34490422e+00],\n",
              "       [-1.94595652e+00,  1.51530188e-01,  8.09840203e-01,\n",
              "         8.44835020e-01, -1.97879298e+00],\n",
              "       [ 2.59318767e+00,  7.70003236e-01, -2.34236632e+00,\n",
              "        -2.39715918e-02,  3.67149380e-01],\n",
              "       [-1.58414347e+00,  4.65236348e-01, -2.28549263e+00,\n",
              "        -1.92686083e+00, -2.34217276e-01],\n",
              "       [ 4.67636543e+00, -1.29738916e+00, -1.91574057e+00,\n",
              "        -3.77141861e-01,  1.70876574e+00],\n",
              "       [ 1.14643230e+00, -1.20692732e+00,  1.04877908e+00,\n",
              "         3.10067644e-01,  3.31782691e-01],\n",
              "       [ 4.51629150e+00, -5.98429111e-01,  1.49327602e+00,\n",
              "         1.02468025e+00, -4.46339625e-01],\n",
              "       [-8.75541578e-01, -1.60276219e+00, -5.73462832e+00,\n",
              "         1.18048334e-01,  3.72643578e+00],\n",
              "       [ 2.21120290e+00, -1.76846339e+00,  1.33473080e-01,\n",
              "        -1.72908365e+00,  5.80522574e-02],\n",
              "       [-2.22675258e+00, -6.64453497e-01, -2.30451680e+00,\n",
              "         1.94631466e+00,  1.69165322e-01],\n",
              "       [-1.20262838e+00, -3.02786999e+00,  1.22050455e+00,\n",
              "        -3.03195968e+00, -1.79634030e+00],\n",
              "       [ 7.82274752e-01, -1.89741304e+00,  1.06211951e+00,\n",
              "         3.87266124e-01,  6.81092130e-01],\n",
              "       [ 1.32901663e+00,  9.48512677e-01,  6.44675011e-01,\n",
              "         1.54422352e+00, -1.03741702e+00],\n",
              "       [ 1.51311478e+00, -1.78579557e+00,  6.53924748e-01,\n",
              "        -2.84098627e-01, -2.06441073e-01],\n",
              "       [-4.00037086e+00,  8.83985560e-01,  3.57153839e-01,\n",
              "        -7.21642186e-01,  2.15934961e+00],\n",
              "       [-1.18892739e+00, -2.93183684e+00,  1.96885292e+00,\n",
              "        -7.08878876e-01, -1.95583781e-01],\n",
              "       [ 4.40813301e+00, -2.25555383e+00,  1.90270759e+00,\n",
              "         4.21327626e-01,  1.11034462e+00],\n",
              "       [ 3.41349165e-01,  6.82528266e-01,  1.03532569e-01,\n",
              "        -1.12464818e+00, -4.51502714e-01],\n",
              "       [-9.04939084e-01,  2.72109663e+00,  1.27139452e+00,\n",
              "        -2.30243265e-01, -4.83979566e-01],\n",
              "       [-9.99975590e-01,  5.47015437e+00,  1.40033257e+00,\n",
              "        -4.10083244e+00,  1.56918589e+00],\n",
              "       [-2.75032860e+00, -1.03176107e+00,  6.40218608e-01,\n",
              "        -1.51793005e-02, -1.55207973e+00],\n",
              "       [-3.56581687e+00, -6.47333744e-01,  2.16355584e-01,\n",
              "         3.10991078e-01,  9.69614032e-01],\n",
              "       [ 1.80598607e+00, -2.27208685e+00,  1.23005665e+00,\n",
              "         6.44128958e-01,  1.97382810e+00],\n",
              "       [-3.71377220e+00,  7.39492307e-01, -1.22170155e-02,\n",
              "        -2.00414868e-01,  1.09753025e+00],\n",
              "       [ 4.35359047e+00, -2.09325474e-01,  2.77226411e+00,\n",
              "         8.14561548e-01,  1.84847356e+00],\n",
              "       [-1.99083193e+00, -1.05286990e-01,  6.27858846e-01,\n",
              "        -1.84704666e+00, -6.77819549e-01],\n",
              "       [ 1.14584618e+00,  3.57860410e-01,  7.23240448e-01,\n",
              "         9.24589893e-01, -4.11591627e-01],\n",
              "       [-1.94005455e+00,  3.04502684e+00,  1.37421250e+00,\n",
              "        -1.79027234e+00, -4.00427384e-03],\n",
              "       [ 1.41677880e+00, -1.07398871e-01,  2.70407853e-01,\n",
              "         6.85180481e-01, -3.87664148e-01],\n",
              "       [ 4.81094691e+00, -1.05643740e+00,  1.70363311e+00,\n",
              "         7.46848651e-01,  6.17049269e-01],\n",
              "       [ 2.18975463e+00,  1.49674384e+00, -1.34437279e+00,\n",
              "         8.41495895e-01, -1.70915251e+00],\n",
              "       [-1.12745852e+00,  2.64594147e+00,  1.46663214e+00,\n",
              "        -4.40880900e+00,  2.48177841e-01],\n",
              "       [ 3.97053018e+00,  1.68703564e+00, -2.29989535e+00,\n",
              "         8.41468979e-01, -5.38059436e-01],\n",
              "       [-3.33652875e+00, -8.51572049e-01, -2.62277946e+00,\n",
              "         1.09281216e+00,  1.14200473e+00],\n",
              "       [ 4.66024028e+00,  2.49562667e+00, -1.37976257e+00,\n",
              "         1.91583399e+00, -1.01832054e+00],\n",
              "       [ 4.99250413e+00, -4.00436478e-01,  1.49248895e+00,\n",
              "         4.80784277e-01,  1.40455182e+00],\n",
              "       [-1.40950912e+00, -1.05230011e+00,  3.66251894e-01,\n",
              "         1.46529198e+00,  2.29051689e-01],\n",
              "       [ 5.86135614e+00, -7.36171253e-01,  9.75024717e-01,\n",
              "         9.80180334e-01, -2.48801216e-01],\n",
              "       [-3.92741069e+00, -8.17334541e-01, -2.56856780e+00,\n",
              "         1.04951864e+00,  2.40947283e+00],\n",
              "       [-1.07090452e-01, -2.19020722e+00, -6.53633515e-01,\n",
              "         4.76322326e-01,  2.12064286e+00],\n",
              "       [-1.65217087e+00,  2.80652034e+00,  1.38017268e+00,\n",
              "        -7.60404958e-01,  1.34448390e-01],\n",
              "       [-7.81883808e-01,  3.25792809e+00,  1.03347434e+00,\n",
              "        -9.77312008e-01, -1.60616455e-01],\n",
              "       [ 1.71432840e+00,  1.90227177e-01, -1.75545819e+00,\n",
              "         6.00662713e-01,  7.70934871e-02],\n",
              "       [-8.35893919e-01,  3.66442218e-01,  1.78655660e+00,\n",
              "         1.07692702e+00, -1.17862012e+00],\n",
              "       [ 2.27224759e+00, -2.11477098e-01, -3.82245163e+00,\n",
              "        -3.09678361e+00, -1.97005968e+00],\n",
              "       [ 2.87552732e-01,  7.44061907e-01, -1.83496263e+00,\n",
              "         5.77456618e-01, -2.61263163e-01],\n",
              "       [ 1.98705742e+00,  1.24921221e+00,  1.78360643e+00,\n",
              "         2.18093802e+00, -1.57134460e+00],\n",
              "       [-3.16519769e+00, -1.03932504e+00, -2.89223002e+00,\n",
              "         1.01060668e+00,  2.09128572e+00],\n",
              "       [-2.66625252e-01, -2.87090091e+00,  1.23663349e+00,\n",
              "        -1.77174764e+00, -4.56091098e-01],\n",
              "       [-4.85873785e+00,  3.30749083e-01,  2.51020916e-01,\n",
              "         3.53361282e-01,  2.94756343e+00],\n",
              "       [ 5.49750813e+00,  1.90161477e+00, -6.28300697e-01,\n",
              "         4.80556934e-01,  1.64636592e+00],\n",
              "       [ 3.42538664e+00, -2.10764266e+00,  7.67159564e-01,\n",
              "         1.23177014e-01,  4.80983757e-01],\n",
              "       [-6.51983242e-01, -2.74999835e+00,  8.55499226e-01,\n",
              "         2.85747703e-01,  1.17008500e+00],\n",
              "       [-1.33326106e+00, -1.32391452e+00, -2.88557959e+00,\n",
              "        -8.21446623e-01,  3.47101459e-02],\n",
              "       [ 5.56406019e-01,  5.73845761e-01,  4.67595003e-01,\n",
              "        -8.54225125e-01,  5.03144708e-01],\n",
              "       [-2.84039504e+00, -2.61603527e-01,  2.92243723e-01,\n",
              "        -1.62741631e+00, -1.33772861e+00],\n",
              "       [-7.89524679e-01, -8.39048865e-02,  1.57784559e+00,\n",
              "         1.08601880e+00, -9.80828364e-01],\n",
              "       [ 2.09028621e+00,  1.37615750e+00,  2.33024260e+00,\n",
              "         1.21487151e+00,  1.12608707e+00],\n",
              "       [-8.08970714e-01,  1.18128110e+00, -6.45216368e-01,\n",
              "         1.34234105e-01,  1.08628564e-01],\n",
              "       [-4.18055290e+00,  7.46655575e-01,  2.29553949e-01,\n",
              "        -5.14020072e-02,  2.22325670e+00],\n",
              "       [ 1.67067962e+00,  1.16148781e+00,  1.84791885e+00,\n",
              "         1.51364319e+00,  4.71123712e-01],\n",
              "       [ 2.51540023e-02,  2.60423313e+00,  3.21753008e-01,\n",
              "        -2.00437599e-01,  1.35587543e+00],\n",
              "       [-1.39544242e+00,  3.24748429e-01, -1.79590082e+00,\n",
              "         8.84597746e-01, -3.66356491e-01],\n",
              "       [ 8.32755865e-01,  3.23684172e+00,  1.12539823e+00,\n",
              "         2.97284822e-01,  9.57767479e-01],\n",
              "       [-2.17299996e-01,  3.26470686e+00,  1.55963250e+00,\n",
              "        -4.37897861e-02, -1.25240071e-01],\n",
              "       [ 7.35424760e-01, -2.44926383e+00, -5.01007327e-01,\n",
              "        -1.60131108e+00, -2.83730434e-01],\n",
              "       [-2.95922488e+00, -7.09955917e-01, -1.73054497e+00,\n",
              "         5.75339630e-01, -2.71642213e-01],\n",
              "       [ 2.13977357e+00, -1.42741970e+00,  4.73504621e-01,\n",
              "        -2.06300481e-01,  1.16378492e-01],\n",
              "       [ 3.93535014e+00,  1.07375147e+00, -2.00659621e+00,\n",
              "         5.14660793e-01, -4.96651591e-01],\n",
              "       [-3.29261671e-01,  1.29569346e+00,  1.30675310e+00,\n",
              "         9.32574051e-01, -1.36574345e+00],\n",
              "       [ 1.00736734e+00, -1.23568654e+00,  4.19792215e-01,\n",
              "        -1.07344898e-01,  4.73065662e-01],\n",
              "       [-7.88321123e-01,  4.63102988e-01,  7.74988154e-01,\n",
              "         9.76479238e-01, -1.13031190e+00],\n",
              "       [-1.31500459e+00,  2.88160525e-01,  4.69679217e-01,\n",
              "         1.52341065e+00, -1.14927597e+00],\n",
              "       [ 1.92411255e+00,  1.30192126e+00, -1.95082254e+00,\n",
              "         4.77762034e-01, -1.12754640e+00],\n",
              "       [-1.01806170e+00,  2.94062530e+00,  1.97230862e+00,\n",
              "        -7.72693825e-02, -5.97706145e-02],\n",
              "       [-1.82189484e+00,  1.76585123e+00,  7.83800731e-01,\n",
              "         5.22013903e-01, -2.39254242e-02],\n",
              "       [ 4.06101405e-01, -2.35881129e+00,  1.17978248e+00,\n",
              "        -3.56070849e+00, -6.48160191e-01],\n",
              "       [ 3.18212391e-01, -1.61792591e-01, -2.44131213e+00,\n",
              "         9.34585360e-01, -7.69326802e-01],\n",
              "       [ 7.37821420e-01, -4.08898870e+00,  3.38841702e+00,\n",
              "         4.82432727e-01,  2.70068439e+00],\n",
              "       [-1.33834856e-02, -1.23116783e+00, -4.15107545e+00,\n",
              "        -1.82265591e+00, -5.80884234e-01],\n",
              "       [ 1.86741026e+00,  6.32120275e-02, -4.43695746e+00,\n",
              "        -1.55900126e+00,  4.79653160e-01],\n",
              "       [-8.84225977e-02, -4.42865811e+00,  2.12145521e+00,\n",
              "        -8.84105536e-01, -1.62390239e-01],\n",
              "       [-2.17302909e+00, -7.53655294e-01, -2.80705586e+00,\n",
              "         4.97526108e-01,  5.72550436e-01],\n",
              "       [-8.27323757e-01, -1.19752782e-01,  1.80016771e-01,\n",
              "        -6.31589317e-01, -4.70385919e-01],\n",
              "       [-4.05189857e+00, -7.19895980e-01, -4.02923717e-01,\n",
              "         1.92785168e+00,  1.02712840e+00],\n",
              "       [ 7.66336711e-02,  5.77904571e-01,  1.04927040e+00,\n",
              "         7.37151970e-01, -1.14787475e+00],\n",
              "       [ 1.07319131e+00,  5.25889716e-01,  5.93728294e-01,\n",
              "         8.12024897e-01, -1.07318841e+00],\n",
              "       [ 4.61251733e-02, -4.77535981e-01, -3.82137530e+00,\n",
              "        -9.10717660e-01, -2.87998146e-01],\n",
              "       [-2.59975443e+00, -3.63972285e-02, -4.16738404e-01,\n",
              "         1.53029642e+00,  1.59097030e+00],\n",
              "       [-3.36719593e+00, -6.48639730e-01,  7.26443879e-02,\n",
              "         1.49293059e+00,  1.40685775e+00],\n",
              "       [ 2.63162499e+00,  1.93740648e+00,  8.93368241e-01,\n",
              "         2.18575023e+00, -1.52887699e+00],\n",
              "       [ 2.40621689e+00, -2.90078132e-01,  2.16022453e-01,\n",
              "        -1.15960297e-02, -7.75361869e-01],\n",
              "       [-1.21469370e+00,  2.26900755e-01,  1.39352937e+00,\n",
              "         8.62857923e-01, -1.77250274e+00],\n",
              "       [ 1.05063191e+00, -2.55920342e+00,  4.09059565e-01,\n",
              "         7.35915953e-01,  1.75945954e+00],\n",
              "       [-3.95807516e+00,  1.54024100e+00,  1.25416753e+00,\n",
              "        -1.23147180e+00,  7.02392765e-01],\n",
              "       [-1.41300867e+00, -2.56930586e+00,  1.80557335e+00,\n",
              "        -3.99720021e+00, -9.23746953e-01],\n",
              "       [-1.91674743e-01, -2.90495364e+00,  1.69604061e+00,\n",
              "         3.13609937e-02, -7.50167789e-01],\n",
              "       [ 4.27398050e+00, -1.53590469e+00, -4.08374895e-01,\n",
              "        -1.67642156e-01,  9.24648396e-01],\n",
              "       [-1.20850073e+00, -5.12123146e+00,  2.37699278e+00,\n",
              "        -2.07416832e+00, -2.35034049e+00],\n",
              "       [-1.96782642e+00,  2.81373200e+00,  1.35285560e+00,\n",
              "        -1.53925442e+00,  1.22737719e-02],\n",
              "       [-1.34719141e+00, -4.15626393e-02,  7.44475629e-01,\n",
              "        -4.91237177e-01, -1.15639146e+00],\n",
              "       [ 1.58191143e+00, -3.18964349e+00,  5.78792019e-01,\n",
              "        -9.49276732e-01,  1.09932933e+00],\n",
              "       [ 5.03937196e-01, -5.00205914e-01,  3.47758741e-01,\n",
              "        -1.98077749e-01,  2.97575907e-01],\n",
              "       [ 3.49906644e-01, -1.76981739e+00,  7.56760565e-01,\n",
              "         1.28682754e-01,  2.57288272e-01],\n",
              "       [-3.12820887e+00, -9.91889213e-01,  4.35446508e-01,\n",
              "         1.12653874e+00, -1.89173972e+00],\n",
              "       [ 2.94040884e+00,  3.93341079e-01, -2.64589629e+00,\n",
              "         1.66765710e-01, -2.67156527e+00],\n",
              "       [ 1.93524350e+00, -6.29764320e-01, -2.67212987e+00,\n",
              "        -2.50767905e+00, -7.69138748e-01],\n",
              "       [-9.74130117e-01,  1.97831878e+00,  3.41997608e-01,\n",
              "        -1.32266521e-01,  1.06693084e+00],\n",
              "       [ 2.25188132e+00, -7.76938071e-01,  5.89196506e-01,\n",
              "        -6.80259617e-01,  1.76695271e-01],\n",
              "       [-3.38542106e+00,  5.59306993e-02,  4.35561247e-02,\n",
              "         5.08183687e-01, -5.06471761e-01],\n",
              "       [ 2.88440643e+00,  1.18958389e+00, -1.44436355e+00,\n",
              "         3.44372180e-01, -1.22206714e+00],\n",
              "       [ 1.60196065e+00,  3.74981505e+00,  1.30640177e+00,\n",
              "         6.13975516e-02,  1.79380647e+00],\n",
              "       [-6.34803513e-01, -3.05579683e+00,  1.24771572e+00,\n",
              "        -4.18945636e-01, -4.91231545e-01],\n",
              "       [-6.45149359e-01, -1.48460415e+00, -1.09085410e-01,\n",
              "         2.74074535e-01, -5.26377279e-01],\n",
              "       [ 5.43770940e-01,  2.36898006e-01,  1.02788849e+00,\n",
              "         7.14346993e-01, -2.67083233e+00],\n",
              "       [-2.14951825e-01,  5.68280183e-01,  1.08000863e+00,\n",
              "         1.37001263e+00, -2.04461805e+00],\n",
              "       [-3.55051244e+00, -8.03399202e-01,  7.53006416e-01,\n",
              "         1.15405672e-01,  6.32212530e-01],\n",
              "       [ 2.31255105e+00,  2.83301472e+00,  4.20446046e-01,\n",
              "         1.19892223e+00,  3.84044719e-02],\n",
              "       [-3.59309017e+00, -1.51237464e+00, -1.50438324e+00,\n",
              "         2.01926375e+00, -7.02409643e-01],\n",
              "       [-1.92010031e+00, -7.33401981e-01, -2.60108159e+00,\n",
              "         1.78537276e+00,  8.44434063e-01],\n",
              "       [ 2.94977527e+00, -2.76592482e+00, -5.96633604e-01,\n",
              "        -1.04848195e+00,  1.52768982e+00],\n",
              "       [ 1.76294051e+00, -2.25500790e+00,  1.32332886e+00,\n",
              "        -2.39099700e+00, -1.31889213e-01],\n",
              "       [-2.31825750e+00, -5.63552763e-01,  1.62442338e-01,\n",
              "         1.03615874e+00,  8.02711859e-02],\n",
              "       [-1.20764233e+00,  2.82539162e+00,  9.31998261e-01,\n",
              "        -4.93751320e-01,  7.75353264e-01],\n",
              "       [-3.03197693e+00, -4.96842001e-01, -9.72347142e-02,\n",
              "         1.46389955e+00, -1.28758959e+00],\n",
              "       [-2.65175539e+00,  2.70170299e+00,  1.10201604e+00,\n",
              "        -5.04575611e-01,  7.66226441e-01],\n",
              "       [-1.66192877e+00, -1.77609133e-02,  3.10616109e-01,\n",
              "         8.60145620e-01, -1.20881141e+00],\n",
              "       [-3.18333470e+00, -1.19114154e+00, -2.41094774e-02,\n",
              "         2.22076879e+00,  7.60826355e-01],\n",
              "       [ 4.22291357e+00,  1.53077095e+00, -1.50870801e+00,\n",
              "         3.22660724e-03,  1.38236458e+00],\n",
              "       [ 3.05170072e+00,  1.02029605e+00, -2.46239255e+00,\n",
              "        -5.97568381e-01,  6.15832225e-01],\n",
              "       [ 3.23297483e+00, -1.20456032e+00,  4.65533018e-01,\n",
              "        -2.39409784e-01, -7.48911665e-01],\n",
              "       [-1.43921333e+00,  6.18453352e-01,  9.87262731e-01,\n",
              "         4.88279365e-02, -1.17322670e+00],\n",
              "       [ 2.00122349e-02,  2.61362742e-01, -1.93990831e+00,\n",
              "         2.99450301e-01, -9.12061327e-01],\n",
              "       [-3.86845018e+00, -1.82176181e-01, -4.77967494e-02,\n",
              "         5.29598495e-01,  4.90184328e-01],\n",
              "       [-2.75065918e-01,  1.45939865e+00,  8.09985442e-02,\n",
              "         6.46165384e-01, -1.00716855e+00],\n",
              "       [-3.07047031e+00, -9.40502419e-01,  4.61333388e-01,\n",
              "         9.41168277e-01, -1.33490345e+00],\n",
              "       [-3.08027684e-02,  3.40082842e+00,  7.94688510e-01,\n",
              "        -2.11543221e+00,  1.23850930e+00],\n",
              "       [-2.83823769e+00, -7.11068896e-01, -2.17011143e+00,\n",
              "         1.00358680e+00,  5.76379431e-01],\n",
              "       [-3.56292758e+00, -1.04434895e+00, -2.91629609e-01,\n",
              "         1.30195831e+00, -7.97174142e-01],\n",
              "       [ 1.25264027e-01, -4.63593306e+00,  2.29306168e+00,\n",
              "         7.38208224e-02,  1.42843187e+00],\n",
              "       [-2.86552987e+00, -1.01061526e+00, -1.38890213e+00,\n",
              "        -5.91550381e-01, -1.07467941e+00],\n",
              "       [-2.92204477e+00,  1.85246401e+00,  1.17511266e-03,\n",
              "        -1.85124783e+00,  1.23057153e+00],\n",
              "       [ 5.79409865e+00, -4.78610826e-01, -5.31100086e-03,\n",
              "         9.14639287e-03,  1.33518122e+00],\n",
              "       [-1.51512007e+00,  4.77679441e-01,  4.09518542e-01,\n",
              "         6.16603890e-01, -9.34470140e-01],\n",
              "       [ 3.13984067e+00,  1.18738815e+00, -1.68798405e+00,\n",
              "        -6.24376122e-02,  6.16087769e-01],\n",
              "       [-1.28036182e-01,  1.05990752e-01,  2.53472950e-01,\n",
              "         4.86390203e-01, -1.49687621e-01],\n",
              "       [ 1.13596890e+00,  1.09525712e+00,  3.84349391e-01,\n",
              "         9.20212252e-01, -1.40118725e+00],\n",
              "       [-2.56335417e+00,  1.22305485e+00,  1.15695912e+00,\n",
              "        -3.49531693e+00,  3.25162353e-01],\n",
              "       [ 2.74718118e+00,  3.87139856e+00,  1.80551498e+00,\n",
              "         4.65508180e-01,  2.26067788e+00],\n",
              "       [ 5.50701023e+00, -9.48902077e-01,  6.60227662e-01,\n",
              "         5.59610103e-01,  3.55064762e-01],\n",
              "       [-2.25429234e+00, -6.32901364e-02, -2.03687296e+00,\n",
              "         1.27281595e+00, -5.58198572e-01]])"
            ]
          },
          "metadata": {},
          "execution_count": 81
        }
      ]
    },
    {
      "cell_type": "markdown",
      "source": [
        "non PCA data applique"
      ],
      "metadata": {
        "id": "n4dFVoAFJjgB"
      }
    },
    {
      "cell_type": "code",
      "source": [
        "#Standard Scaler (for training the data)\n",
        "sc = StandardScaler()\n",
        "sc.fit(X_train)\n",
        "X_train_scaled= sc.transform(X_train)\n",
        "X_test_scaled = sc.transform(X_test)"
      ],
      "metadata": {
        "id": "N4p8tzzvAqOV"
      },
      "execution_count": 82,
      "outputs": []
    },
    {
      "cell_type": "code",
      "source": [
        "sc.mean_"
      ],
      "metadata": {
        "colab": {
          "base_uri": "https://localhost:8080/"
        },
        "id": "nsce_zg0VPfI",
        "outputId": "07647bfc-cf5d-40fa-83d7-070944a9631c"
      },
      "execution_count": 83,
      "outputs": [
        {
          "output_type": "execute_result",
          "data": {
            "text/plain": [
              "array([1.62041506e+01, 1.42401937e+00, 1.37372127e+01, 7.69865098e-01,\n",
              "       1.60341321e+00, 2.29790000e+00, 6.81247765e+00, 2.48860160e-01,\n",
              "       5.26662235e+00, 3.27395889e-01, 1.61939922e+00, 1.05618452e+00,\n",
              "       2.02106417e-01, 2.58395078e+00, 4.08091630e-01, 3.66073616e-01,\n",
              "       3.37955955e+01, 5.90170244e+00, 2.33802039e+00, 1.88699566e+01,\n",
              "       1.42407563e+01, 4.17868578e-02, 1.53295136e+00, 4.98863271e-01,\n",
              "       4.59264392e+07])"
            ]
          },
          "metadata": {},
          "execution_count": 83
        }
      ]
    },
    {
      "cell_type": "markdown",
      "source": [
        "Import the Machine learning MOdels"
      ],
      "metadata": {
        "id": "L-hcz3y7Mlog"
      }
    },
    {
      "cell_type": "markdown",
      "source": [
        "# Machine Learning Algorithms"
      ],
      "metadata": {
        "id": "KbcMMudymDBn"
      }
    },
    {
      "cell_type": "markdown",
      "source": [
        "### Linear Regression"
      ],
      "metadata": {
        "id": "ErkP9PqMmDlD"
      }
    },
    {
      "cell_type": "markdown",
      "source": [
        "This dataset contains multiple columns variables that highlighted the target due to the solution been trained to provide due to the circumstances"
      ],
      "metadata": {
        "id": "SskmQjhLmiUR"
      }
    },
    {
      "cell_type": "markdown",
      "source": [
        "sklearn.linear_model.LinearRegression\n",
        "Ref: https://scikit-learn.org/stable/modules/generated/sklearn.linear_model.LinearRegression.html"
      ],
      "metadata": {
        "id": "05d_ucOJlgdD"
      }
    },
    {
      "cell_type": "code",
      "source": [
        "from sklearn.linear_model import LinearRegression\n",
        "from sklearn.linear_model import Ridge\n",
        "from sklearn.model_selection import GridSearchCV\n",
        "from sklearn.metrics import mean_squared_error\n",
        "from sklearn.pipeline import make_pipeline\n",
        "from sklearn.preprocessing import PolynomialFeatures"
      ],
      "metadata": {
        "id": "EZ0QLbJCiSZh"
      },
      "execution_count": 84,
      "outputs": []
    },
    {
      "cell_type": "code",
      "source": [
        "lm = LinearRegression()\n",
        "lm.fit(X_train_scaled,y_train)"
      ],
      "metadata": {
        "colab": {
          "base_uri": "https://localhost:8080/",
          "height": 74
        },
        "id": "Ljg1rMEklcYu",
        "outputId": "2c1845a1-de6d-4f63-aeb0-4fedf6f50250"
      },
      "execution_count": 85,
      "outputs": [
        {
          "output_type": "execute_result",
          "data": {
            "text/plain": [
              "LinearRegression()"
            ],
            "text/html": [
              "<style>#sk-container-id-1 {color: black;background-color: white;}#sk-container-id-1 pre{padding: 0;}#sk-container-id-1 div.sk-toggleable {background-color: white;}#sk-container-id-1 label.sk-toggleable__label {cursor: pointer;display: block;width: 100%;margin-bottom: 0;padding: 0.3em;box-sizing: border-box;text-align: center;}#sk-container-id-1 label.sk-toggleable__label-arrow:before {content: \"▸\";float: left;margin-right: 0.25em;color: #696969;}#sk-container-id-1 label.sk-toggleable__label-arrow:hover:before {color: black;}#sk-container-id-1 div.sk-estimator:hover label.sk-toggleable__label-arrow:before {color: black;}#sk-container-id-1 div.sk-toggleable__content {max-height: 0;max-width: 0;overflow: hidden;text-align: left;background-color: #f0f8ff;}#sk-container-id-1 div.sk-toggleable__content pre {margin: 0.2em;color: black;border-radius: 0.25em;background-color: #f0f8ff;}#sk-container-id-1 input.sk-toggleable__control:checked~div.sk-toggleable__content {max-height: 200px;max-width: 100%;overflow: auto;}#sk-container-id-1 input.sk-toggleable__control:checked~label.sk-toggleable__label-arrow:before {content: \"▾\";}#sk-container-id-1 div.sk-estimator input.sk-toggleable__control:checked~label.sk-toggleable__label {background-color: #d4ebff;}#sk-container-id-1 div.sk-label input.sk-toggleable__control:checked~label.sk-toggleable__label {background-color: #d4ebff;}#sk-container-id-1 input.sk-hidden--visually {border: 0;clip: rect(1px 1px 1px 1px);clip: rect(1px, 1px, 1px, 1px);height: 1px;margin: -1px;overflow: hidden;padding: 0;position: absolute;width: 1px;}#sk-container-id-1 div.sk-estimator {font-family: monospace;background-color: #f0f8ff;border: 1px dotted black;border-radius: 0.25em;box-sizing: border-box;margin-bottom: 0.5em;}#sk-container-id-1 div.sk-estimator:hover {background-color: #d4ebff;}#sk-container-id-1 div.sk-parallel-item::after {content: \"\";width: 100%;border-bottom: 1px solid gray;flex-grow: 1;}#sk-container-id-1 div.sk-label:hover label.sk-toggleable__label {background-color: #d4ebff;}#sk-container-id-1 div.sk-serial::before {content: \"\";position: absolute;border-left: 1px solid gray;box-sizing: border-box;top: 0;bottom: 0;left: 50%;z-index: 0;}#sk-container-id-1 div.sk-serial {display: flex;flex-direction: column;align-items: center;background-color: white;padding-right: 0.2em;padding-left: 0.2em;position: relative;}#sk-container-id-1 div.sk-item {position: relative;z-index: 1;}#sk-container-id-1 div.sk-parallel {display: flex;align-items: stretch;justify-content: center;background-color: white;position: relative;}#sk-container-id-1 div.sk-item::before, #sk-container-id-1 div.sk-parallel-item::before {content: \"\";position: absolute;border-left: 1px solid gray;box-sizing: border-box;top: 0;bottom: 0;left: 50%;z-index: -1;}#sk-container-id-1 div.sk-parallel-item {display: flex;flex-direction: column;z-index: 1;position: relative;background-color: white;}#sk-container-id-1 div.sk-parallel-item:first-child::after {align-self: flex-end;width: 50%;}#sk-container-id-1 div.sk-parallel-item:last-child::after {align-self: flex-start;width: 50%;}#sk-container-id-1 div.sk-parallel-item:only-child::after {width: 0;}#sk-container-id-1 div.sk-dashed-wrapped {border: 1px dashed gray;margin: 0 0.4em 0.5em 0.4em;box-sizing: border-box;padding-bottom: 0.4em;background-color: white;}#sk-container-id-1 div.sk-label label {font-family: monospace;font-weight: bold;display: inline-block;line-height: 1.2em;}#sk-container-id-1 div.sk-label-container {text-align: center;}#sk-container-id-1 div.sk-container {/* jupyter's `normalize.less` sets `[hidden] { display: none; }` but bootstrap.min.css set `[hidden] { display: none !important; }` so we also need the `!important` here to be able to override the default hidden behavior on the sphinx rendered scikit-learn.org. See: https://github.com/scikit-learn/scikit-learn/issues/21755 */display: inline-block !important;position: relative;}#sk-container-id-1 div.sk-text-repr-fallback {display: none;}</style><div id=\"sk-container-id-1\" class=\"sk-top-container\"><div class=\"sk-text-repr-fallback\"><pre>LinearRegression()</pre><b>In a Jupyter environment, please rerun this cell to show the HTML representation or trust the notebook. <br />On GitHub, the HTML representation is unable to render, please try loading this page with nbviewer.org.</b></div><div class=\"sk-container\" hidden><div class=\"sk-item\"><div class=\"sk-estimator sk-toggleable\"><input class=\"sk-toggleable__control sk-hidden--visually\" id=\"sk-estimator-id-1\" type=\"checkbox\" checked><label for=\"sk-estimator-id-1\" class=\"sk-toggleable__label sk-toggleable__label-arrow\">LinearRegression</label><div class=\"sk-toggleable__content\"><pre>LinearRegression()</pre></div></div></div></div></div>"
            ]
          },
          "metadata": {},
          "execution_count": 85
        }
      ]
    },
    {
      "cell_type": "code",
      "source": [
        "lm.intercept_ #the slope of the curve"
      ],
      "metadata": {
        "colab": {
          "base_uri": "https://localhost:8080/"
        },
        "id": "8wHSo7ToaIBk",
        "outputId": "ed1b763a-d1a3-48cd-c2a8-0f0eddbc6639"
      },
      "execution_count": 86,
      "outputs": [
        {
          "output_type": "execute_result",
          "data": {
            "text/plain": [
              "2.0322829746316393"
            ]
          },
          "metadata": {},
          "execution_count": 86
        }
      ]
    },
    {
      "cell_type": "code",
      "source": [
        "coeff_df = pd.DataFrame(lm.coef_,X.columns,columns=['Coefficient'])\n",
        "coeff_df"
      ],
      "metadata": {
        "colab": {
          "base_uri": "https://localhost:8080/",
          "height": 833
        },
        "id": "JNfM0LsKaadP",
        "outputId": "bc5323e7-20b1-4ab6-f476-333b518233f5"
      },
      "execution_count": 87,
      "outputs": [
        {
          "output_type": "execute_result",
          "data": {
            "text/plain": [
              "                          Coefficient\n",
              "Animal Products             14.738139\n",
              "Animal fats                 -0.238077\n",
              "Cereals - Excluding Beer    -0.032508\n",
              "Eggs                        -0.062520\n",
              "Fish, Seafood               -0.169740\n",
              "Fruits - Excluding Wine      0.000052\n",
              "Meat                        -0.413202\n",
              "Miscellaneous               -0.000475\n",
              "Milk - Excluding Butter     -0.340164\n",
              "Offals                      -0.032634\n",
              "Oilcrops                    -0.030081\n",
              "Pulses                      -0.000952\n",
              "Spices                       0.000499\n",
              "Starchy Roots               -0.017078\n",
              "Stimulants                   0.011935\n",
              "Treenuts                     0.016975\n",
              "Vegetal Products            14.011522\n",
              "Vegetable Oils              -0.005162\n",
              "Vegetables                  -0.013728\n",
              "Obesity                     -0.005850\n",
              "Undernourished               0.008866\n",
              "Deaths                       0.065294\n",
              "Recovered                    1.887724\n",
              "Active                       1.027133\n",
              "Population                   0.001516"
            ],
            "text/html": [
              "\n",
              "  <div id=\"df-1bdad04b-18dc-4c03-bbea-efefe9730407\">\n",
              "    <div class=\"colab-df-container\">\n",
              "      <div>\n",
              "<style scoped>\n",
              "    .dataframe tbody tr th:only-of-type {\n",
              "        vertical-align: middle;\n",
              "    }\n",
              "\n",
              "    .dataframe tbody tr th {\n",
              "        vertical-align: top;\n",
              "    }\n",
              "\n",
              "    .dataframe thead th {\n",
              "        text-align: right;\n",
              "    }\n",
              "</style>\n",
              "<table border=\"1\" class=\"dataframe\">\n",
              "  <thead>\n",
              "    <tr style=\"text-align: right;\">\n",
              "      <th></th>\n",
              "      <th>Coefficient</th>\n",
              "    </tr>\n",
              "  </thead>\n",
              "  <tbody>\n",
              "    <tr>\n",
              "      <th>Animal Products</th>\n",
              "      <td>14.738139</td>\n",
              "    </tr>\n",
              "    <tr>\n",
              "      <th>Animal fats</th>\n",
              "      <td>-0.238077</td>\n",
              "    </tr>\n",
              "    <tr>\n",
              "      <th>Cereals - Excluding Beer</th>\n",
              "      <td>-0.032508</td>\n",
              "    </tr>\n",
              "    <tr>\n",
              "      <th>Eggs</th>\n",
              "      <td>-0.062520</td>\n",
              "    </tr>\n",
              "    <tr>\n",
              "      <th>Fish, Seafood</th>\n",
              "      <td>-0.169740</td>\n",
              "    </tr>\n",
              "    <tr>\n",
              "      <th>Fruits - Excluding Wine</th>\n",
              "      <td>0.000052</td>\n",
              "    </tr>\n",
              "    <tr>\n",
              "      <th>Meat</th>\n",
              "      <td>-0.413202</td>\n",
              "    </tr>\n",
              "    <tr>\n",
              "      <th>Miscellaneous</th>\n",
              "      <td>-0.000475</td>\n",
              "    </tr>\n",
              "    <tr>\n",
              "      <th>Milk - Excluding Butter</th>\n",
              "      <td>-0.340164</td>\n",
              "    </tr>\n",
              "    <tr>\n",
              "      <th>Offals</th>\n",
              "      <td>-0.032634</td>\n",
              "    </tr>\n",
              "    <tr>\n",
              "      <th>Oilcrops</th>\n",
              "      <td>-0.030081</td>\n",
              "    </tr>\n",
              "    <tr>\n",
              "      <th>Pulses</th>\n",
              "      <td>-0.000952</td>\n",
              "    </tr>\n",
              "    <tr>\n",
              "      <th>Spices</th>\n",
              "      <td>0.000499</td>\n",
              "    </tr>\n",
              "    <tr>\n",
              "      <th>Starchy Roots</th>\n",
              "      <td>-0.017078</td>\n",
              "    </tr>\n",
              "    <tr>\n",
              "      <th>Stimulants</th>\n",
              "      <td>0.011935</td>\n",
              "    </tr>\n",
              "    <tr>\n",
              "      <th>Treenuts</th>\n",
              "      <td>0.016975</td>\n",
              "    </tr>\n",
              "    <tr>\n",
              "      <th>Vegetal Products</th>\n",
              "      <td>14.011522</td>\n",
              "    </tr>\n",
              "    <tr>\n",
              "      <th>Vegetable Oils</th>\n",
              "      <td>-0.005162</td>\n",
              "    </tr>\n",
              "    <tr>\n",
              "      <th>Vegetables</th>\n",
              "      <td>-0.013728</td>\n",
              "    </tr>\n",
              "    <tr>\n",
              "      <th>Obesity</th>\n",
              "      <td>-0.005850</td>\n",
              "    </tr>\n",
              "    <tr>\n",
              "      <th>Undernourished</th>\n",
              "      <td>0.008866</td>\n",
              "    </tr>\n",
              "    <tr>\n",
              "      <th>Deaths</th>\n",
              "      <td>0.065294</td>\n",
              "    </tr>\n",
              "    <tr>\n",
              "      <th>Recovered</th>\n",
              "      <td>1.887724</td>\n",
              "    </tr>\n",
              "    <tr>\n",
              "      <th>Active</th>\n",
              "      <td>1.027133</td>\n",
              "    </tr>\n",
              "    <tr>\n",
              "      <th>Population</th>\n",
              "      <td>0.001516</td>\n",
              "    </tr>\n",
              "  </tbody>\n",
              "</table>\n",
              "</div>\n",
              "      <button class=\"colab-df-convert\" onclick=\"convertToInteractive('df-1bdad04b-18dc-4c03-bbea-efefe9730407')\"\n",
              "              title=\"Convert this dataframe to an interactive table.\"\n",
              "              style=\"display:none;\">\n",
              "        \n",
              "  <svg xmlns=\"http://www.w3.org/2000/svg\" height=\"24px\"viewBox=\"0 0 24 24\"\n",
              "       width=\"24px\">\n",
              "    <path d=\"M0 0h24v24H0V0z\" fill=\"none\"/>\n",
              "    <path d=\"M18.56 5.44l.94 2.06.94-2.06 2.06-.94-2.06-.94-.94-2.06-.94 2.06-2.06.94zm-11 1L8.5 8.5l.94-2.06 2.06-.94-2.06-.94L8.5 2.5l-.94 2.06-2.06.94zm10 10l.94 2.06.94-2.06 2.06-.94-2.06-.94-.94-2.06-.94 2.06-2.06.94z\"/><path d=\"M17.41 7.96l-1.37-1.37c-.4-.4-.92-.59-1.43-.59-.52 0-1.04.2-1.43.59L10.3 9.45l-7.72 7.72c-.78.78-.78 2.05 0 2.83L4 21.41c.39.39.9.59 1.41.59.51 0 1.02-.2 1.41-.59l7.78-7.78 2.81-2.81c.8-.78.8-2.07 0-2.86zM5.41 20L4 18.59l7.72-7.72 1.47 1.35L5.41 20z\"/>\n",
              "  </svg>\n",
              "      </button>\n",
              "      \n",
              "  <style>\n",
              "    .colab-df-container {\n",
              "      display:flex;\n",
              "      flex-wrap:wrap;\n",
              "      gap: 12px;\n",
              "    }\n",
              "\n",
              "    .colab-df-convert {\n",
              "      background-color: #E8F0FE;\n",
              "      border: none;\n",
              "      border-radius: 50%;\n",
              "      cursor: pointer;\n",
              "      display: none;\n",
              "      fill: #1967D2;\n",
              "      height: 32px;\n",
              "      padding: 0 0 0 0;\n",
              "      width: 32px;\n",
              "    }\n",
              "\n",
              "    .colab-df-convert:hover {\n",
              "      background-color: #E2EBFA;\n",
              "      box-shadow: 0px 1px 2px rgba(60, 64, 67, 0.3), 0px 1px 3px 1px rgba(60, 64, 67, 0.15);\n",
              "      fill: #174EA6;\n",
              "    }\n",
              "\n",
              "    [theme=dark] .colab-df-convert {\n",
              "      background-color: #3B4455;\n",
              "      fill: #D2E3FC;\n",
              "    }\n",
              "\n",
              "    [theme=dark] .colab-df-convert:hover {\n",
              "      background-color: #434B5C;\n",
              "      box-shadow: 0px 1px 3px 1px rgba(0, 0, 0, 0.15);\n",
              "      filter: drop-shadow(0px 1px 2px rgba(0, 0, 0, 0.3));\n",
              "      fill: #FFFFFF;\n",
              "    }\n",
              "  </style>\n",
              "\n",
              "      <script>\n",
              "        const buttonEl =\n",
              "          document.querySelector('#df-1bdad04b-18dc-4c03-bbea-efefe9730407 button.colab-df-convert');\n",
              "        buttonEl.style.display =\n",
              "          google.colab.kernel.accessAllowed ? 'block' : 'none';\n",
              "\n",
              "        async function convertToInteractive(key) {\n",
              "          const element = document.querySelector('#df-1bdad04b-18dc-4c03-bbea-efefe9730407');\n",
              "          const dataTable =\n",
              "            await google.colab.kernel.invokeFunction('convertToInteractive',\n",
              "                                                     [key], {});\n",
              "          if (!dataTable) return;\n",
              "\n",
              "          const docLinkHtml = 'Like what you see? Visit the ' +\n",
              "            '<a target=\"_blank\" href=https://colab.research.google.com/notebooks/data_table.ipynb>data table notebook</a>'\n",
              "            + ' to learn more about interactive tables.';\n",
              "          element.innerHTML = '';\n",
              "          dataTable['output_type'] = 'display_data';\n",
              "          await google.colab.output.renderOutput(dataTable, element);\n",
              "          const docLink = document.createElement('div');\n",
              "          docLink.innerHTML = docLinkHtml;\n",
              "          element.appendChild(docLink);\n",
              "        }\n",
              "      </script>\n",
              "    </div>\n",
              "  </div>\n",
              "  "
            ]
          },
          "metadata": {},
          "execution_count": 87
        }
      ]
    },
    {
      "cell_type": "code",
      "source": [
        "#using the trained model to make predictions on the test data(PCA)\n",
        "y_predict = lm.predict(X_test_scaled)\n"
      ],
      "metadata": {
        "id": "2RHa-S4TmalR"
      },
      "execution_count": 88,
      "outputs": []
    },
    {
      "cell_type": "code",
      "source": [
        "plt.scatter(y_test,y_predict)"
      ],
      "metadata": {
        "colab": {
          "base_uri": "https://localhost:8080/",
          "height": 282
        },
        "id": "d9qOjfANbGkC",
        "outputId": "9e5fdd32-7aa2-48ce-a58a-8fc545d3b3ff"
      },
      "execution_count": 89,
      "outputs": [
        {
          "output_type": "execute_result",
          "data": {
            "text/plain": [
              "<matplotlib.collections.PathCollection at 0x7fd45da87130>"
            ]
          },
          "metadata": {},
          "execution_count": 89
        },
        {
          "output_type": "display_data",
          "data": {
            "text/plain": [
              "<Figure size 432x288 with 1 Axes>"
            ],
            "image/png": "[encoded data removed]"
          },
          "metadata": {
            "needs_background": "light"
          }
        }
      ]
    },
    {
      "cell_type": "code",
      "source": [
        "lm.fit(X_train_pca,y_train)\n",
        "pca_predictions = lm.predict(X_test_pca)\n",
        "plt.scatter(y_test,pca_predictions)"
      ],
      "metadata": {
        "colab": {
          "base_uri": "https://localhost:8080/",
          "height": 282
        },
        "id": "SBWVdavwbWMn",
        "outputId": "e193a9e4-1fd5-4e72-d8d6-63e24583f7ef"
      },
      "execution_count": 90,
      "outputs": [
        {
          "output_type": "execute_result",
          "data": {
            "text/plain": [
              "<matplotlib.collections.PathCollection at 0x7fd45a946a00>"
            ]
          },
          "metadata": {},
          "execution_count": 90
        },
        {
          "output_type": "display_data",
          "data": {
            "text/plain": [
              "<Figure size 432x288 with 1 Axes>"
            ],
            "image/png": "[encoded data removed]"
          },
          "metadata": {
            "needs_background": "light"
          }
        }
      ]
    },
    {
      "cell_type": "code",
      "source": [
        "sns.histplot((y_test-pca_predictions),bins=50);"
      ],
      "metadata": {
        "colab": {
          "base_uri": "https://localhost:8080/",
          "height": 279
        },
        "id": "UPXtrgkHbjPz",
        "outputId": "92e7f202-82e0-43b0-a805-aca9f379517d"
      },
      "execution_count": 91,
      "outputs": [
        {
          "output_type": "display_data",
          "data": {
            "text/plain": [
              "<Figure size 432x288 with 1 Axes>"
            ],
            "image/png": "[encoded data removed]"
          },
          "metadata": {
            "needs_background": "light"
          }
        }
      ]
    },
    {
      "cell_type": "code",
      "source": [
        "sns.histplot((y_test-y_predict),bins=50);"
      ],
      "metadata": {
        "colab": {
          "base_uri": "https://localhost:8080/",
          "height": 279
        },
        "id": "X7uI2GcZbpdE",
        "outputId": "1476d8ef-8820-4144-881a-a9482f2d4255"
      },
      "execution_count": 92,
      "outputs": [
        {
          "output_type": "display_data",
          "data": {
            "text/plain": [
              "<Figure size 432x288 with 1 Axes>"
            ],
            "image/png": "[encoded data removed]"
          },
          "metadata": {
            "needs_background": "light"
          }
        }
      ]
    },
    {
      "cell_type": "markdown",
      "source": [
        "Metrics Evaluation: \n",
        "Mean Squared Error\n",
        "Mean Absolute Error\n",
        "Root Mean Squared Error\n",
        "R-squared value"
      ],
      "metadata": {
        "id": "kJtFYEOgDPPe"
      }
    },
    {
      "cell_type": "code",
      "source": [
        "from sklearn import metrics\n",
        "from sklearn.metrics import mean_squared_error\n",
        "from sklearn.metrics import mean_absolute_error\n",
        "from sklearn.metrics import r2_score"
      ],
      "metadata": {
        "id": "6Qsoe7KMjaHB"
      },
      "execution_count": 93,
      "outputs": []
    },
    {
      "cell_type": "code",
      "source": [
        "# evaluate the model's performance using mean squared error\n",
        "mse = mean_squared_error(y_test, y_predict)\n",
        "mae = mean_absolute_error(y_test, y_predict)\n",
        "rmse = mean_squared_error(y_test, y_predict, squared=False)\n",
        "r2 = r2_score(y_test, y_predict)\n",
        "print('MSE:',mse)\n",
        "print(\"Mean Absolute Error: \", mae)\n",
        "print(\"Root Mean Squared Error: \", rmse)\n",
        "print(\"R-squared value: \", r2)"
      ],
      "metadata": {
        "id": "fpU25tb3maeQ",
        "colab": {
          "base_uri": "https://localhost:8080/"
        },
        "outputId": "07f60bcb-e32d-4d03-d1d1-ac9dc556cc2f"
      },
      "execution_count": 94,
      "outputs": [
        {
          "output_type": "stream",
          "name": "stdout",
          "text": [
            "MSE: 0.042877871978108974\n",
            "Mean Absolute Error:  0.102960693545503\n",
            "Root Mean Squared Error:  0.2070697273338355\n",
            "R-squared value:  0.9928716869897641\n"
          ]
        }
      ]
    },
    {
      "cell_type": "markdown",
      "source": [
        "pca metrics"
      ],
      "metadata": {
        "id": "2hfepZe--m-C"
      }
    },
    {
      "cell_type": "code",
      "source": [
        "mse_pca = mean_squared_error(y_test, pca_predictions)\n",
        "r2_pca = r2_score(y_test, pca_predictions)\n",
        "mae_pca = mean_absolute_error(y_test, pca_predictions)\n",
        "rmse_pca = mean_squared_error(y_test, pca_predictions, squared=False)"
      ],
      "metadata": {
        "id": "ouCLp1NZh6uT"
      },
      "execution_count": 95,
      "outputs": []
    },
    {
      "cell_type": "code",
      "source": [
        "print('MAE:', mae_pca)\n",
        "print('R2:', r2_pca)\n",
        "print('MSE:', mse_pca)\n",
        "print('RMSE:', rmse_pca)"
      ],
      "metadata": {
        "colab": {
          "base_uri": "https://localhost:8080/"
        },
        "id": "Y-5mkYqthLpv",
        "outputId": "cffc2452-d747-4630-a34c-8adcd7742175"
      },
      "execution_count": 96,
      "outputs": [
        {
          "output_type": "stream",
          "name": "stdout",
          "text": [
            "MAE: 0.9468324316483394\n",
            "R2: 0.7548767750502443\n",
            "MSE: 1.4744529656827032\n",
            "RMSE: 1.214270548799856\n"
          ]
        }
      ]
    },
    {
      "cell_type": "markdown",
      "source": [
        "### **K-Nearest Neighbor Reggressor**"
      ],
      "metadata": {
        "id": "ZM3W3XKTRfJY"
      }
    },
    {
      "cell_type": "code",
      "source": [
        "from sklearn.neighbors import KNeighborsRegressor"
      ],
      "metadata": {
        "id": "dPHhUyjBmaRh"
      },
      "execution_count": 97,
      "outputs": []
    },
    {
      "cell_type": "code",
      "source": [
        "# Train the model\n",
        "knn = KNeighborsRegressor(n_neighbors=3)\n",
        "knn.fit(X_train_scaled, y_train)"
      ],
      "metadata": {
        "colab": {
          "base_uri": "https://localhost:8080/",
          "height": 74
        },
        "id": "1m6IwstNmaLx",
        "outputId": "f096d802-b478-443e-e942-95a4b8d28f4e"
      },
      "execution_count": 98,
      "outputs": [
        {
          "output_type": "execute_result",
          "data": {
            "text/plain": [
              "KNeighborsRegressor(n_neighbors=3)"
            ],
            "text/html": [
              "<style>#sk-container-id-2 {color: black;background-color: white;}#sk-container-id-2 pre{padding: 0;}#sk-container-id-2 div.sk-toggleable {background-color: white;}#sk-container-id-2 label.sk-toggleable__label {cursor: pointer;display: block;width: 100%;margin-bottom: 0;padding: 0.3em;box-sizing: border-box;text-align: center;}#sk-container-id-2 label.sk-toggleable__label-arrow:before {content: \"▸\";float: left;margin-right: 0.25em;color: #696969;}#sk-container-id-2 label.sk-toggleable__label-arrow:hover:before {color: black;}#sk-container-id-2 div.sk-estimator:hover label.sk-toggleable__label-arrow:before {color: black;}#sk-container-id-2 div.sk-toggleable__content {max-height: 0;max-width: 0;overflow: hidden;text-align: left;background-color: #f0f8ff;}#sk-container-id-2 div.sk-toggleable__content pre {margin: 0.2em;color: black;border-radius: 0.25em;background-color: #f0f8ff;}#sk-container-id-2 input.sk-toggleable__control:checked~div.sk-toggleable__content {max-height: 200px;max-width: 100%;overflow: auto;}#sk-container-id-2 input.sk-toggleable__control:checked~label.sk-toggleable__label-arrow:before {content: \"▾\";}#sk-container-id-2 div.sk-estimator input.sk-toggleable__control:checked~label.sk-toggleable__label {background-color: #d4ebff;}#sk-container-id-2 div.sk-label input.sk-toggleable__control:checked~label.sk-toggleable__label {background-color: #d4ebff;}#sk-container-id-2 input.sk-hidden--visually {border: 0;clip: rect(1px 1px 1px 1px);clip: rect(1px, 1px, 1px, 1px);height: 1px;margin: -1px;overflow: hidden;padding: 0;position: absolute;width: 1px;}#sk-container-id-2 div.sk-estimator {font-family: monospace;background-color: #f0f8ff;border: 1px dotted black;border-radius: 0.25em;box-sizing: border-box;margin-bottom: 0.5em;}#sk-container-id-2 div.sk-estimator:hover {background-color: #d4ebff;}#sk-container-id-2 div.sk-parallel-item::after {content: \"\";width: 100%;border-bottom: 1px solid gray;flex-grow: 1;}#sk-container-id-2 div.sk-label:hover label.sk-toggleable__label {background-color: #d4ebff;}#sk-container-id-2 div.sk-serial::before {content: \"\";position: absolute;border-left: 1px solid gray;box-sizing: border-box;top: 0;bottom: 0;left: 50%;z-index: 0;}#sk-container-id-2 div.sk-serial {display: flex;flex-direction: column;align-items: center;background-color: white;padding-right: 0.2em;padding-left: 0.2em;position: relative;}#sk-container-id-2 div.sk-item {position: relative;z-index: 1;}#sk-container-id-2 div.sk-parallel {display: flex;align-items: stretch;justify-content: center;background-color: white;position: relative;}#sk-container-id-2 div.sk-item::before, #sk-container-id-2 div.sk-parallel-item::before {content: \"\";position: absolute;border-left: 1px solid gray;box-sizing: border-box;top: 0;bottom: 0;left: 50%;z-index: -1;}#sk-container-id-2 div.sk-parallel-item {display: flex;flex-direction: column;z-index: 1;position: relative;background-color: white;}#sk-container-id-2 div.sk-parallel-item:first-child::after {align-self: flex-end;width: 50%;}#sk-container-id-2 div.sk-parallel-item:last-child::after {align-self: flex-start;width: 50%;}#sk-container-id-2 div.sk-parallel-item:only-child::after {width: 0;}#sk-container-id-2 div.sk-dashed-wrapped {border: 1px dashed gray;margin: 0 0.4em 0.5em 0.4em;box-sizing: border-box;padding-bottom: 0.4em;background-color: white;}#sk-container-id-2 div.sk-label label {font-family: monospace;font-weight: bold;display: inline-block;line-height: 1.2em;}#sk-container-id-2 div.sk-label-container {text-align: center;}#sk-container-id-2 div.sk-container {/* jupyter's `normalize.less` sets `[hidden] { display: none; }` but bootstrap.min.css set `[hidden] { display: none !important; }` so we also need the `!important` here to be able to override the default hidden behavior on the sphinx rendered scikit-learn.org. See: https://github.com/scikit-learn/scikit-learn/issues/21755 */display: inline-block !important;position: relative;}#sk-container-id-2 div.sk-text-repr-fallback {display: none;}</style><div id=\"sk-container-id-2\" class=\"sk-top-container\"><div class=\"sk-text-repr-fallback\"><pre>KNeighborsRegressor(n_neighbors=3)</pre><b>In a Jupyter environment, please rerun this cell to show the HTML representation or trust the notebook. <br />On GitHub, the HTML representation is unable to render, please try loading this page with nbviewer.org.</b></div><div class=\"sk-container\" hidden><div class=\"sk-item\"><div class=\"sk-estimator sk-toggleable\"><input class=\"sk-toggleable__control sk-hidden--visually\" id=\"sk-estimator-id-2\" type=\"checkbox\" checked><label for=\"sk-estimator-id-2\" class=\"sk-toggleable__label sk-toggleable__label-arrow\">KNeighborsRegressor</label><div class=\"sk-toggleable__content\"><pre>KNeighborsRegressor(n_neighbors=3)</pre></div></div></div></div></div>"
            ]
          },
          "metadata": {},
          "execution_count": 98
        }
      ]
    },
    {
      "cell_type": "code",
      "source": [
        "# Make predictions on the test set\n",
        "y_pred = knn.predict(X_test_scaled)"
      ],
      "metadata": {
        "id": "8a-KHVFamaFB"
      },
      "execution_count": 99,
      "outputs": []
    },
    {
      "cell_type": "code",
      "source": [
        "# Evaluate the model\n",
        "mse = mean_squared_error(y_test, y_pred)\n",
        "mae = mean_absolute_error(y_test, y_pred)\n",
        "rmse = mean_squared_error(y_test, y_pred, squared=False)\n",
        "r2 = r2_score(y_test, y_pred)\n"
      ],
      "metadata": {
        "id": "R-SCJK1QmZ-n"
      },
      "execution_count": 100,
      "outputs": []
    },
    {
      "cell_type": "code",
      "source": [
        "print(\"Mean Squared Error:\", mse)\n",
        "print('MAE:', mae)\n",
        "print('RMSE:', rmse)\n",
        "print(\"R-squared:\", r2)"
      ],
      "metadata": {
        "colab": {
          "base_uri": "https://localhost:8080/"
        },
        "id": "itgErVwImZyb",
        "outputId": "13c4cd5c-11dc-4590-890c-6e3ca5b789d3"
      },
      "execution_count": 101,
      "outputs": [
        {
          "output_type": "stream",
          "name": "stdout",
          "text": [
            "Mean Squared Error: 0.8777659526994906\n",
            "MAE: 0.6386047172603804\n",
            "RMSE: 0.9368916440546851\n",
            "R-squared: 0.8540741372667864\n"
          ]
        }
      ]
    },
    {
      "cell_type": "markdown",
      "source": [
        "pca metrics"
      ],
      "metadata": {
        "id": "GiyYcxrM-vbn"
      }
    },
    {
      "cell_type": "code",
      "source": [
        "knn2 = KNeighborsRegressor(n_neighbors=3)\n",
        "knn2.fit(X_train_pca,y_train)\n",
        "pred2 = knn2.predict(X_test_pca)\n",
        "mse_pca = mean_squared_error(y_test, pred2)\n",
        "mae_pca = mean_absolute_error(y_test, pred2)\n",
        "rmse_pca = mean_squared_error(y_test, pred2, squared=False)\n",
        "r2_pca = r2_score(y_test, pred2)\n",
        "\n",
        "print('MAE:', mae_pca)\n",
        "print('R2:', r2_pca)\n",
        "print('MSE:', mse_pca)\n",
        "print('RMSE:', rmse_pca)"
      ],
      "metadata": {
        "colab": {
          "base_uri": "https://localhost:8080/"
        },
        "id": "a_C1mNnJyPq6",
        "outputId": "2e56974d-ccd0-4bc3-e554-749eb0e7c676"
      },
      "execution_count": 102,
      "outputs": [
        {
          "output_type": "stream",
          "name": "stdout",
          "text": [
            "MAE: 0.6333016828507161\n",
            "R2: 0.8660261012013091\n",
            "MSE: 0.8058730968813534\n",
            "RMSE: 0.8977043482580184\n"
          ]
        }
      ]
    },
    {
      "cell_type": "markdown",
      "source": [
        "error rate"
      ],
      "metadata": {
        "id": "8tc2Wa4u_F0T"
      }
    },
    {
      "cell_type": "code",
      "source": [
        "A = knn2.kneighbors_graph(X_train_pca)"
      ],
      "metadata": {
        "id": "iZbr2kHxyenA"
      },
      "execution_count": 103,
      "outputs": []
    },
    {
      "cell_type": "code",
      "source": [
        "A.toarray()"
      ],
      "metadata": {
        "colab": {
          "base_uri": "https://localhost:8080/"
        },
        "id": "qdGtc-vqyjF1",
        "outputId": "586e3cb2-519d-4093-d830-e8ad81e6491a"
      },
      "execution_count": 104,
      "outputs": [
        {
          "output_type": "execute_result",
          "data": {
            "text/plain": [
              "array([[1., 0., 0., ..., 0., 0., 0.],\n",
              "       [0., 1., 0., ..., 0., 0., 0.],\n",
              "       [0., 0., 1., ..., 0., 0., 0.],\n",
              "       ...,\n",
              "       [0., 0., 0., ..., 1., 0., 0.],\n",
              "       [0., 0., 0., ..., 0., 1., 0.],\n",
              "       [0., 0., 0., ..., 0., 0., 1.]])"
            ]
          },
          "metadata": {},
          "execution_count": 104
        }
      ]
    },
    {
      "cell_type": "code",
      "source": [
        "error_rate = []\n",
        "for i in range(1,40):\n",
        " knn = KNeighborsRegressor(n_neighbors=i)\n",
        " knn.fit(X_train_scaled,y_train)\n",
        " pred_i = knn.predict(X_test_scaled)\n",
        " error_rate.append(np.mean(y_test-pred_i))\n"
      ],
      "metadata": {
        "id": "E_PX0vzMynLs"
      },
      "execution_count": 105,
      "outputs": []
    },
    {
      "cell_type": "code",
      "source": [
        "plt.figure(figsize=(10,6))\n",
        "plt.plot(range(1,40),error_rate,color='blue', linestyle='dashed', marker='o',\n",
        "         markerfacecolor='red', markersize=10)\n",
        "plt.title('Error Rate vs. K Value')\n",
        "plt.xlabel('K')\n",
        "plt.ylabel('Error Rate')"
      ],
      "metadata": {
        "colab": {
          "base_uri": "https://localhost:8080/",
          "height": 421
        },
        "id": "M6denG7yyumb",
        "outputId": "9d707d7e-1396-4558-f531-95393b846856"
      },
      "execution_count": 106,
      "outputs": [
        {
          "output_type": "execute_result",
          "data": {
            "text/plain": [
              "Text(0, 0.5, 'Error Rate')"
            ]
          },
          "metadata": {},
          "execution_count": 106
        },
        {
          "output_type": "display_data",
          "data": {
            "text/plain": [
              "<Figure size 720x432 with 1 Axes>"
            ],
            "image/png": "[encoded data removed]"
          },
          "metadata": {
            "needs_background": "light"
          }
        }
      ]
    },
    {
      "cell_type": "markdown",
      "source": [
        "### **Support Vector Regression**"
      ],
      "metadata": {
        "id": "N-szTD0ORrdq"
      }
    },
    {
      "cell_type": "code",
      "source": [
        "from sklearn.svm import SVR\n",
        "from sklearn.pipeline import make_pipeline"
      ],
      "metadata": {
        "id": "jw5J3np3ApdF"
      },
      "execution_count": 107,
      "outputs": []
    },
    {
      "cell_type": "code",
      "source": [
        "regr = make_pipeline(StandardScaler(), SVR(C=1.0, epsilon=0.2))\n",
        "regr.fit(X_train_scaled, y_train)"
      ],
      "metadata": {
        "colab": {
          "base_uri": "https://localhost:8080/",
          "height": 125
        },
        "id": "M6mkuh4hzU0-",
        "outputId": "d7ba1699-2ae2-4deb-8035-37d7de759b31"
      },
      "execution_count": 108,
      "outputs": [
        {
          "output_type": "execute_result",
          "data": {
            "text/plain": [
              "Pipeline(steps=[('standardscaler', StandardScaler()),\n",
              "                ('svr', SVR(epsilon=0.2))])"
            ],
            "text/html": [
              "<style>#sk-container-id-3 {color: black;background-color: white;}#sk-container-id-3 pre{padding: 0;}#sk-container-id-3 div.sk-toggleable {background-color: white;}#sk-container-id-3 label.sk-toggleable__label {cursor: pointer;display: block;width: 100%;margin-bottom: 0;padding: 0.3em;box-sizing: border-box;text-align: center;}#sk-container-id-3 label.sk-toggleable__label-arrow:before {content: \"▸\";float: left;margin-right: 0.25em;color: #696969;}#sk-container-id-3 label.sk-toggleable__label-arrow:hover:before {color: black;}#sk-container-id-3 div.sk-estimator:hover label.sk-toggleable__label-arrow:before {color: black;}#sk-container-id-3 div.sk-toggleable__content {max-height: 0;max-width: 0;overflow: hidden;text-align: left;background-color: #f0f8ff;}#sk-container-id-3 div.sk-toggleable__content pre {margin: 0.2em;color: black;border-radius: 0.25em;background-color: #f0f8ff;}#sk-container-id-3 input.sk-toggleable__control:checked~div.sk-toggleable__content {max-height: 200px;max-width: 100%;overflow: auto;}#sk-container-id-3 input.sk-toggleable__control:checked~label.sk-toggleable__label-arrow:before {content: \"▾\";}#sk-container-id-3 div.sk-estimator input.sk-toggleable__control:checked~label.sk-toggleable__label {background-color: #d4ebff;}#sk-container-id-3 div.sk-label input.sk-toggleable__control:checked~label.sk-toggleable__label {background-color: #d4ebff;}#sk-container-id-3 input.sk-hidden--visually {border: 0;clip: rect(1px 1px 1px 1px);clip: rect(1px, 1px, 1px, 1px);height: 1px;margin: -1px;overflow: hidden;padding: 0;position: absolute;width: 1px;}#sk-container-id-3 div.sk-estimator {font-family: monospace;background-color: #f0f8ff;border: 1px dotted black;border-radius: 0.25em;box-sizing: border-box;margin-bottom: 0.5em;}#sk-container-id-3 div.sk-estimator:hover {background-color: #d4ebff;}#sk-container-id-3 div.sk-parallel-item::after {content: \"\";width: 100%;border-bottom: 1px solid gray;flex-grow: 1;}#sk-container-id-3 div.sk-label:hover label.sk-toggleable__label {background-color: #d4ebff;}#sk-container-id-3 div.sk-serial::before {content: \"\";position: absolute;border-left: 1px solid gray;box-sizing: border-box;top: 0;bottom: 0;left: 50%;z-index: 0;}#sk-container-id-3 div.sk-serial {display: flex;flex-direction: column;align-items: center;background-color: white;padding-right: 0.2em;padding-left: 0.2em;position: relative;}#sk-container-id-3 div.sk-item {position: relative;z-index: 1;}#sk-container-id-3 div.sk-parallel {display: flex;align-items: stretch;justify-content: center;background-color: white;position: relative;}#sk-container-id-3 div.sk-item::before, #sk-container-id-3 div.sk-parallel-item::before {content: \"\";position: absolute;border-left: 1px solid gray;box-sizing: border-box;top: 0;bottom: 0;left: 50%;z-index: -1;}#sk-container-id-3 div.sk-parallel-item {display: flex;flex-direction: column;z-index: 1;position: relative;background-color: white;}#sk-container-id-3 div.sk-parallel-item:first-child::after {align-self: flex-end;width: 50%;}#sk-container-id-3 div.sk-parallel-item:last-child::after {align-self: flex-start;width: 50%;}#sk-container-id-3 div.sk-parallel-item:only-child::after {width: 0;}#sk-container-id-3 div.sk-dashed-wrapped {border: 1px dashed gray;margin: 0 0.4em 0.5em 0.4em;box-sizing: border-box;padding-bottom: 0.4em;background-color: white;}#sk-container-id-3 div.sk-label label {font-family: monospace;font-weight: bold;display: inline-block;line-height: 1.2em;}#sk-container-id-3 div.sk-label-container {text-align: center;}#sk-container-id-3 div.sk-container {/* jupyter's `normalize.less` sets `[hidden] { display: none; }` but bootstrap.min.css set `[hidden] { display: none !important; }` so we also need the `!important` here to be able to override the default hidden behavior on the sphinx rendered scikit-learn.org. See: https://github.com/scikit-learn/scikit-learn/issues/21755 */display: inline-block !important;position: relative;}#sk-container-id-3 div.sk-text-repr-fallback {display: none;}</style><div id=\"sk-container-id-3\" class=\"sk-top-container\"><div class=\"sk-text-repr-fallback\"><pre>Pipeline(steps=[(&#x27;standardscaler&#x27;, StandardScaler()),\n",
              "                (&#x27;svr&#x27;, SVR(epsilon=0.2))])</pre><b>In a Jupyter environment, please rerun this cell to show the HTML representation or trust the notebook. <br />On GitHub, the HTML representation is unable to render, please try loading this page with nbviewer.org.</b></div><div class=\"sk-container\" hidden><div class=\"sk-item sk-dashed-wrapped\"><div class=\"sk-label-container\"><div class=\"sk-label sk-toggleable\"><input class=\"sk-toggleable__control sk-hidden--visually\" id=\"sk-estimator-id-3\" type=\"checkbox\" ><label for=\"sk-estimator-id-3\" class=\"sk-toggleable__label sk-toggleable__label-arrow\">Pipeline</label><div class=\"sk-toggleable__content\"><pre>Pipeline(steps=[(&#x27;standardscaler&#x27;, StandardScaler()),\n",
              "                (&#x27;svr&#x27;, SVR(epsilon=0.2))])</pre></div></div></div><div class=\"sk-serial\"><div class=\"sk-item\"><div class=\"sk-estimator sk-toggleable\"><input class=\"sk-toggleable__control sk-hidden--visually\" id=\"sk-estimator-id-4\" type=\"checkbox\" ><label for=\"sk-estimator-id-4\" class=\"sk-toggleable__label sk-toggleable__label-arrow\">StandardScaler</label><div class=\"sk-toggleable__content\"><pre>StandardScaler()</pre></div></div></div><div class=\"sk-item\"><div class=\"sk-estimator sk-toggleable\"><input class=\"sk-toggleable__control sk-hidden--visually\" id=\"sk-estimator-id-5\" type=\"checkbox\" ><label for=\"sk-estimator-id-5\" class=\"sk-toggleable__label sk-toggleable__label-arrow\">SVR</label><div class=\"sk-toggleable__content\"><pre>SVR(epsilon=0.2)</pre></div></div></div></div></div></div></div>"
            ]
          },
          "metadata": {},
          "execution_count": 108
        }
      ]
    },
    {
      "cell_type": "code",
      "source": [
        "svpred = regr.predict(X_test_scaled)"
      ],
      "metadata": {
        "id": "ZefF2nv-zgJM"
      },
      "execution_count": 109,
      "outputs": []
    },
    {
      "cell_type": "code",
      "source": [
        "from sklearn.metrics import mean_absolute_error\n",
        "\n",
        "mae_S = mean_absolute_error(y_test, svpred)\n",
        "mse_S = mean_squared_error(y_test, svpred)\n",
        "rmse_S = np.sqrt(mse)\n",
        "r2_S = r2_score(y_test, svpred)\n",
        "print(\"MAE:\", mae_S)\n",
        "print(\"MSE:\", mse_S)\n",
        "print(\"RMSE:\", rmse_S)\n",
        "print(\"R-squared:\", r2_S)"
      ],
      "metadata": {
        "colab": {
          "base_uri": "https://localhost:8080/"
        },
        "id": "WTAxGdF-XK4U",
        "outputId": "59703534-1524-46df-b709-b3f3c9878449"
      },
      "execution_count": 110,
      "outputs": [
        {
          "output_type": "stream",
          "name": "stdout",
          "text": [
            "MAE: 0.3831121298051419\n",
            "MSE: 0.45847517330745413\n",
            "RMSE: 0.9368916440546851\n",
            "R-squared: 0.9237799267550826\n"
          ]
        }
      ]
    },
    {
      "cell_type": "code",
      "source": [
        "reg = make_pipeline(StandardScaler(), SVR(C=1.0, epsilon=0.2))\n",
        "reg.fit(X_train_pca, y_train)"
      ],
      "metadata": {
        "colab": {
          "base_uri": "https://localhost:8080/",
          "height": 125
        },
        "id": "zgEzECatzvgi",
        "outputId": "0556a86d-bf21-4bcf-f405-99229c8b335a"
      },
      "execution_count": 111,
      "outputs": [
        {
          "output_type": "execute_result",
          "data": {
            "text/plain": [
              "Pipeline(steps=[('standardscaler', StandardScaler()),\n",
              "                ('svr', SVR(epsilon=0.2))])"
            ],
            "text/html": [
              "<style>#sk-container-id-4 {color: black;background-color: white;}#sk-container-id-4 pre{padding: 0;}#sk-container-id-4 div.sk-toggleable {background-color: white;}#sk-container-id-4 label.sk-toggleable__label {cursor: pointer;display: block;width: 100%;margin-bottom: 0;padding: 0.3em;box-sizing: border-box;text-align: center;}#sk-container-id-4 label.sk-toggleable__label-arrow:before {content: \"▸\";float: left;margin-right: 0.25em;color: #696969;}#sk-container-id-4 label.sk-toggleable__label-arrow:hover:before {color: black;}#sk-container-id-4 div.sk-estimator:hover label.sk-toggleable__label-arrow:before {color: black;}#sk-container-id-4 div.sk-toggleable__content {max-height: 0;max-width: 0;overflow: hidden;text-align: left;background-color: #f0f8ff;}#sk-container-id-4 div.sk-toggleable__content pre {margin: 0.2em;color: black;border-radius: 0.25em;background-color: #f0f8ff;}#sk-container-id-4 input.sk-toggleable__control:checked~div.sk-toggleable__content {max-height: 200px;max-width: 100%;overflow: auto;}#sk-container-id-4 input.sk-toggleable__control:checked~label.sk-toggleable__label-arrow:before {content: \"▾\";}#sk-container-id-4 div.sk-estimator input.sk-toggleable__control:checked~label.sk-toggleable__label {background-color: #d4ebff;}#sk-container-id-4 div.sk-label input.sk-toggleable__control:checked~label.sk-toggleable__label {background-color: #d4ebff;}#sk-container-id-4 input.sk-hidden--visually {border: 0;clip: rect(1px 1px 1px 1px);clip: rect(1px, 1px, 1px, 1px);height: 1px;margin: -1px;overflow: hidden;padding: 0;position: absolute;width: 1px;}#sk-container-id-4 div.sk-estimator {font-family: monospace;background-color: #f0f8ff;border: 1px dotted black;border-radius: 0.25em;box-sizing: border-box;margin-bottom: 0.5em;}#sk-container-id-4 div.sk-estimator:hover {background-color: #d4ebff;}#sk-container-id-4 div.sk-parallel-item::after {content: \"\";width: 100%;border-bottom: 1px solid gray;flex-grow: 1;}#sk-container-id-4 div.sk-label:hover label.sk-toggleable__label {background-color: #d4ebff;}#sk-container-id-4 div.sk-serial::before {content: \"\";position: absolute;border-left: 1px solid gray;box-sizing: border-box;top: 0;bottom: 0;left: 50%;z-index: 0;}#sk-container-id-4 div.sk-serial {display: flex;flex-direction: column;align-items: center;background-color: white;padding-right: 0.2em;padding-left: 0.2em;position: relative;}#sk-container-id-4 div.sk-item {position: relative;z-index: 1;}#sk-container-id-4 div.sk-parallel {display: flex;align-items: stretch;justify-content: center;background-color: white;position: relative;}#sk-container-id-4 div.sk-item::before, #sk-container-id-4 div.sk-parallel-item::before {content: \"\";position: absolute;border-left: 1px solid gray;box-sizing: border-box;top: 0;bottom: 0;left: 50%;z-index: -1;}#sk-container-id-4 div.sk-parallel-item {display: flex;flex-direction: column;z-index: 1;position: relative;background-color: white;}#sk-container-id-4 div.sk-parallel-item:first-child::after {align-self: flex-end;width: 50%;}#sk-container-id-4 div.sk-parallel-item:last-child::after {align-self: flex-start;width: 50%;}#sk-container-id-4 div.sk-parallel-item:only-child::after {width: 0;}#sk-container-id-4 div.sk-dashed-wrapped {border: 1px dashed gray;margin: 0 0.4em 0.5em 0.4em;box-sizing: border-box;padding-bottom: 0.4em;background-color: white;}#sk-container-id-4 div.sk-label label {font-family: monospace;font-weight: bold;display: inline-block;line-height: 1.2em;}#sk-container-id-4 div.sk-label-container {text-align: center;}#sk-container-id-4 div.sk-container {/* jupyter's `normalize.less` sets `[hidden] { display: none; }` but bootstrap.min.css set `[hidden] { display: none !important; }` so we also need the `!important` here to be able to override the default hidden behavior on the sphinx rendered scikit-learn.org. See: https://github.com/scikit-learn/scikit-learn/issues/21755 */display: inline-block !important;position: relative;}#sk-container-id-4 div.sk-text-repr-fallback {display: none;}</style><div id=\"sk-container-id-4\" class=\"sk-top-container\"><div class=\"sk-text-repr-fallback\"><pre>Pipeline(steps=[(&#x27;standardscaler&#x27;, StandardScaler()),\n",
              "                (&#x27;svr&#x27;, SVR(epsilon=0.2))])</pre><b>In a Jupyter environment, please rerun this cell to show the HTML representation or trust the notebook. <br />On GitHub, the HTML representation is unable to render, please try loading this page with nbviewer.org.</b></div><div class=\"sk-container\" hidden><div class=\"sk-item sk-dashed-wrapped\"><div class=\"sk-label-container\"><div class=\"sk-label sk-toggleable\"><input class=\"sk-toggleable__control sk-hidden--visually\" id=\"sk-estimator-id-6\" type=\"checkbox\" ><label for=\"sk-estimator-id-6\" class=\"sk-toggleable__label sk-toggleable__label-arrow\">Pipeline</label><div class=\"sk-toggleable__content\"><pre>Pipeline(steps=[(&#x27;standardscaler&#x27;, StandardScaler()),\n",
              "                (&#x27;svr&#x27;, SVR(epsilon=0.2))])</pre></div></div></div><div class=\"sk-serial\"><div class=\"sk-item\"><div class=\"sk-estimator sk-toggleable\"><input class=\"sk-toggleable__control sk-hidden--visually\" id=\"sk-estimator-id-7\" type=\"checkbox\" ><label for=\"sk-estimator-id-7\" class=\"sk-toggleable__label sk-toggleable__label-arrow\">StandardScaler</label><div class=\"sk-toggleable__content\"><pre>StandardScaler()</pre></div></div></div><div class=\"sk-item\"><div class=\"sk-estimator sk-toggleable\"><input class=\"sk-toggleable__control sk-hidden--visually\" id=\"sk-estimator-id-8\" type=\"checkbox\" ><label for=\"sk-estimator-id-8\" class=\"sk-toggleable__label sk-toggleable__label-arrow\">SVR</label><div class=\"sk-toggleable__content\"><pre>SVR(epsilon=0.2)</pre></div></div></div></div></div></div></div>"
            ]
          },
          "metadata": {},
          "execution_count": 111
        }
      ]
    },
    {
      "cell_type": "code",
      "source": [
        "svpredi = reg.predict(X_test_pca)\n",
        "mae_S_pca = mean_absolute_error(y_test, svpredi)\n",
        "mse_S_pca = mean_squared_error(y_test, svpredi)\n",
        "rmse_S_pca = np.sqrt(mse)\n",
        "r2_S_pca = r2_score(y_test, svpredi)\n",
        "print('MAE:', mae_S_pca)\n",
        "print('R2:', r2_S_pca)\n",
        "print('MSE:', mse_S_pca)\n",
        "print('RMSE:', rmse_S_pca)"
      ],
      "metadata": {
        "colab": {
          "base_uri": "https://localhost:8080/"
        },
        "id": "NqwAZzwdz0zC",
        "outputId": "e3a7c158-7d0c-4b77-87de-33cd813e154c"
      },
      "execution_count": 112,
      "outputs": [
        {
          "output_type": "stream",
          "name": "stdout",
          "text": [
            "MAE: 0.6784339764721332\n",
            "R2: 0.8403565410306751\n",
            "MSE: 0.9602793516502345\n",
            "RMSE: 0.9368916440546851\n"
          ]
        }
      ]
    },
    {
      "cell_type": "code",
      "source": [
        "#!pip uninstall scikit-learn -y\n",
        "\n",
        "#!pip install -U scikit-learn #for scikit error instance"
      ],
      "metadata": {
        "id": "H3VWT-ok4E2L"
      },
      "execution_count": 113,
      "outputs": []
    },
    {
      "cell_type": "code",
      "source": [
        "from sklearn.metrics import PredictionErrorDisplay\n",
        "display = PredictionErrorDisplay(y_true=y_test, y_pred=svpredi)\n",
        "display.plot()"
      ],
      "metadata": {
        "colab": {
          "base_uri": "https://localhost:8080/",
          "height": 296
        },
        "id": "kAJnRER63ug5",
        "outputId": "9e1ad01d-8585-4b51-edf1-4264634349b1"
      },
      "execution_count": 114,
      "outputs": [
        {
          "output_type": "execute_result",
          "data": {
            "text/plain": [
              "<sklearn.metrics._plot.regression.PredictionErrorDisplay at 0x7fd45a6b63d0>"
            ]
          },
          "metadata": {},
          "execution_count": 114
        },
        {
          "output_type": "display_data",
          "data": {
            "text/plain": [
              "<Figure size 432x288 with 1 Axes>"
            ],
            "image/png": "[encoded data removed]"
          },
          "metadata": {
            "needs_background": "light"
          }
        }
      ]
    },
    {
      "cell_type": "markdown",
      "source": [
        "### **Decision Tree Regressor**"
      ],
      "metadata": {
        "id": "5rD3b2DtR3fq"
      }
    },
    {
      "cell_type": "code",
      "source": [
        "from sklearn.feature_selection import RFE\n",
        "from sklearn.tree import DecisionTreeRegressor"
      ],
      "metadata": {
        "id": "0-bzYFqnsg55"
      },
      "execution_count": 115,
      "outputs": []
    },
    {
      "cell_type": "code",
      "execution_count": 116,
      "metadata": {
        "id": "flKKIwgjnUgF"
      },
      "outputs": [],
      "source": [
        "# Initializing a Decision Tree Regressor\n",
        "dt_reg = DecisionTreeRegressor()\n",
        "dt_reg.fit(X_train_scaled, y_train)\n",
        "dt_reg_pred = dt_reg.predict(X_test_scaled)\n",
        "\n",
        "dt_reg_mae = mean_absolute_error(y_test, dt_reg_pred)\n",
        "dt_reg_mse = mean_squared_error(y_test, dt_reg_pred)\n",
        "dt_reg_r2 = r2_score(y_test, dt_reg_pred)\n",
        "dt_reg_rmse = np.sqrt(mse)"
      ]
    },
    {
      "cell_type": "code",
      "source": [
        "print(\"MAE:\", dt_reg_mae)\n",
        "print(\"MSE:\", dt_reg_mse)\n",
        "print(\"R2:\", dt_reg_r2)\n",
        "print(\"RMSE:\", dt_reg_rmse)"
      ],
      "metadata": {
        "colab": {
          "base_uri": "https://localhost:8080/"
        },
        "id": "x_9il9u60d8C",
        "outputId": "5ba89942-ebb0-41cf-f5c3-70cd2cb81cee"
      },
      "execution_count": 117,
      "outputs": [
        {
          "output_type": "stream",
          "name": "stdout",
          "text": [
            "MAE: 0.1485320787686682\n",
            "MSE: 0.3350875577287041\n",
            "R2: 0.9442927345241116\n",
            "RMSE: 0.9368916440546851\n"
          ]
        }
      ]
    },
    {
      "cell_type": "code",
      "source": [
        "dt = DecisionTreeRegressor()\n",
        "dt.fit(X_train_pca, y_train)\n",
        "dt_pred = dt.predict(X_test_pca)\n",
        "\n",
        "dt_pca_mae = mean_absolute_error(y_test, dt_pred)\n",
        "dt_pca_mse = mean_squared_error(y_test, dt_pred)\n",
        "dtreg_pca_r2 = r2_score(y_test, dt_pred)\n",
        "dtreg_pca_rmse = np.sqrt(dt_pca_mse)\n",
        "\n",
        "print(\"MAE:\", dt_pca_mae)\n",
        "print(\"MSE:\", dt_pca_mse)\n",
        "print(\"R2:\", dtreg_pca_r2)\n",
        "print(\"RMSE:\", dtreg_pca_rmse)"
      ],
      "metadata": {
        "id": "F66e3FbVIQ4m",
        "colab": {
          "base_uri": "https://localhost:8080/"
        },
        "outputId": "cd80e082-1a2d-4c19-898b-c5b1f2cace2d"
      },
      "execution_count": 118,
      "outputs": [
        {
          "output_type": "stream",
          "name": "stdout",
          "text": [
            "MAE: 0.9213650451540997\n",
            "MSE: 1.7622190258645065\n",
            "R2: 0.7070365615306571\n",
            "RMSE: 1.3274859795359446\n"
          ]
        }
      ]
    },
    {
      "cell_type": "markdown",
      "source": [
        "### **HYPERPARAMETER OPTIMIZATION**"
      ],
      "metadata": {
        "id": "lTBlLxpRSDKb"
      }
    },
    {
      "cell_type": "code",
      "source": [
        "param_grid = {'C': [0.1,1, 10, 100, 1000], 'gamma': [1,0.1,0.01,0.001,0.0001], 'kernel': ['rbf']} "
      ],
      "metadata": {
        "id": "F07MogIP6yVg"
      },
      "execution_count": 119,
      "outputs": []
    },
    {
      "cell_type": "code",
      "source": [
        "grid = GridSearchCV(SVR(),param_grid,refit=True,verbose=3)\n",
        "grid2 = GridSearchCV(SVR(),param_grid,refit=True,verbose=3)"
      ],
      "metadata": {
        "id": "qSYYCTlF6pvS"
      },
      "execution_count": 120,
      "outputs": []
    },
    {
      "cell_type": "code",
      "source": [
        "grid.fit(X_train_scaled,y_train)\n",
        "grid2.fit(X_train_pca,y_train)"
      ],
      "metadata": {
        "colab": {
          "base_uri": "https://localhost:8080/",
          "height": 1000
        },
        "id": "H27zpsO765b3",
        "outputId": "20edc4f0-5435-46a4-ade7-fffbfcf210fe"
      },
      "execution_count": 121,
      "outputs": [
        {
          "output_type": "stream",
          "name": "stdout",
          "text": [
            "Fitting 5 folds for each of 25 candidates, totalling 125 fits\n",
            "[CV 1/5] END .......C=0.1, gamma=1, kernel=rbf;, score=-0.214 total time=   0.0s\n",
            "[CV 2/5] END .......C=0.1, gamma=1, kernel=rbf;, score=-0.030 total time=   0.0s\n",
            "[CV 3/5] END .......C=0.1, gamma=1, kernel=rbf;, score=-0.189 total time=   0.0s\n",
            "[CV 4/5] END .......C=0.1, gamma=1, kernel=rbf;, score=-0.092 total time=   0.0s\n",
            "[CV 5/5] END .......C=0.1, gamma=1, kernel=rbf;, score=-0.091 total time=   0.0s\n",
            "[CV 1/5] END ......C=0.1, gamma=0.1, kernel=rbf;, score=0.241 total time=   0.0s\n",
            "[CV 2/5] END ......C=0.1, gamma=0.1, kernel=rbf;, score=0.372 total time=   0.0s\n",
            "[CV 3/5] END ......C=0.1, gamma=0.1, kernel=rbf;, score=0.148 total time=   0.0s\n",
            "[CV 4/5] END ......C=0.1, gamma=0.1, kernel=rbf;, score=0.299 total time=   0.0s\n",
            "[CV 5/5] END ......C=0.1, gamma=0.1, kernel=rbf;, score=0.308 total time=   0.0s\n",
            "[CV 1/5] END .....C=0.1, gamma=0.01, kernel=rbf;, score=0.516 total time=   0.0s\n",
            "[CV 2/5] END .....C=0.1, gamma=0.01, kernel=rbf;, score=0.619 total time=   0.0s\n",
            "[CV 3/5] END .....C=0.1, gamma=0.01, kernel=rbf;, score=0.496 total time=   0.0s\n",
            "[CV 4/5] END .....C=0.1, gamma=0.01, kernel=rbf;, score=0.575 total time=   0.0s\n",
            "[CV 5/5] END .....C=0.1, gamma=0.01, kernel=rbf;, score=0.558 total time=   0.0s\n",
            "[CV 1/5] END ...C=0.1, gamma=0.001, kernel=rbf;, score=-0.051 total time=   0.0s\n",
            "[CV 2/5] END ....C=0.1, gamma=0.001, kernel=rbf;, score=0.142 total time=   0.0s\n",
            "[CV 3/5] END ...C=0.1, gamma=0.001, kernel=rbf;, score=-0.017 total time=   0.0s\n",
            "[CV 4/5] END ....C=0.1, gamma=0.001, kernel=rbf;, score=0.076 total time=   0.0s\n",
            "[CV 5/5] END ....C=0.1, gamma=0.001, kernel=rbf;, score=0.060 total time=   0.0s\n",
            "[CV 1/5] END ..C=0.1, gamma=0.0001, kernel=rbf;, score=-0.198 total time=   0.0s\n",
            "[CV 2/5] END ..C=0.1, gamma=0.0001, kernel=rbf;, score=-0.008 total time=   0.0s\n",
            "[CV 3/5] END ..C=0.1, gamma=0.0001, kernel=rbf;, score=-0.164 total time=   0.0s\n",
            "[CV 4/5] END ..C=0.1, gamma=0.0001, kernel=rbf;, score=-0.068 total time=   0.0s\n",
            "[CV 5/5] END ..C=0.1, gamma=0.0001, kernel=rbf;, score=-0.072 total time=   0.0s\n",
            "[CV 1/5] END .........C=1, gamma=1, kernel=rbf;, score=-0.170 total time=   0.0s\n",
            "[CV 2/5] END .........C=1, gamma=1, kernel=rbf;, score=-0.002 total time=   0.0s\n",
            "[CV 3/5] END .........C=1, gamma=1, kernel=rbf;, score=-0.162 total time=   0.0s\n",
            "[CV 4/5] END .........C=1, gamma=1, kernel=rbf;, score=-0.065 total time=   0.0s\n",
            "[CV 5/5] END .........C=1, gamma=1, kernel=rbf;, score=-0.065 total time=   0.0s\n",
            "[CV 1/5] END ........C=1, gamma=0.1, kernel=rbf;, score=0.832 total time=   0.0s\n",
            "[CV 2/5] END ........C=1, gamma=0.1, kernel=rbf;, score=0.761 total time=   0.0s\n",
            "[CV 3/5] END ........C=1, gamma=0.1, kernel=rbf;, score=0.676 total time=   0.0s\n",
            "[CV 4/5] END ........C=1, gamma=0.1, kernel=rbf;, score=0.811 total time=   0.0s\n",
            "[CV 5/5] END ........C=1, gamma=0.1, kernel=rbf;, score=0.802 total time=   0.0s\n",
            "[CV 1/5] END .......C=1, gamma=0.01, kernel=rbf;, score=0.972 total time=   0.0s\n",
            "[CV 2/5] END .......C=1, gamma=0.01, kernel=rbf;, score=0.968 total time=   0.0s\n",
            "[CV 3/5] END .......C=1, gamma=0.01, kernel=rbf;, score=0.960 total time=   0.0s\n",
            "[CV 4/5] END .......C=1, gamma=0.01, kernel=rbf;, score=0.968 total time=   0.0s\n",
            "[CV 5/5] END .......C=1, gamma=0.01, kernel=rbf;, score=0.971 total time=   0.0s\n",
            "[CV 1/5] END ......C=1, gamma=0.001, kernel=rbf;, score=0.666 total time=   0.0s\n",
            "[CV 2/5] END ......C=1, gamma=0.001, kernel=rbf;, score=0.745 total time=   0.0s\n",
            "[CV 3/5] END ......C=1, gamma=0.001, kernel=rbf;, score=0.678 total time=   0.0s\n",
            "[CV 4/5] END ......C=1, gamma=0.001, kernel=rbf;, score=0.716 total time=   0.0s\n",
            "[CV 5/5] END ......C=1, gamma=0.001, kernel=rbf;, score=0.682 total time=   0.0s\n",
            "[CV 1/5] END ....C=1, gamma=0.0001, kernel=rbf;, score=-0.045 total time=   0.0s\n",
            "[CV 2/5] END .....C=1, gamma=0.0001, kernel=rbf;, score=0.151 total time=   0.0s\n",
            "[CV 3/5] END ....C=1, gamma=0.0001, kernel=rbf;, score=-0.008 total time=   0.0s\n",
            "[CV 4/5] END .....C=1, gamma=0.0001, kernel=rbf;, score=0.082 total time=   0.0s\n",
            "[CV 5/5] END .....C=1, gamma=0.0001, kernel=rbf;, score=0.066 total time=   0.0s\n",
            "[CV 1/5] END .........C=10, gamma=1, kernel=rbf;, score=0.053 total time=   0.0s\n",
            "[CV 2/5] END .........C=10, gamma=1, kernel=rbf;, score=0.007 total time=   0.0s\n",
            "[CV 3/5] END .........C=10, gamma=1, kernel=rbf;, score=0.019 total time=   0.0s\n",
            "[CV 4/5] END .........C=10, gamma=1, kernel=rbf;, score=0.053 total time=   0.0s\n",
            "[CV 5/5] END .........C=10, gamma=1, kernel=rbf;, score=0.040 total time=   0.0s\n",
            "[CV 1/5] END .......C=10, gamma=0.1, kernel=rbf;, score=0.910 total time=   0.0s\n",
            "[CV 2/5] END .......C=10, gamma=0.1, kernel=rbf;, score=0.850 total time=   0.0s\n",
            "[CV 3/5] END .......C=10, gamma=0.1, kernel=rbf;, score=0.838 total time=   0.0s\n",
            "[CV 4/5] END .......C=10, gamma=0.1, kernel=rbf;, score=0.881 total time=   0.0s\n",
            "[CV 5/5] END .......C=10, gamma=0.1, kernel=rbf;, score=0.884 total time=   0.0s\n",
            "[CV 1/5] END ......C=10, gamma=0.01, kernel=rbf;, score=0.992 total time=   0.0s\n",
            "[CV 2/5] END ......C=10, gamma=0.01, kernel=rbf;, score=0.990 total time=   0.0s\n",
            "[CV 3/5] END ......C=10, gamma=0.01, kernel=rbf;, score=0.987 total time=   0.0s\n",
            "[CV 4/5] END ......C=10, gamma=0.01, kernel=rbf;, score=0.987 total time=   0.0s\n",
            "[CV 5/5] END ......C=10, gamma=0.01, kernel=rbf;, score=0.994 total time=   0.0s\n",
            "[CV 1/5] END .....C=10, gamma=0.001, kernel=rbf;, score=0.991 total time=   0.0s\n",
            "[CV 2/5] END .....C=10, gamma=0.001, kernel=rbf;, score=0.993 total time=   0.0s\n",
            "[CV 3/5] END .....C=10, gamma=0.001, kernel=rbf;, score=0.987 total time=   0.0s\n",
            "[CV 4/5] END .....C=10, gamma=0.001, kernel=rbf;, score=0.989 total time=   0.0s\n",
            "[CV 5/5] END .....C=10, gamma=0.001, kernel=rbf;, score=0.989 total time=   0.0s\n",
            "[CV 1/5] END ....C=10, gamma=0.0001, kernel=rbf;, score=0.679 total time=   0.0s\n",
            "[CV 2/5] END ....C=10, gamma=0.0001, kernel=rbf;, score=0.757 total time=   0.0s\n",
            "[CV 3/5] END ....C=10, gamma=0.0001, kernel=rbf;, score=0.692 total time=   0.0s\n",
            "[CV 4/5] END ....C=10, gamma=0.0001, kernel=rbf;, score=0.726 total time=   0.0s\n",
            "[CV 5/5] END ....C=10, gamma=0.0001, kernel=rbf;, score=0.690 total time=   0.0s\n",
            "[CV 1/5] END ........C=100, gamma=1, kernel=rbf;, score=0.053 total time=   0.0s\n",
            "[CV 2/5] END ........C=100, gamma=1, kernel=rbf;, score=0.007 total time=   0.0s\n",
            "[CV 3/5] END ........C=100, gamma=1, kernel=rbf;, score=0.019 total time=   0.0s\n",
            "[CV 4/5] END ........C=100, gamma=1, kernel=rbf;, score=0.053 total time=   0.0s\n",
            "[CV 5/5] END ........C=100, gamma=1, kernel=rbf;, score=0.040 total time=   0.0s\n",
            "[CV 1/5] END ......C=100, gamma=0.1, kernel=rbf;, score=0.910 total time=   0.0s\n",
            "[CV 2/5] END ......C=100, gamma=0.1, kernel=rbf;, score=0.850 total time=   0.0s\n",
            "[CV 3/5] END ......C=100, gamma=0.1, kernel=rbf;, score=0.838 total time=   0.0s\n",
            "[CV 4/5] END ......C=100, gamma=0.1, kernel=rbf;, score=0.881 total time=   0.0s\n",
            "[CV 5/5] END ......C=100, gamma=0.1, kernel=rbf;, score=0.884 total time=   0.0s\n",
            "[CV 1/5] END .....C=100, gamma=0.01, kernel=rbf;, score=0.994 total time=   0.0s\n",
            "[CV 2/5] END .....C=100, gamma=0.01, kernel=rbf;, score=0.989 total time=   0.0s\n",
            "[CV 3/5] END .....C=100, gamma=0.01, kernel=rbf;, score=0.991 total time=   0.0s\n",
            "[CV 4/5] END .....C=100, gamma=0.01, kernel=rbf;, score=0.989 total time=   0.0s\n",
            "[CV 5/5] END .....C=100, gamma=0.01, kernel=rbf;, score=0.994 total time=   0.0s\n",
            "[CV 1/5] END ....C=100, gamma=0.001, kernel=rbf;, score=0.997 total time=   0.0s\n",
            "[CV 2/5] END ....C=100, gamma=0.001, kernel=rbf;, score=0.998 total time=   0.0s\n",
            "[CV 3/5] END ....C=100, gamma=0.001, kernel=rbf;, score=0.986 total time=   0.0s\n",
            "[CV 4/5] END ....C=100, gamma=0.001, kernel=rbf;, score=0.987 total time=   0.0s\n",
            "[CV 5/5] END ....C=100, gamma=0.001, kernel=rbf;, score=0.996 total time=   0.0s\n",
            "[CV 1/5] END ...C=100, gamma=0.0001, kernel=rbf;, score=0.991 total time=   0.0s\n",
            "[CV 2/5] END ...C=100, gamma=0.0001, kernel=rbf;, score=0.994 total time=   0.0s\n",
            "[CV 3/5] END ...C=100, gamma=0.0001, kernel=rbf;, score=0.987 total time=   0.0s\n",
            "[CV 4/5] END ...C=100, gamma=0.0001, kernel=rbf;, score=0.989 total time=   0.0s\n",
            "[CV 5/5] END ...C=100, gamma=0.0001, kernel=rbf;, score=0.989 total time=   0.0s\n",
            "[CV 1/5] END .......C=1000, gamma=1, kernel=rbf;, score=0.053 total time=   0.0s\n",
            "[CV 2/5] END .......C=1000, gamma=1, kernel=rbf;, score=0.007 total time=   0.0s\n",
            "[CV 3/5] END .......C=1000, gamma=1, kernel=rbf;, score=0.019 total time=   0.0s\n",
            "[CV 4/5] END .......C=1000, gamma=1, kernel=rbf;, score=0.053 total time=   0.0s\n",
            "[CV 5/5] END .......C=1000, gamma=1, kernel=rbf;, score=0.040 total time=   0.0s\n",
            "[CV 1/5] END .....C=1000, gamma=0.1, kernel=rbf;, score=0.910 total time=   0.0s\n",
            "[CV 2/5] END .....C=1000, gamma=0.1, kernel=rbf;, score=0.850 total time=   0.0s\n",
            "[CV 3/5] END .....C=1000, gamma=0.1, kernel=rbf;, score=0.838 total time=   0.0s\n",
            "[CV 4/5] END .....C=1000, gamma=0.1, kernel=rbf;, score=0.881 total time=   0.0s\n",
            "[CV 5/5] END .....C=1000, gamma=0.1, kernel=rbf;, score=0.884 total time=   0.0s\n",
            "[CV 1/5] END ....C=1000, gamma=0.01, kernel=rbf;, score=0.994 total time=   0.0s\n",
            "[CV 2/5] END ....C=1000, gamma=0.01, kernel=rbf;, score=0.989 total time=   0.0s\n",
            "[CV 3/5] END ....C=1000, gamma=0.01, kernel=rbf;, score=0.992 total time=   0.0s\n",
            "[CV 4/5] END ....C=1000, gamma=0.01, kernel=rbf;, score=0.989 total time=   0.0s\n",
            "[CV 5/5] END ....C=1000, gamma=0.01, kernel=rbf;, score=0.994 total time=   0.0s\n",
            "[CV 1/5] END ...C=1000, gamma=0.001, kernel=rbf;, score=0.997 total time=   0.1s\n",
            "[CV 2/5] END ...C=1000, gamma=0.001, kernel=rbf;, score=0.997 total time=   0.1s\n",
            "[CV 3/5] END ...C=1000, gamma=0.001, kernel=rbf;, score=0.986 total time=   0.1s\n",
            "[CV 4/5] END ...C=1000, gamma=0.001, kernel=rbf;, score=0.990 total time=   0.1s\n",
            "[CV 5/5] END ...C=1000, gamma=0.001, kernel=rbf;, score=0.997 total time=   0.1s\n",
            "[CV 1/5] END ..C=1000, gamma=0.0001, kernel=rbf;, score=0.998 total time=   0.0s\n",
            "[CV 2/5] END ..C=1000, gamma=0.0001, kernel=rbf;, score=0.999 total time=   0.0s\n",
            "[CV 3/5] END ..C=1000, gamma=0.0001, kernel=rbf;, score=0.986 total time=   0.0s\n",
            "[CV 4/5] END ..C=1000, gamma=0.0001, kernel=rbf;, score=0.987 total time=   0.0s\n",
            "[CV 5/5] END ..C=1000, gamma=0.0001, kernel=rbf;, score=0.995 total time=   0.0s\n",
            "Fitting 5 folds for each of 25 candidates, totalling 125 fits\n",
            "[CV 1/5] END .......C=0.1, gamma=1, kernel=rbf;, score=-0.071 total time=   0.0s\n",
            "[CV 2/5] END ........C=0.1, gamma=1, kernel=rbf;, score=0.135 total time=   0.0s\n",
            "[CV 3/5] END .......C=0.1, gamma=1, kernel=rbf;, score=-0.085 total time=   0.0s\n",
            "[CV 4/5] END ........C=0.1, gamma=1, kernel=rbf;, score=0.074 total time=   0.0s\n",
            "[CV 5/5] END ........C=0.1, gamma=1, kernel=rbf;, score=0.064 total time=   0.0s\n",
            "[CV 1/5] END ......C=0.1, gamma=0.1, kernel=rbf;, score=0.586 total time=   0.0s\n",
            "[CV 2/5] END ......C=0.1, gamma=0.1, kernel=rbf;, score=0.617 total time=   0.0s\n",
            "[CV 3/5] END ......C=0.1, gamma=0.1, kernel=rbf;, score=0.492 total time=   0.0s\n",
            "[CV 4/5] END ......C=0.1, gamma=0.1, kernel=rbf;, score=0.641 total time=   0.0s\n",
            "[CV 5/5] END ......C=0.1, gamma=0.1, kernel=rbf;, score=0.596 total time=   0.0s\n",
            "[CV 1/5] END .....C=0.1, gamma=0.01, kernel=rbf;, score=0.476 total time=   0.0s\n",
            "[CV 2/5] END .....C=0.1, gamma=0.01, kernel=rbf;, score=0.608 total time=   0.0s\n",
            "[CV 3/5] END .....C=0.1, gamma=0.01, kernel=rbf;, score=0.499 total time=   0.0s\n",
            "[CV 4/5] END .....C=0.1, gamma=0.01, kernel=rbf;, score=0.561 total time=   0.0s\n",
            "[CV 5/5] END .....C=0.1, gamma=0.01, kernel=rbf;, score=0.528 total time=   0.0s\n",
            "[CV 1/5] END ...C=0.1, gamma=0.001, kernel=rbf;, score=-0.061 total time=   0.0s\n",
            "[CV 2/5] END ....C=0.1, gamma=0.001, kernel=rbf;, score=0.141 total time=   0.0s\n",
            "[CV 3/5] END ...C=0.1, gamma=0.001, kernel=rbf;, score=-0.023 total time=   0.0s\n",
            "[CV 4/5] END ....C=0.1, gamma=0.001, kernel=rbf;, score=0.071 total time=   0.0s\n",
            "[CV 5/5] END ....C=0.1, gamma=0.001, kernel=rbf;, score=0.054 total time=   0.0s\n",
            "[CV 1/5] END ..C=0.1, gamma=0.0001, kernel=rbf;, score=-0.200 total time=   0.0s\n",
            "[CV 2/5] END ..C=0.1, gamma=0.0001, kernel=rbf;, score=-0.008 total time=   0.0s\n",
            "[CV 3/5] END ..C=0.1, gamma=0.0001, kernel=rbf;, score=-0.165 total time=   0.0s\n",
            "[CV 4/5] END ..C=0.1, gamma=0.0001, kernel=rbf;, score=-0.068 total time=   0.0s\n",
            "[CV 5/5] END ..C=0.1, gamma=0.0001, kernel=rbf;, score=-0.073 total time=   0.0s\n",
            "[CV 1/5] END ..........C=1, gamma=1, kernel=rbf;, score=0.514 total time=   0.0s\n",
            "[CV 2/5] END ..........C=1, gamma=1, kernel=rbf;, score=0.503 total time=   0.0s\n",
            "[CV 3/5] END ..........C=1, gamma=1, kernel=rbf;, score=0.345 total time=   0.0s\n",
            "[CV 4/5] END ..........C=1, gamma=1, kernel=rbf;, score=0.564 total time=   0.0s\n",
            "[CV 5/5] END ..........C=1, gamma=1, kernel=rbf;, score=0.529 total time=   0.0s\n",
            "[CV 1/5] END ........C=1, gamma=0.1, kernel=rbf;, score=0.820 total time=   0.0s\n",
            "[CV 2/5] END ........C=1, gamma=0.1, kernel=rbf;, score=0.807 total time=   0.0s\n",
            "[CV 3/5] END ........C=1, gamma=0.1, kernel=rbf;, score=0.797 total time=   0.0s\n",
            "[CV 4/5] END ........C=1, gamma=0.1, kernel=rbf;, score=0.823 total time=   0.0s\n",
            "[CV 5/5] END ........C=1, gamma=0.1, kernel=rbf;, score=0.841 total time=   0.0s\n",
            "[CV 1/5] END .......C=1, gamma=0.01, kernel=rbf;, score=0.780 total time=   0.0s\n",
            "[CV 2/5] END .......C=1, gamma=0.01, kernel=rbf;, score=0.831 total time=   0.0s\n",
            "[CV 3/5] END .......C=1, gamma=0.01, kernel=rbf;, score=0.821 total time=   0.0s\n",
            "[CV 4/5] END .......C=1, gamma=0.01, kernel=rbf;, score=0.805 total time=   0.0s\n",
            "[CV 5/5] END .......C=1, gamma=0.01, kernel=rbf;, score=0.807 total time=   0.0s\n",
            "[CV 1/5] END ......C=1, gamma=0.001, kernel=rbf;, score=0.516 total time=   0.0s\n",
            "[CV 2/5] END ......C=1, gamma=0.001, kernel=rbf;, score=0.641 total time=   0.0s\n",
            "[CV 3/5] END ......C=1, gamma=0.001, kernel=rbf;, score=0.548 total time=   0.0s\n",
            "[CV 4/5] END ......C=1, gamma=0.001, kernel=rbf;, score=0.598 total time=   0.0s\n",
            "[CV 5/5] END ......C=1, gamma=0.001, kernel=rbf;, score=0.551 total time=   0.0s\n",
            "[CV 1/5] END ....C=1, gamma=0.0001, kernel=rbf;, score=-0.057 total time=   0.0s\n",
            "[CV 2/5] END .....C=1, gamma=0.0001, kernel=rbf;, score=0.148 total time=   0.0s\n",
            "[CV 3/5] END ....C=1, gamma=0.0001, kernel=rbf;, score=-0.017 total time=   0.0s\n",
            "[CV 4/5] END .....C=1, gamma=0.0001, kernel=rbf;, score=0.076 total time=   0.0s\n",
            "[CV 5/5] END .....C=1, gamma=0.0001, kernel=rbf;, score=0.058 total time=   0.0s\n",
            "[CV 1/5] END .........C=10, gamma=1, kernel=rbf;, score=0.715 total time=   0.0s\n",
            "[CV 2/5] END .........C=10, gamma=1, kernel=rbf;, score=0.542 total time=   0.0s\n",
            "[CV 3/5] END .........C=10, gamma=1, kernel=rbf;, score=0.557 total time=   0.0s\n",
            "[CV 4/5] END .........C=10, gamma=1, kernel=rbf;, score=0.657 total time=   0.0s\n",
            "[CV 5/5] END .........C=10, gamma=1, kernel=rbf;, score=0.674 total time=   0.0s\n",
            "[CV 1/5] END .......C=10, gamma=0.1, kernel=rbf;, score=0.831 total time=   0.0s\n",
            "[CV 2/5] END .......C=10, gamma=0.1, kernel=rbf;, score=0.822 total time=   0.0s\n",
            "[CV 3/5] END .......C=10, gamma=0.1, kernel=rbf;, score=0.828 total time=   0.0s\n",
            "[CV 4/5] END .......C=10, gamma=0.1, kernel=rbf;, score=0.825 total time=   0.0s\n",
            "[CV 5/5] END .......C=10, gamma=0.1, kernel=rbf;, score=0.855 total time=   0.0s\n",
            "[CV 1/5] END ......C=10, gamma=0.01, kernel=rbf;, score=0.845 total time=   0.0s\n",
            "[CV 2/5] END ......C=10, gamma=0.01, kernel=rbf;, score=0.871 total time=   0.0s\n",
            "[CV 3/5] END ......C=10, gamma=0.01, kernel=rbf;, score=0.878 total time=   0.0s\n",
            "[CV 4/5] END ......C=10, gamma=0.01, kernel=rbf;, score=0.841 total time=   0.0s\n",
            "[CV 5/5] END ......C=10, gamma=0.01, kernel=rbf;, score=0.871 total time=   0.0s\n",
            "[CV 1/5] END .....C=10, gamma=0.001, kernel=rbf;, score=0.732 total time=   0.0s\n",
            "[CV 2/5] END .....C=10, gamma=0.001, kernel=rbf;, score=0.759 total time=   0.0s\n",
            "[CV 3/5] END .....C=10, gamma=0.001, kernel=rbf;, score=0.774 total time=   0.0s\n",
            "[CV 4/5] END .....C=10, gamma=0.001, kernel=rbf;, score=0.763 total time=   0.0s\n",
            "[CV 5/5] END .....C=10, gamma=0.001, kernel=rbf;, score=0.740 total time=   0.0s\n",
            "[CV 1/5] END ....C=10, gamma=0.0001, kernel=rbf;, score=0.517 total time=   0.0s\n",
            "[CV 2/5] END ....C=10, gamma=0.0001, kernel=rbf;, score=0.643 total time=   0.0s\n",
            "[CV 3/5] END ....C=10, gamma=0.0001, kernel=rbf;, score=0.555 total time=   0.0s\n",
            "[CV 4/5] END ....C=10, gamma=0.0001, kernel=rbf;, score=0.598 total time=   0.0s\n",
            "[CV 5/5] END ....C=10, gamma=0.0001, kernel=rbf;, score=0.549 total time=   0.0s\n",
            "[CV 1/5] END ........C=100, gamma=1, kernel=rbf;, score=0.685 total time=   0.0s\n",
            "[CV 2/5] END ........C=100, gamma=1, kernel=rbf;, score=0.528 total time=   0.0s\n",
            "[CV 3/5] END ........C=100, gamma=1, kernel=rbf;, score=0.558 total time=   0.0s\n",
            "[CV 4/5] END ........C=100, gamma=1, kernel=rbf;, score=0.656 total time=   0.0s\n",
            "[CV 5/5] END ........C=100, gamma=1, kernel=rbf;, score=0.662 total time=   0.0s\n",
            "[CV 1/5] END ......C=100, gamma=0.1, kernel=rbf;, score=0.798 total time=   0.1s\n",
            "[CV 2/5] END ......C=100, gamma=0.1, kernel=rbf;, score=0.707 total time=   0.1s\n",
            "[CV 3/5] END ......C=100, gamma=0.1, kernel=rbf;, score=0.775 total time=   0.1s\n",
            "[CV 4/5] END ......C=100, gamma=0.1, kernel=rbf;, score=0.782 total time=   0.2s\n",
            "[CV 5/5] END ......C=100, gamma=0.1, kernel=rbf;, score=0.827 total time=   0.1s\n",
            "[CV 1/5] END .....C=100, gamma=0.01, kernel=rbf;, score=0.853 total time=   0.0s\n",
            "[CV 2/5] END .....C=100, gamma=0.01, kernel=rbf;, score=0.874 total time=   0.0s\n",
            "[CV 3/5] END .....C=100, gamma=0.01, kernel=rbf;, score=0.881 total time=   0.0s\n",
            "[CV 4/5] END .....C=100, gamma=0.01, kernel=rbf;, score=0.851 total time=   0.0s\n",
            "[CV 5/5] END .....C=100, gamma=0.01, kernel=rbf;, score=0.873 total time=   0.0s\n",
            "[CV 1/5] END ....C=100, gamma=0.001, kernel=rbf;, score=0.798 total time=   0.0s\n",
            "[CV 2/5] END ....C=100, gamma=0.001, kernel=rbf;, score=0.845 total time=   0.0s\n",
            "[CV 3/5] END ....C=100, gamma=0.001, kernel=rbf;, score=0.854 total time=   0.0s\n",
            "[CV 4/5] END ....C=100, gamma=0.001, kernel=rbf;, score=0.818 total time=   0.0s\n",
            "[CV 5/5] END ....C=100, gamma=0.001, kernel=rbf;, score=0.829 total time=   0.0s\n",
            "[CV 1/5] END ...C=100, gamma=0.0001, kernel=rbf;, score=0.714 total time=   0.0s\n",
            "[CV 2/5] END ...C=100, gamma=0.0001, kernel=rbf;, score=0.726 total time=   0.0s\n",
            "[CV 3/5] END ...C=100, gamma=0.0001, kernel=rbf;, score=0.748 total time=   0.0s\n",
            "[CV 4/5] END ...C=100, gamma=0.0001, kernel=rbf;, score=0.743 total time=   0.0s\n",
            "[CV 5/5] END ...C=100, gamma=0.0001, kernel=rbf;, score=0.717 total time=   0.0s\n",
            "[CV 1/5] END .......C=1000, gamma=1, kernel=rbf;, score=0.685 total time=   0.0s\n",
            "[CV 2/5] END .......C=1000, gamma=1, kernel=rbf;, score=0.528 total time=   0.0s\n",
            "[CV 3/5] END .......C=1000, gamma=1, kernel=rbf;, score=0.558 total time=   0.0s\n",
            "[CV 4/5] END .......C=1000, gamma=1, kernel=rbf;, score=0.656 total time=   0.0s\n",
            "[CV 5/5] END .......C=1000, gamma=1, kernel=rbf;, score=0.662 total time=   0.0s\n",
            "[CV 1/5] END .....C=1000, gamma=0.1, kernel=rbf;, score=0.449 total time=   1.1s\n",
            "[CV 2/5] END .....C=1000, gamma=0.1, kernel=rbf;, score=0.262 total time=   1.2s\n",
            "[CV 3/5] END .....C=1000, gamma=0.1, kernel=rbf;, score=0.570 total time=   1.0s\n",
            "[CV 4/5] END .....C=1000, gamma=0.1, kernel=rbf;, score=0.485 total time=   1.5s\n",
            "[CV 5/5] END .....C=1000, gamma=0.1, kernel=rbf;, score=0.621 total time=   1.9s\n",
            "[CV 1/5] END ....C=1000, gamma=0.01, kernel=rbf;, score=0.833 total time=   0.6s\n",
            "[CV 2/5] END ....C=1000, gamma=0.01, kernel=rbf;, score=0.874 total time=   0.3s\n",
            "[CV 3/5] END ....C=1000, gamma=0.01, kernel=rbf;, score=0.855 total time=   0.3s\n",
            "[CV 4/5] END ....C=1000, gamma=0.01, kernel=rbf;, score=0.846 total time=   0.2s\n",
            "[CV 5/5] END ....C=1000, gamma=0.01, kernel=rbf;, score=0.865 total time=   0.3s\n",
            "[CV 1/5] END ...C=1000, gamma=0.001, kernel=rbf;, score=0.844 total time=   0.0s\n",
            "[CV 2/5] END ...C=1000, gamma=0.001, kernel=rbf;, score=0.858 total time=   0.0s\n",
            "[CV 3/5] END ...C=1000, gamma=0.001, kernel=rbf;, score=0.873 total time=   0.0s\n",
            "[CV 4/5] END ...C=1000, gamma=0.001, kernel=rbf;, score=0.837 total time=   0.0s\n",
            "[CV 5/5] END ...C=1000, gamma=0.001, kernel=rbf;, score=0.865 total time=   0.0s\n",
            "[CV 1/5] END ..C=1000, gamma=0.0001, kernel=rbf;, score=0.747 total time=   0.0s\n",
            "[CV 2/5] END ..C=1000, gamma=0.0001, kernel=rbf;, score=0.758 total time=   0.0s\n",
            "[CV 3/5] END ..C=1000, gamma=0.0001, kernel=rbf;, score=0.786 total time=   0.0s\n",
            "[CV 4/5] END ..C=1000, gamma=0.0001, kernel=rbf;, score=0.771 total time=   0.0s\n",
            "[CV 5/5] END ..C=1000, gamma=0.0001, kernel=rbf;, score=0.758 total time=   0.0s\n"
          ]
        },
        {
          "output_type": "execute_result",
          "data": {
            "text/plain": [
              "GridSearchCV(estimator=SVR(),\n",
              "             param_grid={'C': [0.1, 1, 10, 100, 1000],\n",
              "                         'gamma': [1, 0.1, 0.01, 0.001, 0.0001],\n",
              "                         'kernel': ['rbf']},\n",
              "             verbose=3)"
            ],
            "text/html": [
              "<style>#sk-container-id-5 {color: black;background-color: white;}#sk-container-id-5 pre{padding: 0;}#sk-container-id-5 div.sk-toggleable {background-color: white;}#sk-container-id-5 label.sk-toggleable__label {cursor: pointer;display: block;width: 100%;margin-bottom: 0;padding: 0.3em;box-sizing: border-box;text-align: center;}#sk-container-id-5 label.sk-toggleable__label-arrow:before {content: \"▸\";float: left;margin-right: 0.25em;color: #696969;}#sk-container-id-5 label.sk-toggleable__label-arrow:hover:before {color: black;}#sk-container-id-5 div.sk-estimator:hover label.sk-toggleable__label-arrow:before {color: black;}#sk-container-id-5 div.sk-toggleable__content {max-height: 0;max-width: 0;overflow: hidden;text-align: left;background-color: #f0f8ff;}#sk-container-id-5 div.sk-toggleable__content pre {margin: 0.2em;color: black;border-radius: 0.25em;background-color: #f0f8ff;}#sk-container-id-5 input.sk-toggleable__control:checked~div.sk-toggleable__content {max-height: 200px;max-width: 100%;overflow: auto;}#sk-container-id-5 input.sk-toggleable__control:checked~label.sk-toggleable__label-arrow:before {content: \"▾\";}#sk-container-id-5 div.sk-estimator input.sk-toggleable__control:checked~label.sk-toggleable__label {background-color: #d4ebff;}#sk-container-id-5 div.sk-label input.sk-toggleable__control:checked~label.sk-toggleable__label {background-color: #d4ebff;}#sk-container-id-5 input.sk-hidden--visually {border: 0;clip: rect(1px 1px 1px 1px);clip: rect(1px, 1px, 1px, 1px);height: 1px;margin: -1px;overflow: hidden;padding: 0;position: absolute;width: 1px;}#sk-container-id-5 div.sk-estimator {font-family: monospace;background-color: #f0f8ff;border: 1px dotted black;border-radius: 0.25em;box-sizing: border-box;margin-bottom: 0.5em;}#sk-container-id-5 div.sk-estimator:hover {background-color: #d4ebff;}#sk-container-id-5 div.sk-parallel-item::after {content: \"\";width: 100%;border-bottom: 1px solid gray;flex-grow: 1;}#sk-container-id-5 div.sk-label:hover label.sk-toggleable__label {background-color: #d4ebff;}#sk-container-id-5 div.sk-serial::before {content: \"\";position: absolute;border-left: 1px solid gray;box-sizing: border-box;top: 0;bottom: 0;left: 50%;z-index: 0;}#sk-container-id-5 div.sk-serial {display: flex;flex-direction: column;align-items: center;background-color: white;padding-right: 0.2em;padding-left: 0.2em;position: relative;}#sk-container-id-5 div.sk-item {position: relative;z-index: 1;}#sk-container-id-5 div.sk-parallel {display: flex;align-items: stretch;justify-content: center;background-color: white;position: relative;}#sk-container-id-5 div.sk-item::before, #sk-container-id-5 div.sk-parallel-item::before {content: \"\";position: absolute;border-left: 1px solid gray;box-sizing: border-box;top: 0;bottom: 0;left: 50%;z-index: -1;}#sk-container-id-5 div.sk-parallel-item {display: flex;flex-direction: column;z-index: 1;position: relative;background-color: white;}#sk-container-id-5 div.sk-parallel-item:first-child::after {align-self: flex-end;width: 50%;}#sk-container-id-5 div.sk-parallel-item:last-child::after {align-self: flex-start;width: 50%;}#sk-container-id-5 div.sk-parallel-item:only-child::after {width: 0;}#sk-container-id-5 div.sk-dashed-wrapped {border: 1px dashed gray;margin: 0 0.4em 0.5em 0.4em;box-sizing: border-box;padding-bottom: 0.4em;background-color: white;}#sk-container-id-5 div.sk-label label {font-family: monospace;font-weight: bold;display: inline-block;line-height: 1.2em;}#sk-container-id-5 div.sk-label-container {text-align: center;}#sk-container-id-5 div.sk-container {/* jupyter's `normalize.less` sets `[hidden] { display: none; }` but bootstrap.min.css set `[hidden] { display: none !important; }` so we also need the `!important` here to be able to override the default hidden behavior on the sphinx rendered scikit-learn.org. See: https://github.com/scikit-learn/scikit-learn/issues/21755 */display: inline-block !important;position: relative;}#sk-container-id-5 div.sk-text-repr-fallback {display: none;}</style><div id=\"sk-container-id-5\" class=\"sk-top-container\"><div class=\"sk-text-repr-fallback\"><pre>GridSearchCV(estimator=SVR(),\n",
              "             param_grid={&#x27;C&#x27;: [0.1, 1, 10, 100, 1000],\n",
              "                         &#x27;gamma&#x27;: [1, 0.1, 0.01, 0.001, 0.0001],\n",
              "                         &#x27;kernel&#x27;: [&#x27;rbf&#x27;]},\n",
              "             verbose=3)</pre><b>In a Jupyter environment, please rerun this cell to show the HTML representation or trust the notebook. <br />On GitHub, the HTML representation is unable to render, please try loading this page with nbviewer.org.</b></div><div class=\"sk-container\" hidden><div class=\"sk-item sk-dashed-wrapped\"><div class=\"sk-label-container\"><div class=\"sk-label sk-toggleable\"><input class=\"sk-toggleable__control sk-hidden--visually\" id=\"sk-estimator-id-9\" type=\"checkbox\" ><label for=\"sk-estimator-id-9\" class=\"sk-toggleable__label sk-toggleable__label-arrow\">GridSearchCV</label><div class=\"sk-toggleable__content\"><pre>GridSearchCV(estimator=SVR(),\n",
              "             param_grid={&#x27;C&#x27;: [0.1, 1, 10, 100, 1000],\n",
              "                         &#x27;gamma&#x27;: [1, 0.1, 0.01, 0.001, 0.0001],\n",
              "                         &#x27;kernel&#x27;: [&#x27;rbf&#x27;]},\n",
              "             verbose=3)</pre></div></div></div><div class=\"sk-parallel\"><div class=\"sk-parallel-item\"><div class=\"sk-item\"><div class=\"sk-label-container\"><div class=\"sk-label sk-toggleable\"><input class=\"sk-toggleable__control sk-hidden--visually\" id=\"sk-estimator-id-10\" type=\"checkbox\" ><label for=\"sk-estimator-id-10\" class=\"sk-toggleable__label sk-toggleable__label-arrow\">estimator: SVR</label><div class=\"sk-toggleable__content\"><pre>SVR()</pre></div></div></div><div class=\"sk-serial\"><div class=\"sk-item\"><div class=\"sk-estimator sk-toggleable\"><input class=\"sk-toggleable__control sk-hidden--visually\" id=\"sk-estimator-id-11\" type=\"checkbox\" ><label for=\"sk-estimator-id-11\" class=\"sk-toggleable__label sk-toggleable__label-arrow\">SVR</label><div class=\"sk-toggleable__content\"><pre>SVR()</pre></div></div></div></div></div></div></div></div></div></div>"
            ]
          },
          "metadata": {},
          "execution_count": 121
        }
      ]
    },
    {
      "cell_type": "code",
      "source": [
        "print(grid.best_params_)\n",
        "print(grid2.best_params_)"
      ],
      "metadata": {
        "colab": {
          "base_uri": "https://localhost:8080/"
        },
        "id": "unpVPQSq7Jzu",
        "outputId": "88e14122-9aba-45d8-d0ad-76946056df5d"
      },
      "execution_count": 122,
      "outputs": [
        {
          "output_type": "stream",
          "name": "stdout",
          "text": [
            "{'C': 1000, 'gamma': 0.001, 'kernel': 'rbf'}\n",
            "{'C': 100, 'gamma': 0.01, 'kernel': 'rbf'}\n"
          ]
        }
      ]
    },
    {
      "cell_type": "code",
      "source": [
        "print(grid.best_estimator_)\n",
        "print(grid2.best_estimator_)"
      ],
      "metadata": {
        "colab": {
          "base_uri": "https://localhost:8080/"
        },
        "id": "6YeUgn3J7NfZ",
        "outputId": "a828ff5b-b947-4b7f-9eaa-9a24b6e423d6"
      },
      "execution_count": 123,
      "outputs": [
        {
          "output_type": "stream",
          "name": "stdout",
          "text": [
            "SVR(C=1000, gamma=0.001)\n",
            "SVR(C=100, gamma=0.01)\n"
          ]
        }
      ]
    },
    {
      "cell_type": "code",
      "source": [
        "grid_predictions = grid.predict(X_test_scaled)\n",
        "grid2_pred = grid2.predict(X_test_pca)"
      ],
      "metadata": {
        "id": "rsrHFjGn7bql"
      },
      "execution_count": 124,
      "outputs": []
    },
    {
      "cell_type": "code",
      "source": [
        "mae = mean_absolute_error(y_test, grid_predictions)\n",
        "mse = mean_squared_error(y_test, grid_predictions)\n",
        "r2 = r2_score(y_test, grid_predictions)\n",
        "rmse = np.sqrt(mse)\n",
        "print(\"MAE:\", mae)\n",
        "print(\"MSE:\", mse)\n",
        "print(\"R2:\", r2)\n",
        "print(\"RMSE:\", rmse)"
      ],
      "metadata": {
        "colab": {
          "base_uri": "https://localhost:8080/"
        },
        "id": "6z-pNglP7gS2",
        "outputId": "8a6fcc70-9f50-47d3-fedd-dbd29a6af594"
      },
      "execution_count": 125,
      "outputs": [
        {
          "output_type": "stream",
          "name": "stdout",
          "text": [
            "MAE: 0.11298333262873295\n",
            "MSE: 0.037135623615621366\n",
            "R2: 0.9938263179409276\n",
            "RMSE: 0.19270605495318865\n"
          ]
        }
      ]
    },
    {
      "cell_type": "code",
      "source": [
        "mae = mean_absolute_error(y_test, grid2_pred)\n",
        "mse = mean_squared_error(y_test, grid2_pred)\n",
        "r2 = r2_score(y_test, grid2_pred)\n",
        "rmse = np.sqrt(mse)\n",
        "print(\"MAE:\", mae)\n",
        "print(\"MSE:\", mse)\n",
        "print(\"R2:\", r2)\n",
        "print(\"RMSE:\", rmse)"
      ],
      "metadata": {
        "colab": {
          "base_uri": "https://localhost:8080/"
        },
        "id": "ZDDIspKE805i",
        "outputId": "1b4bfe8f-334f-4100-9a5f-b8a68a964fa2"
      },
      "execution_count": 126,
      "outputs": [
        {
          "output_type": "stream",
          "name": "stdout",
          "text": [
            "MAE: 0.5893117045879118\n",
            "MSE: 0.593715601591112\n",
            "R2: 0.9012966256962882\n",
            "RMSE: 0.7705294294127331\n"
          ]
        }
      ]
    },
    {
      "cell_type": "code",
      "source": [
        "# Prediction Error Display\n",
        "display = PredictionErrorDisplay(y_true=y_test, y_pred=grid_predictions)\n",
        "display.plot()"
      ],
      "metadata": {
        "colab": {
          "base_uri": "https://localhost:8080/",
          "height": 296
        },
        "id": "AlE2G9xD9fIz",
        "outputId": "06c7c68a-92be-4532-c47d-54a6295affed"
      },
      "execution_count": 127,
      "outputs": [
        {
          "output_type": "execute_result",
          "data": {
            "text/plain": [
              "<sklearn.metrics._plot.regression.PredictionErrorDisplay at 0x7fd458559580>"
            ]
          },
          "metadata": {},
          "execution_count": 127
        },
        {
          "output_type": "display_data",
          "data": {
            "text/plain": [
              "<Figure size 432x288 with 1 Axes>"
            ],
            "image/png": "[encoded data removed]"
          },
          "metadata": {
            "needs_background": "light"
          }
        }
      ]
    },
    {
      "cell_type": "code",
      "source": [
        "display = PredictionErrorDisplay(y_true=y_test, y_pred=grid2_pred)\n",
        "display.plot()"
      ],
      "metadata": {
        "colab": {
          "base_uri": "https://localhost:8080/",
          "height": 296
        },
        "id": "7cNWtAkQ-CLs",
        "outputId": "bb8ab5a0-9651-4b3e-b3c0-97eb8fb0663a"
      },
      "execution_count": 128,
      "outputs": [
        {
          "output_type": "execute_result",
          "data": {
            "text/plain": [
              "<sklearn.metrics._plot.regression.PredictionErrorDisplay at 0x7fd4584dfa00>"
            ]
          },
          "metadata": {},
          "execution_count": 128
        },
        {
          "output_type": "display_data",
          "data": {
            "text/plain": [
              "<Figure size 432x288 with 1 Axes>"
            ],
            "image/png": "[encoded data removed]"
          },
          "metadata": {
            "needs_background": "light"
          }
        }
      ]
    }
  ],
  "metadata": {
    "colab": {
      "provenance": [],
      "collapsed_sections": [
        "RjYocDIVSjeX"
      ],
      "toc_visible": true
    },
    "kernelspec": {
      "display_name": "Python 3 (ipykernel)",
      "language": "python",
      "name": "python3"
    },
    "language_info": {
      "codemirror_mode": {
        "name": "ipython",
        "version": 3
      },
      "file_extension": ".py",
      "mimetype": "text/x-python",
      "name": "python",
      "nbconvert_exporter": "python",
      "pygments_lexer": "ipython3",
      "version": "3.9.13"
    }
  },
  "nbformat": 4,
  "nbformat_minor": 0
}